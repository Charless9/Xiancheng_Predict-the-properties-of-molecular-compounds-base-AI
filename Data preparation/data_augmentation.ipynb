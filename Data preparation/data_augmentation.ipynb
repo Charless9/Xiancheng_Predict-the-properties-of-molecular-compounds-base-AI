{
 "cells": [
  {
   "cell_type": "code",
   "execution_count": 1,
   "id": "fd20f1ac",
   "metadata": {},
   "outputs": [],
   "source": [
    "import pandas as pd\n",
    "from rdkit import Chem"
   ]
  },
  {
   "cell_type": "code",
   "execution_count": 2,
   "id": "7a7153ac",
   "metadata": {},
   "outputs": [],
   "source": [
    "def generate_variants_smiles_with_labels(row, num_variants=1):\n",
    "    variant_rows = []\n",
    "    smiles = row['SMILES']\n",
    "    mol = Chem.MolFromSmiles(smiles)\n",
    "    if mol is not None:\n",
    "        for _ in range(num_variants):\n",
    "            Chem.Kekulize(mol, clearAromaticFlags=True)\n",
    "            variant_smiles = Chem.MolToSmiles(mol, canonical=False, doRandom=True, isomericSmiles=False)\n",
    "            new_row = row.copy()\n",
    "            new_row['SMILES'] = variant_smiles\n",
    "            variant_rows.append(new_row)\n",
    "    return variant_rows"
   ]
  },
  {
   "cell_type": "code",
   "execution_count": 3,
   "id": "a83e9568",
   "metadata": {},
   "outputs": [],
   "source": [
    "def smiles_augmentation(df, original_multiplier=1, num_variants=0):\n",
    "    augmented_rows = []\n",
    "    for _, row in df.iterrows():\n",
    "        for _ in range(original_multiplier): \n",
    "            augmented_rows.append(row.copy())\n",
    "        if num_variants > 0:\n",
    "            augmented_rows.extend(generate_variants_smiles_with_labels(row, num_variants))\n",
    "    augmented_df = pd.DataFrame(augmented_rows).reset_index(drop=True)\n",
    "    return augmented_df"
   ]
  }
 ],
 "metadata": {
  "kernelspec": {
   "display_name": "Python 3 (ipykernel)",
   "language": "python",
   "name": "python3"
  },
  "language_info": {
   "codemirror_mode": {
    "name": "ipython",
    "version": 3
   },
   "file_extension": ".py",
   "mimetype": "text/x-python",
   "name": "python",
   "nbconvert_exporter": "python",
   "pygments_lexer": "ipython3",
   "version": "3.11.4"
  }
 },
 "nbformat": 4,
 "nbformat_minor": 5
}
