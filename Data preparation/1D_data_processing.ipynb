{
 "cells": [
  {
   "cell_type": "code",
   "execution_count": 1,
   "id": "0a40b983",
   "metadata": {},
   "outputs": [],
   "source": [
    "from rdkit import Chem\n",
    "import pandas as pd\n",
    "import numpy as np"
   ]
  },
  {
   "cell_type": "code",
   "execution_count": 2,
   "id": "323c4bfe",
   "metadata": {},
   "outputs": [],
   "source": [
    "train_file='../dataset/trainset.csv'\n",
    "test_file='../dataset/testset.csv'"
   ]
  },
  {
   "cell_type": "code",
   "execution_count": 3,
   "id": "7bb3c5aa",
   "metadata": {},
   "outputs": [],
   "source": [
    "train_pd=pd.read_csv(train_file)\n",
    "test_pd=pd.read_csv(test_file)"
   ]
  },
  {
   "cell_type": "markdown",
   "id": "ac895e55",
   "metadata": {},
   "source": [
    "# View the basics of the dataset"
   ]
  },
  {
   "cell_type": "code",
   "execution_count": 4,
   "id": "6d742da9",
   "metadata": {},
   "outputs": [
    {
     "data": {
      "text/html": [
       "<div>\n",
       "<style scoped>\n",
       "    .dataframe tbody tr th:only-of-type {\n",
       "        vertical-align: middle;\n",
       "    }\n",
       "\n",
       "    .dataframe tbody tr th {\n",
       "        vertical-align: top;\n",
       "    }\n",
       "\n",
       "    .dataframe thead th {\n",
       "        text-align: right;\n",
       "    }\n",
       "</style>\n",
       "<table border=\"1\" class=\"dataframe\">\n",
       "  <thead>\n",
       "    <tr style=\"text-align: right;\">\n",
       "      <th></th>\n",
       "      <th>ID</th>\n",
       "      <th>SMILES</th>\n",
       "      <th>Label</th>\n",
       "    </tr>\n",
       "  </thead>\n",
       "  <tbody>\n",
       "    <tr>\n",
       "      <th>0</th>\n",
       "      <td>1</td>\n",
       "      <td>CN(C)C(=N)N=C(N)N</td>\n",
       "      <td>Negative</td>\n",
       "    </tr>\n",
       "    <tr>\n",
       "      <th>1</th>\n",
       "      <td>2</td>\n",
       "      <td>COC(=O)C=CC(O)=O</td>\n",
       "      <td>Negative</td>\n",
       "    </tr>\n",
       "    <tr>\n",
       "      <th>2</th>\n",
       "      <td>3</td>\n",
       "      <td>OC(=O)C=CC1=CC=CC=C1</td>\n",
       "      <td>Negative</td>\n",
       "    </tr>\n",
       "    <tr>\n",
       "      <th>3</th>\n",
       "      <td>4</td>\n",
       "      <td>CC(C)C1=CC(O)=C(C)C=C1</td>\n",
       "      <td>Negative</td>\n",
       "    </tr>\n",
       "    <tr>\n",
       "      <th>4</th>\n",
       "      <td>5</td>\n",
       "      <td>COC1=CC=C(C=C1)C(O)=O</td>\n",
       "      <td>Negative</td>\n",
       "    </tr>\n",
       "  </tbody>\n",
       "</table>\n",
       "</div>"
      ],
      "text/plain": [
       "   ID                  SMILES     Label\n",
       "0   1       CN(C)C(=N)N=C(N)N  Negative\n",
       "1   2        COC(=O)C=CC(O)=O  Negative\n",
       "2   3    OC(=O)C=CC1=CC=CC=C1  Negative\n",
       "3   4  CC(C)C1=CC(O)=C(C)C=C1  Negative\n",
       "4   5   COC1=CC=C(C=C1)C(O)=O  Negative"
      ]
     },
     "execution_count": 4,
     "metadata": {},
     "output_type": "execute_result"
    }
   ],
   "source": [
    "train_pd.head()"
   ]
  },
  {
   "cell_type": "code",
   "execution_count": 5,
   "id": "7e3fbc19",
   "metadata": {},
   "outputs": [
    {
     "data": {
      "text/html": [
       "<div>\n",
       "<style scoped>\n",
       "    .dataframe tbody tr th:only-of-type {\n",
       "        vertical-align: middle;\n",
       "    }\n",
       "\n",
       "    .dataframe tbody tr th {\n",
       "        vertical-align: top;\n",
       "    }\n",
       "\n",
       "    .dataframe thead th {\n",
       "        text-align: right;\n",
       "    }\n",
       "</style>\n",
       "<table border=\"1\" class=\"dataframe\">\n",
       "  <thead>\n",
       "    <tr style=\"text-align: right;\">\n",
       "      <th></th>\n",
       "      <th>ID</th>\n",
       "      <th>SMILES</th>\n",
       "      <th>Label</th>\n",
       "    </tr>\n",
       "  </thead>\n",
       "  <tbody>\n",
       "    <tr>\n",
       "      <th>0</th>\n",
       "      <td>1</td>\n",
       "      <td>CNC(=O)C1=CC=CC=C1SC2=CC3=C(C=C2)C(=NN3)C=CC4=...</td>\n",
       "      <td>Positive</td>\n",
       "    </tr>\n",
       "    <tr>\n",
       "      <th>1</th>\n",
       "      <td>2</td>\n",
       "      <td>CN1C=NC(=C1SC2=NC=NC3=C2NC=N3)[N+](=O)[O-]</td>\n",
       "      <td>Positive</td>\n",
       "    </tr>\n",
       "    <tr>\n",
       "      <th>2</th>\n",
       "      <td>3</td>\n",
       "      <td>CN(C)CCC(C1=CC=CC2=CC=CC=C21)(C(C3=CC=CC=C3)C4...</td>\n",
       "      <td>Positive</td>\n",
       "    </tr>\n",
       "    <tr>\n",
       "      <th>3</th>\n",
       "      <td>4</td>\n",
       "      <td>CC(C)(C)C1=CC=C(C=C1)S(=O)(=O)NC2=C(C(=NC(=N2)...</td>\n",
       "      <td>Positive</td>\n",
       "    </tr>\n",
       "    <tr>\n",
       "      <th>4</th>\n",
       "      <td>5</td>\n",
       "      <td>CN1CCN(CC1)CCCOC2=C(C=C3C(=C2)N=CC(=C3NC4=CC(=...</td>\n",
       "      <td>Positive</td>\n",
       "    </tr>\n",
       "  </tbody>\n",
       "</table>\n",
       "</div>"
      ],
      "text/plain": [
       "   ID                                             SMILES     Label\n",
       "0   1  CNC(=O)C1=CC=CC=C1SC2=CC3=C(C=C2)C(=NN3)C=CC4=...  Positive\n",
       "1   2         CN1C=NC(=C1SC2=NC=NC3=C2NC=N3)[N+](=O)[O-]  Positive\n",
       "2   3  CN(C)CCC(C1=CC=CC2=CC=CC=C21)(C(C3=CC=CC=C3)C4...  Positive\n",
       "3   4  CC(C)(C)C1=CC=C(C=C1)S(=O)(=O)NC2=C(C(=NC(=N2)...  Positive\n",
       "4   5  CN1CCN(CC1)CCCOC2=C(C=C3C(=C2)N=CC(=C3NC4=CC(=...  Positive"
      ]
     },
     "execution_count": 5,
     "metadata": {},
     "output_type": "execute_result"
    }
   ],
   "source": [
    "test_pd.head()"
   ]
  },
  {
   "cell_type": "code",
   "execution_count": 6,
   "id": "d886b0f6",
   "metadata": {},
   "outputs": [
    {
     "name": "stdout",
     "output_type": "stream",
     "text": [
      "<class 'pandas.core.frame.DataFrame'>\n",
      "RangeIndex: 1253 entries, 0 to 1252\n",
      "Data columns (total 3 columns):\n",
      " #   Column  Non-Null Count  Dtype \n",
      "---  ------  --------------  ----- \n",
      " 0   ID      1253 non-null   int64 \n",
      " 1   SMILES  1253 non-null   object\n",
      " 2   Label   1253 non-null   object\n",
      "dtypes: int64(1), object(2)\n",
      "memory usage: 29.5+ KB\n",
      "None\n"
     ]
    }
   ],
   "source": [
    "print(train_pd.info())"
   ]
  },
  {
   "cell_type": "code",
   "execution_count": 7,
   "id": "a3e09f98",
   "metadata": {},
   "outputs": [
    {
     "name": "stdout",
     "output_type": "stream",
     "text": [
      "<class 'pandas.core.frame.DataFrame'>\n",
      "RangeIndex: 208 entries, 0 to 207\n",
      "Data columns (total 3 columns):\n",
      " #   Column  Non-Null Count  Dtype \n",
      "---  ------  --------------  ----- \n",
      " 0   ID      208 non-null    int64 \n",
      " 1   SMILES  208 non-null    object\n",
      " 2   Label   208 non-null    object\n",
      "dtypes: int64(1), object(2)\n",
      "memory usage: 5.0+ KB\n",
      "None\n"
     ]
    }
   ],
   "source": [
    "print(test_pd.info())"
   ]
  },
  {
   "cell_type": "markdown",
   "id": "d649b3e7",
   "metadata": {},
   "source": [
    "# View if the compounds are duplicated"
   ]
  },
  {
   "cell_type": "code",
   "execution_count": 8,
   "id": "807923c7",
   "metadata": {},
   "outputs": [],
   "source": [
    "def check_duplicates(smiles_series):\n",
    "    duplicates = smiles_series.duplicated(keep=False).sum()\n",
    "    return duplicates"
   ]
  },
  {
   "cell_type": "code",
   "execution_count": 9,
   "id": "6587ea68",
   "metadata": {},
   "outputs": [
    {
     "name": "stdout",
     "output_type": "stream",
     "text": [
      "trainset duplicate count:\n",
      "0\n",
      "testset duplicate count:\n",
      "0\n"
     ]
    }
   ],
   "source": [
    "duplicates_train_count=check_duplicates(train_pd['SMILES'])\n",
    "duplicates_test_count=check_duplicates(test_pd['SMILES'])\n",
    "print(f\"trainset duplicate count:\\n{duplicates_train_count}\")\n",
    "print(f\"testset duplicate count:\\n{duplicates_test_count}\")"
   ]
  },
  {
   "cell_type": "markdown",
   "id": "b215a69a",
   "metadata": {},
   "source": [
    "# View label distribution"
   ]
  },
  {
   "cell_type": "code",
   "execution_count": 10,
   "id": "76070cf2",
   "metadata": {},
   "outputs": [
    {
     "name": "stdout",
     "output_type": "stream",
     "text": [
      "trainset:\n",
      "Positive    636\n",
      "Negative    617\n",
      "Name: Label, dtype: int64\n",
      "testset:\n",
      "Negative    114\n",
      "Positive     94\n",
      "Name: Label, dtype: int64\n"
     ]
    }
   ],
   "source": [
    "train_counts = train_pd['Label'].value_counts()\n",
    "test_counts = test_pd['Label'].value_counts()\n",
    "print(f\"trainset:\\n{train_counts}\")\n",
    "print(f\"testset:\\n{test_counts}\")"
   ]
  },
  {
   "cell_type": "markdown",
   "id": "ea0ee625",
   "metadata": {},
   "source": [
    "# View if SMILES are canonical"
   ]
  },
  {
   "cell_type": "code",
   "execution_count": 11,
   "id": "e45c4af3",
   "metadata": {},
   "outputs": [],
   "source": [
    "def check_smiles_canonicalization(smiles_list):\n",
    "    canonicalized_smiles=[]\n",
    "    canonical_count = 0\n",
    "    non_canonical_count = 0\n",
    "    invalid_count = 0\n",
    "    for smiles in smiles_list:\n",
    "        molecule = Chem.MolFromSmiles(smiles)\n",
    "        if molecule:\n",
    "            canonical_smiles = Chem.MolToSmiles(molecule, isomericSmiles=True)\n",
    "            if smiles == canonical_smiles:\n",
    "                canonical_count += 1\n",
    "            else:\n",
    "                non_canonical_count +=1\n",
    "            canonicalized_smiles.append(canonical_smiles)\n",
    "        else:\n",
    "            invalid_count +=1\n",
    "            \n",
    "    canonicalized_smiles_series = pd.Series(canonicalized_smiles)\n",
    "    \n",
    "    return canonical_count,non_canonical_count,invalid_count,canonicalized_smiles_series"
   ]
  },
  {
   "cell_type": "code",
   "execution_count": 12,
   "id": "ae7a98d8",
   "metadata": {},
   "outputs": [
    {
     "name": "stdout",
     "output_type": "stream",
     "text": [
      "count of canonical SMILES: 114\n",
      "count of non_canonical SMILES: 1139\n",
      "count of invalid SMILES: 0\n"
     ]
    }
   ],
   "source": [
    "canonical_count,non_canonical_count,invalid_count,canonicalized_smiles_series = check_smiles_canonicalization(train_pd['SMILES'])\n",
    "print(f\"count of canonical SMILES: {canonical_count}\")\n",
    "print(f\"count of non_canonical SMILES: {non_canonical_count}\")\n",
    "print(f\"count of invalid SMILES: {invalid_count}\")"
   ]
  },
  {
   "cell_type": "markdown",
   "id": "a74fe448",
   "metadata": {},
   "source": [
    "# View whether the canonicalized data are duplicated"
   ]
  },
  {
   "cell_type": "code",
   "execution_count": 13,
   "id": "f508d500",
   "metadata": {},
   "outputs": [
    {
     "name": "stdout",
     "output_type": "stream",
     "text": [
      "canonical trainset duplicate count:\n",
      "0\n"
     ]
    }
   ],
   "source": [
    "duplicates_count=check_duplicates(canonicalized_smiles_series)\n",
    "print(f\"canonical trainset duplicate count:\\n{duplicates_count}\")"
   ]
  },
  {
   "cell_type": "markdown",
   "id": "4dc42b36",
   "metadata": {},
   "source": [
    "# Generate a new Dataframe"
   ]
  },
  {
   "cell_type": "code",
   "execution_count": 14,
   "id": "5ce8d891",
   "metadata": {},
   "outputs": [],
   "source": [
    "canonical_df = pd.DataFrame({'SMILES': canonicalized_smiles_series, 'Label': train_pd['Label']})\n",
    "canonical_df.to_csv('../dataset/canonical_trainset.csv', index=False)"
   ]
  },
  {
   "cell_type": "code",
   "execution_count": null,
   "id": "2a34a7fd",
   "metadata": {},
   "outputs": [],
   "source": []
  }
 ],
 "metadata": {
  "kernelspec": {
   "display_name": "Python 3 (ipykernel)",
   "language": "python",
   "name": "python3"
  },
  "language_info": {
   "codemirror_mode": {
    "name": "ipython",
    "version": 3
   },
   "file_extension": ".py",
   "mimetype": "text/x-python",
   "name": "python",
   "nbconvert_exporter": "python",
   "pygments_lexer": "ipython3",
   "version": "3.11.4"
  }
 },
 "nbformat": 4,
 "nbformat_minor": 5
}
