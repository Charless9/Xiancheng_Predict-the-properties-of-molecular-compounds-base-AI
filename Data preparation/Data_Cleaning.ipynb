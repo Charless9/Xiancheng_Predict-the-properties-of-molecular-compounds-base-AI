{
 "cells": [
  {
   "cell_type": "code",
   "execution_count": 49,
   "id": "0a40b983",
   "metadata": {},
   "outputs": [],
   "source": [
    "from rdkit import Chem\n",
    "from rdkit.Chem import AllChem\n",
    "import pandas as pd\n",
    "import numpy as np\n",
    "from tqdm import tqdm"
   ]
  },
  {
   "cell_type": "code",
   "execution_count": 50,
   "id": "323c4bfe",
   "metadata": {},
   "outputs": [],
   "source": [
    "train_file='../dataset/trainset.csv'\n",
    "test_file='../dataset/testset.csv'"
   ]
  },
  {
   "cell_type": "code",
   "execution_count": 51,
   "id": "7bb3c5aa",
   "metadata": {},
   "outputs": [],
   "source": [
    "train_df=pd.read_csv(train_file)\n",
    "test_df=pd.read_csv(test_file)"
   ]
  },
  {
   "cell_type": "markdown",
   "id": "ac895e55",
   "metadata": {},
   "source": [
    "# View the basics of the dataset"
   ]
  },
  {
   "cell_type": "code",
   "execution_count": 52,
   "id": "6d742da9",
   "metadata": {},
   "outputs": [
    {
     "data": {
      "text/html": [
       "<div>\n",
       "<style scoped>\n",
       "    .dataframe tbody tr th:only-of-type {\n",
       "        vertical-align: middle;\n",
       "    }\n",
       "\n",
       "    .dataframe tbody tr th {\n",
       "        vertical-align: top;\n",
       "    }\n",
       "\n",
       "    .dataframe thead th {\n",
       "        text-align: right;\n",
       "    }\n",
       "</style>\n",
       "<table border=\"1\" class=\"dataframe\">\n",
       "  <thead>\n",
       "    <tr style=\"text-align: right;\">\n",
       "      <th></th>\n",
       "      <th>SMILES</th>\n",
       "      <th>Label</th>\n",
       "    </tr>\n",
       "  </thead>\n",
       "  <tbody>\n",
       "    <tr>\n",
       "      <th>0</th>\n",
       "      <td>CN(C)C(=N)N=C(N)N</td>\n",
       "      <td>Negative</td>\n",
       "    </tr>\n",
       "    <tr>\n",
       "      <th>1</th>\n",
       "      <td>COC(=O)C=CC(O)=O</td>\n",
       "      <td>Negative</td>\n",
       "    </tr>\n",
       "    <tr>\n",
       "      <th>2</th>\n",
       "      <td>OC(=O)C=CC1=CC=CC=C1</td>\n",
       "      <td>Negative</td>\n",
       "    </tr>\n",
       "    <tr>\n",
       "      <th>3</th>\n",
       "      <td>CC(C)C1=CC(O)=C(C)C=C1</td>\n",
       "      <td>Negative</td>\n",
       "    </tr>\n",
       "    <tr>\n",
       "      <th>4</th>\n",
       "      <td>COC1=CC=C(C=C1)C(O)=O</td>\n",
       "      <td>Negative</td>\n",
       "    </tr>\n",
       "  </tbody>\n",
       "</table>\n",
       "</div>"
      ],
      "text/plain": [
       "                   SMILES     Label\n",
       "0       CN(C)C(=N)N=C(N)N  Negative\n",
       "1        COC(=O)C=CC(O)=O  Negative\n",
       "2    OC(=O)C=CC1=CC=CC=C1  Negative\n",
       "3  CC(C)C1=CC(O)=C(C)C=C1  Negative\n",
       "4   COC1=CC=C(C=C1)C(O)=O  Negative"
      ]
     },
     "execution_count": 52,
     "metadata": {},
     "output_type": "execute_result"
    }
   ],
   "source": [
    "train_df.head()"
   ]
  },
  {
   "cell_type": "code",
   "execution_count": 53,
   "id": "7e3fbc19",
   "metadata": {},
   "outputs": [
    {
     "data": {
      "text/html": [
       "<div>\n",
       "<style scoped>\n",
       "    .dataframe tbody tr th:only-of-type {\n",
       "        vertical-align: middle;\n",
       "    }\n",
       "\n",
       "    .dataframe tbody tr th {\n",
       "        vertical-align: top;\n",
       "    }\n",
       "\n",
       "    .dataframe thead th {\n",
       "        text-align: right;\n",
       "    }\n",
       "</style>\n",
       "<table border=\"1\" class=\"dataframe\">\n",
       "  <thead>\n",
       "    <tr style=\"text-align: right;\">\n",
       "      <th></th>\n",
       "      <th>SMILES</th>\n",
       "      <th>Label</th>\n",
       "    </tr>\n",
       "  </thead>\n",
       "  <tbody>\n",
       "    <tr>\n",
       "      <th>0</th>\n",
       "      <td>CNC(=O)C1=CC=CC=C1SC2=CC3=C(C=C2)C(=NN3)C=CC4=...</td>\n",
       "      <td>Positive</td>\n",
       "    </tr>\n",
       "    <tr>\n",
       "      <th>1</th>\n",
       "      <td>CN1C=NC(=C1SC2=NC=NC3=C2NC=N3)[N+](=O)[O-]</td>\n",
       "      <td>Positive</td>\n",
       "    </tr>\n",
       "    <tr>\n",
       "      <th>2</th>\n",
       "      <td>CN(C)CCC(C1=CC=CC2=CC=CC=C21)(C(C3=CC=CC=C3)C4...</td>\n",
       "      <td>Positive</td>\n",
       "    </tr>\n",
       "    <tr>\n",
       "      <th>3</th>\n",
       "      <td>CC(C)(C)C1=CC=C(C=C1)S(=O)(=O)NC2=C(C(=NC(=N2)...</td>\n",
       "      <td>Positive</td>\n",
       "    </tr>\n",
       "    <tr>\n",
       "      <th>4</th>\n",
       "      <td>CN1CCN(CC1)CCCOC2=C(C=C3C(=C2)N=CC(=C3NC4=CC(=...</td>\n",
       "      <td>Positive</td>\n",
       "    </tr>\n",
       "  </tbody>\n",
       "</table>\n",
       "</div>"
      ],
      "text/plain": [
       "                                              SMILES     Label\n",
       "0  CNC(=O)C1=CC=CC=C1SC2=CC3=C(C=C2)C(=NN3)C=CC4=...  Positive\n",
       "1         CN1C=NC(=C1SC2=NC=NC3=C2NC=N3)[N+](=O)[O-]  Positive\n",
       "2  CN(C)CCC(C1=CC=CC2=CC=CC=C21)(C(C3=CC=CC=C3)C4...  Positive\n",
       "3  CC(C)(C)C1=CC=C(C=C1)S(=O)(=O)NC2=C(C(=NC(=N2)...  Positive\n",
       "4  CN1CCN(CC1)CCCOC2=C(C=C3C(=C2)N=CC(=C3NC4=CC(=...  Positive"
      ]
     },
     "execution_count": 53,
     "metadata": {},
     "output_type": "execute_result"
    }
   ],
   "source": [
    "test_df.head()"
   ]
  },
  {
   "cell_type": "code",
   "execution_count": 54,
   "id": "d886b0f6",
   "metadata": {},
   "outputs": [
    {
     "name": "stdout",
     "output_type": "stream",
     "text": [
      "<class 'pandas.core.frame.DataFrame'>\n",
      "RangeIndex: 1253 entries, 0 to 1252\n",
      "Data columns (total 2 columns):\n",
      " #   Column  Non-Null Count  Dtype \n",
      "---  ------  --------------  ----- \n",
      " 0   SMILES  1253 non-null   object\n",
      " 1   Label   1253 non-null   object\n",
      "dtypes: object(2)\n",
      "memory usage: 19.7+ KB\n",
      "None\n",
      "<class 'pandas.core.frame.DataFrame'>\n",
      "RangeIndex: 208 entries, 0 to 207\n",
      "Data columns (total 2 columns):\n",
      " #   Column  Non-Null Count  Dtype \n",
      "---  ------  --------------  ----- \n",
      " 0   SMILES  208 non-null    object\n",
      " 1   Label   208 non-null    object\n",
      "dtypes: object(2)\n",
      "memory usage: 3.4+ KB\n",
      "None\n"
     ]
    }
   ],
   "source": [
    "print(train_df.info())\n",
    "print(test_df.info())"
   ]
  },
  {
   "cell_type": "markdown",
   "id": "3615726b",
   "metadata": {},
   "source": [
    "# chaeck and remove duplicates row"
   ]
  },
  {
   "cell_type": "code",
   "execution_count": 55,
   "id": "9242a9fd",
   "metadata": {},
   "outputs": [],
   "source": [
    "def chaeck_remove_duplicates(df):\n",
    "    duplicated_smiles = df[df.duplicated('SMILES', keep=False)]\n",
    "    \n",
    "    if not duplicated_smiles.empty:\n",
    "        print(\"Duplicated SMILES found:\")\n",
    "        print(duplicated_smiles['SMILES'].unique())\n",
    "        df_cleaned = df.drop_duplicates('SMILES', keep='first')\n",
    "    else:\n",
    "        print(\"No duplicated SMILES found.\")\n",
    "        df_cleaned = df\n",
    "    return df_cleaned"
   ]
  },
  {
   "cell_type": "code",
   "execution_count": 56,
   "id": "adb720e0",
   "metadata": {},
   "outputs": [
    {
     "name": "stdout",
     "output_type": "stream",
     "text": [
      "No duplicated SMILES found.\n",
      "No duplicated SMILES found.\n"
     ]
    }
   ],
   "source": [
    "train_cleaned_df = chaeck_remove_duplicates(train_df)\n",
    "test_cleaned_df = chaeck_remove_duplicates(test_df)"
   ]
  },
  {
   "cell_type": "markdown",
   "id": "5277fe32",
   "metadata": {},
   "source": [
    "# check the lable distribution"
   ]
  },
  {
   "cell_type": "code",
   "execution_count": 57,
   "id": "3d520288",
   "metadata": {},
   "outputs": [
    {
     "name": "stdout",
     "output_type": "stream",
     "text": [
      "trainset:\n",
      "Positive    636\n",
      "Negative    617\n",
      "Name: Label, dtype: int64\n",
      "testset:\n",
      "Negative    114\n",
      "Positive     94\n",
      "Name: Label, dtype: int64\n"
     ]
    }
   ],
   "source": [
    "train_label_distribution = train_cleaned_df['Label'].value_counts()\n",
    "test_label_distribution = test_cleaned_df['Label'].value_counts()\n",
    "print(f\"trainset:\\n{train_label_distribution}\")\n",
    "print(f\"testset:\\n{test_label_distribution}\")"
   ]
  },
  {
   "cell_type": "markdown",
   "id": "ea0ee625",
   "metadata": {},
   "source": [
    "# View if SMILES are canonical"
   ]
  },
  {
   "cell_type": "code",
   "execution_count": 58,
   "id": "e4e650e5",
   "metadata": {},
   "outputs": [],
   "source": [
    "def check_smiles_canonicalization_df(df):\n",
    "    canonical_count = 0\n",
    "    non_canonical_count = 0\n",
    "    invalid_indices = []\n",
    "    canonicalized_smiles = []\n",
    "\n",
    "    for index, smiles in df[\"SMILES\"].items():\n",
    "        molecule = Chem.MolFromSmiles(smiles)\n",
    "        if molecule:\n",
    "            canonical_smiles = Chem.MolToSmiles(molecule, isomericSmiles=True)\n",
    "            if smiles == canonical_smiles:\n",
    "                canonical_count += 1\n",
    "            else:\n",
    "                non_canonical_count += 1\n",
    "            canonicalized_smiles.append(canonical_smiles)\n",
    "        else:\n",
    "            invalid_indices.append(index)\n",
    "\n",
    "    df_clean = df.drop(index=invalid_indices).reset_index(drop=True)\n",
    "    \n",
    "    df_clean[\"SMILES\"] = pd.Series(canonicalized_smiles)\n",
    "    \n",
    "    print(f\"Canonical SMILES count: {canonical_count}\")\n",
    "    print(f\"Non-canonical SMILES count: {non_canonical_count}\")\n",
    "    print(f\"Invalid SMILES count: {len(invalid_indices)}\")\n",
    "    \n",
    "    return df_clean\n"
   ]
  },
  {
   "cell_type": "code",
   "execution_count": 59,
   "id": "25e704e7",
   "metadata": {},
   "outputs": [
    {
     "name": "stdout",
     "output_type": "stream",
     "text": [
      "Canonical SMILES count: 114\n",
      "Non-canonical SMILES count: 1139\n",
      "Invalid SMILES count: 0\n",
      "Canonical SMILES count: 8\n",
      "Non-canonical SMILES count: 200\n",
      "Invalid SMILES count: 0\n"
     ]
    }
   ],
   "source": [
    "train_canonicalization_df = check_smiles_canonicalization_df(train_cleaned_df)\n",
    "test_canonicalization_df = check_smiles_canonicalization_df(test_cleaned_df)"
   ]
  },
  {
   "cell_type": "markdown",
   "id": "a74fe448",
   "metadata": {},
   "source": [
    "# View whether the canonicalized data are duplicated"
   ]
  },
  {
   "cell_type": "code",
   "execution_count": 60,
   "id": "ae409c21",
   "metadata": {},
   "outputs": [
    {
     "name": "stdout",
     "output_type": "stream",
     "text": [
      "No duplicated SMILES found.\n",
      "Duplicated SMILES found:\n",
      "['Cn1c(=O)c2[nH]cnc2n(C)c1=O' 'N=c1nc(N2CCCCC2)cc(N)n1O'\n",
      " 'CNC1CCc2[nH]c3ccc(C(N)=O)cc3c2C1']\n"
     ]
    }
   ],
   "source": [
    "train_final_df = chaeck_remove_duplicates(train_canonicalization_df)\n",
    "test_final_df = chaeck_remove_duplicates(test_canonicalization_df)"
   ]
  },
  {
   "cell_type": "markdown",
   "id": "575cb36a",
   "metadata": {},
   "source": [
    "# check if SMILES can generate 3D conformation\n"
   ]
  },
  {
   "cell_type": "code",
   "execution_count": 61,
   "id": "59c3bbce",
   "metadata": {},
   "outputs": [],
   "source": [
    "def generate_3d_coordinates(smiles):\n",
    "    mol = Chem.MolFromSmiles(smiles)\n",
    "    if mol is None:\n",
    "        return None,False\n",
    "    mol_with_h = Chem.AddHs(mol)\n",
    "    if AllChem.EmbedMolecule(mol_with_h, AllChem.ETKDG()) != 0:\n",
    "        return None, False\n",
    "    optimization_result = AllChem.MMFFOptimizeMolecule(mol_with_h,maxIters=10000)\n",
    "    if optimization_result != 0:\n",
    "            return None, False\n",
    "    return mol_with_h, True"
   ]
  },
  {
   "cell_type": "code",
   "execution_count": 62,
   "id": "a36cd45e",
   "metadata": {},
   "outputs": [],
   "source": [
    "def process_smiles_and_remove_failures(smiles_df):\n",
    "    failed_indices = []\n",
    "    for index, row in tqdm(smiles_df.iterrows(), total=smiles_df.shape[0], desc=\"Processing SMILES\"):\n",
    "        try:\n",
    "            _, success = generate_3d_coordinates(row['SMILES'])\n",
    "            if not success:\n",
    "                failed_indices.append(index)\n",
    "        except Exception as e:\n",
    "            print(f\"Error processing SMILES at index {index}: {row['SMILES']}\")\n",
    "            print(f\"Error message: {str(e)}\")\n",
    "            failed_indices.append(index)\n",
    "    successful_df = smiles_df.drop(failed_indices).reset_index(drop=True)\n",
    "    return successful_df\n"
   ]
  },
  {
   "cell_type": "code",
   "execution_count": 69,
   "id": "73d39c34",
   "metadata": {},
   "outputs": [
    {
     "name": "stderr",
     "output_type": "stream",
     "text": [
      "Processing SMILES: 100%|█████████████████████████████████████████████████████████████| 205/205 [00:17<00:00, 11.63it/s]\n"
     ]
    }
   ],
   "source": [
    "all_test_df = process_smiles_and_remove_failures(test_final_df) "
   ]
  },
  {
   "cell_type": "code",
   "execution_count": 70,
   "id": "fd4089ec",
   "metadata": {},
   "outputs": [
    {
     "name": "stderr",
     "output_type": "stream",
     "text": [
      "Processing SMILES:   8%|████▉                                                       | 104/1253 [00:05<02:14,  8.51it/s][08:42:37] UFFTYPER: Unrecognized charge state for atom: 1\n",
      "Processing SMILES: 100%|███████████████████████████████████████████████████████████| 1253/1253 [02:57<00:00,  7.07it/s]\n"
     ]
    }
   ],
   "source": [
    "all_train_df = process_smiles_and_remove_failures(train_final_df) "
   ]
  },
  {
   "cell_type": "code",
   "execution_count": 73,
   "id": "e50d0850",
   "metadata": {},
   "outputs": [],
   "source": [
    "removed_df = all_train_df.to_csv('../dataset/removed_df.csv', index=False)"
   ]
  },
  {
   "cell_type": "code",
   "execution_count": 74,
   "id": "2d396990",
   "metadata": {},
   "outputs": [
    {
     "name": "stderr",
     "output_type": "stream",
     "text": [
      "Processing SMILES: 100%|███████████████████████████████████████████████████████████| 1244/1244 [03:01<00:00,  6.86it/s]\n",
      "Processing SMILES: 100%|███████████████████████████████████████████████████████████| 1242/1242 [03:04<00:00,  6.73it/s]\n",
      "Processing SMILES: 100%|███████████████████████████████████████████████████████████| 1242/1242 [02:58<00:00,  6.95it/s]\n",
      "Processing SMILES: 100%|███████████████████████████████████████████████████████████| 1242/1242 [03:00<00:00,  6.87it/s]\n",
      "Processing SMILES: 100%|███████████████████████████████████████████████████████████| 1242/1242 [02:59<00:00,  6.93it/s]\n",
      "Processing SMILES: 100%|███████████████████████████████████████████████████████████| 1242/1242 [03:04<00:00,  6.73it/s]\n",
      "Processing SMILES: 100%|███████████████████████████████████████████████████████████| 1242/1242 [03:05<00:00,  6.68it/s]\n",
      "Processing SMILES: 100%|███████████████████████████████████████████████████████████| 1242/1242 [02:58<00:00,  6.94it/s]\n",
      "Processing SMILES: 100%|███████████████████████████████████████████████████████████| 1242/1242 [03:06<00:00,  6.66it/s]\n",
      "Processing SMILES: 100%|███████████████████████████████████████████████████████████| 1242/1242 [03:05<00:00,  6.70it/s]\n"
     ]
    }
   ],
   "source": [
    "len_removed_df = []\n",
    "for i in range(10):\n",
    "    canonical_file = '../dataset/removed_df.csv'\n",
    "    ori_smiles_df = pd.read_csv(canonical_file)\n",
    "    removed_df = process_smiles_and_remove_failures(ori_smiles_df)\n",
    "    len_removed_df.append(len(removed_df))\n",
    "    removed_df.to_csv('../dataset/removed_df.csv', index=False)"
   ]
  },
  {
   "cell_type": "code",
   "execution_count": 75,
   "id": "82fbb253",
   "metadata": {},
   "outputs": [
    {
     "name": "stdout",
     "output_type": "stream",
     "text": [
      "[1242, 1242, 1242, 1242, 1242, 1242, 1242, 1242, 1242, 1242]\n"
     ]
    }
   ],
   "source": [
    "print(len_removed_df)"
   ]
  },
  {
   "cell_type": "markdown",
   "id": "4b2ecf06",
   "metadata": {},
   "source": [
    "# Final checking"
   ]
  },
  {
   "cell_type": "code",
   "execution_count": 76,
   "id": "43508ee0",
   "metadata": {},
   "outputs": [
    {
     "name": "stdout",
     "output_type": "stream",
     "text": [
      "<class 'pandas.core.frame.DataFrame'>\n",
      "RangeIndex: 1242 entries, 0 to 1241\n",
      "Data columns (total 2 columns):\n",
      " #   Column  Non-Null Count  Dtype \n",
      "---  ------  --------------  ----- \n",
      " 0   SMILES  1242 non-null   object\n",
      " 1   Label   1242 non-null   object\n",
      "dtypes: object(2)\n",
      "memory usage: 19.5+ KB\n",
      "None\n",
      "<class 'pandas.core.frame.DataFrame'>\n",
      "RangeIndex: 205 entries, 0 to 204\n",
      "Data columns (total 2 columns):\n",
      " #   Column  Non-Null Count  Dtype \n",
      "---  ------  --------------  ----- \n",
      " 0   SMILES  205 non-null    object\n",
      " 1   Label   205 non-null    object\n",
      "dtypes: object(2)\n",
      "memory usage: 3.3+ KB\n",
      "None\n"
     ]
    }
   ],
   "source": [
    "final_canonical_train_df = removed_df\n",
    "print(final_canonical_train_df.info())\n",
    "print(all_test_df.info())"
   ]
  },
  {
   "cell_type": "code",
   "execution_count": 77,
   "id": "2768b9c4",
   "metadata": {},
   "outputs": [
    {
     "name": "stdout",
     "output_type": "stream",
     "text": [
      "trainset:\n",
      "Positive    635\n",
      "Negative    607\n",
      "Name: Label, dtype: int64\n",
      "testset:\n",
      "Negative    111\n",
      "Positive     94\n",
      "Name: Label, dtype: int64\n"
     ]
    }
   ],
   "source": [
    "print(f\"trainset:\\n{final_canonical_train_df['Label'].value_counts()}\")\n",
    "print(f\"testset:\\n{all_test_df['Label'].value_counts()}\")"
   ]
  },
  {
   "cell_type": "markdown",
   "id": "a6854168",
   "metadata": {},
   "source": [
    "# write to csv"
   ]
  },
  {
   "cell_type": "code",
   "execution_count": 78,
   "id": "69b93519",
   "metadata": {},
   "outputs": [],
   "source": [
    "final_canonical_train_df.to_csv('../dataset/final_canonical_trainset.csv', index=False)\n",
    "all_test_df.to_csv('../dataset/canonical_offlinetestset.csv', index=False)"
   ]
  }
 ],
 "metadata": {
  "kernelspec": {
   "display_name": "Python 3 (ipykernel)",
   "language": "python",
   "name": "python3"
  },
  "language_info": {
   "codemirror_mode": {
    "name": "ipython",
    "version": 3
   },
   "file_extension": ".py",
   "mimetype": "text/x-python",
   "name": "python",
   "nbconvert_exporter": "python",
   "pygments_lexer": "ipython3",
   "version": "3.11.4"
  }
 },
 "nbformat": 4,
 "nbformat_minor": 5
}
