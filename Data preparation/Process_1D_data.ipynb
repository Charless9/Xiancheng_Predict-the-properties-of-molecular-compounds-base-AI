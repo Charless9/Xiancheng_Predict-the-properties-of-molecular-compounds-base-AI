{
 "cells": [
  {
   "cell_type": "code",
   "execution_count": 1,
   "id": "fa9ff260",
   "metadata": {},
   "outputs": [],
   "source": [
    "import numpy as np\n",
    "import torch\n",
    "from torch.nn.utils.rnn import pad_sequence\n",
    "from torch.utils.data import Dataset, DataLoader\n",
    "from sklearn.model_selection import train_test_split\n",
    "from collections import Counter"
   ]
  },
  {
   "cell_type": "markdown",
   "id": "14d973c5",
   "metadata": {},
   "source": [
    "# Encapsulate SMILES and Labels"
   ]
  },
  {
   "cell_type": "code",
   "execution_count": 2,
   "id": "4ba459af",
   "metadata": {},
   "outputs": [],
   "source": [
    "class SMILESDataset(Dataset):\n",
    "    def __init__(self, smiles, labels, tokenizer):\n",
    "        self.smiles = smiles\n",
    "        #self.labels = labels\n",
    "        self.labels = np.array(labels)\n",
    "        self.tokenizer = tokenizer\n",
    "\n",
    "    def __len__(self):\n",
    "        return len(self.smiles)\n",
    "\n",
    "    def __getitem__(self, idx):\n",
    "        smile = self.smiles[idx]\n",
    "        label = self.labels[idx]\n",
    "        encoded_smile = [self.tokenizer['stoi']['<SOS>']] + [self.tokenizer['stoi'].get(c, self.tokenizer['stoi']['<PAD>']) for c in smile] + [self.tokenizer['stoi']['<EOS>']]\n",
    "        return torch.tensor(encoded_smile, dtype=torch.long), torch.tensor(label, dtype=torch.long)"
   ]
  },
  {
   "cell_type": "markdown",
   "id": "462298da",
   "metadata": {},
   "source": [
    "# Create vocabulary"
   ]
  },
  {
   "cell_type": "code",
   "execution_count": 3,
   "id": "9e83c1a1",
   "metadata": {},
   "outputs": [],
   "source": [
    "def create_vocab(smiles_list):\n",
    "    counter = Counter()\n",
    "    for smile in smiles_list:\n",
    "        counter.update(smile)\n",
    "    vocab = ['<PAD>', '<SOS>', '<EOS>'] + list(counter.keys())\n",
    "    stoi = {s: i for i, s in enumerate(vocab)}\n",
    "    itos = {i: s for i, s in enumerate(vocab)}\n",
    "    return {'stoi': stoi, 'itos': itos}"
   ]
  },
  {
   "cell_type": "markdown",
   "id": "820c0efe",
   "metadata": {},
   "source": [
    "# Create batch function"
   ]
  },
  {
   "cell_type": "code",
   "execution_count": 4,
   "id": "485b08ba",
   "metadata": {},
   "outputs": [],
   "source": [
    "def collate_fn(batch):\n",
    "    inputs, labels = zip(*batch)\n",
    "    inputs_padded = pad_sequence(inputs, batch_first=True, padding_value=0)\n",
    "    #labels_tensor = torch.tensor(labels, dtype=torch.float).unsqueeze(1)  # Reshape for consistency with output\n",
    "    labels_tensor = torch.tensor(labels, dtype=torch.long) # Reshape for consistency with output\n",
    "\n",
    "    return inputs_padded, labels_tensor"
   ]
  },
  {
   "cell_type": "markdown",
   "id": "0704a760",
   "metadata": {},
   "source": [
    "# load dataset"
   ]
  },
  {
   "cell_type": "code",
   "execution_count": 5,
   "id": "6ca2af02",
   "metadata": {},
   "outputs": [],
   "source": [
    "def load_data_1d(smiles_list,labels,batch_size):\n",
    "    tokenizer = create_vocab(smiles_list)\n",
    "    smiles_train, smiles_test, labels_train, labels_test = train_test_split(smiles_list, labels, test_size=0.2, random_state=42)\n",
    "    train_dataset = SMILESDataset(smiles_train, labels_train, tokenizer)\n",
    "    test_dataset = SMILESDataset(smiles_test, labels_test, tokenizer)\n",
    "    train_loader = DataLoader(train_dataset, batch_size=batch_size, shuffle=True, collate_fn=collate_fn)\n",
    "    test_loader = DataLoader(test_dataset, batch_size=batch_size, shuffle=False, collate_fn=collate_fn)\n",
    "    return train_loader,test_loader"
   ]
  },
  {
   "cell_type": "code",
   "execution_count": 6,
   "id": "f129d230",
   "metadata": {},
   "outputs": [],
   "source": [
    "def load_data_1d_10fold_cv(smiles_list, labels, train_idx, test_idx, batch_size):\n",
    "    train_smiles = np.array(smiles_list)[train_idx]\n",
    "    test_smiles = np.array(smiles_list)[test_idx]\n",
    "    train_labels = np.array(labels)[train_idx]\n",
    "    test_labels = np.array(labels)[test_idx]\n",
    "    tokenizer = create_vocab(smiles_list)\n",
    "    train_dataset = SMILESDataset(train_smiles, train_labels, tokenizer)\n",
    "    test_dataset = SMILESDataset(test_smiles, test_labels, tokenizer)\n",
    "    train_loader = DataLoader(train_dataset, batch_size=batch_size, shuffle=True, collate_fn=collate_fn)\n",
    "    test_loader = DataLoader(test_dataset, batch_size=batch_size, shuffle=False, collate_fn=collate_fn)\n",
    "    return train_loader, test_loader"
   ]
  },
  {
   "cell_type": "code",
   "execution_count": 7,
   "id": "9575eb5d",
   "metadata": {},
   "outputs": [],
   "source": [
    "def pack_smiles_label(smiles_list, labels):\n",
    "    data = (smiles_list, labels)\n",
    "    return data"
   ]
  },
  {
   "cell_type": "code",
   "execution_count": 8,
   "id": "53e3d41f",
   "metadata": {},
   "outputs": [],
   "source": [
    "def unpack_smiles_label(data):\n",
    "    smiles_list, labels = data\n",
    "    return smiles_list, labels"
   ]
  }
 ],
 "metadata": {
  "kernelspec": {
   "display_name": "Python 3 (ipykernel)",
   "language": "python",
   "name": "python3"
  },
  "language_info": {
   "codemirror_mode": {
    "name": "ipython",
    "version": 3
   },
   "file_extension": ".py",
   "mimetype": "text/x-python",
   "name": "python",
   "nbconvert_exporter": "python",
   "pygments_lexer": "ipython3",
   "version": "3.11.4"
  }
 },
 "nbformat": 4,
 "nbformat_minor": 5
}
