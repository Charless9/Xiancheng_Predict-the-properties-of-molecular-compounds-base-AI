{
 "cells": [
  {
   "cell_type": "code",
   "execution_count": 16,
   "id": "7f2e4368",
   "metadata": {},
   "outputs": [],
   "source": [
    "from rdkit import Chem\n",
    "from rdkit.Chem import Draw\n",
    "import networkx as nx\n",
    "import matplotlib.pyplot as plt\n",
    "import pandas as pd\n",
    "import numpy as np"
   ]
  },
  {
   "cell_type": "code",
   "execution_count": 17,
   "id": "be669091",
   "metadata": {},
   "outputs": [],
   "source": [
    "canonical_file=\"../dataset/canonical_trainset.csv\""
   ]
  },
  {
   "cell_type": "code",
   "execution_count": 18,
   "id": "83ca92b3",
   "metadata": {},
   "outputs": [],
   "source": [
    "canonical_smiles_df=pd.read_csv(canonical_file)"
   ]
  },
  {
   "cell_type": "code",
   "execution_count": 19,
   "id": "f6c6c836",
   "metadata": {},
   "outputs": [
    {
     "data": {
      "text/html": [
       "<div>\n",
       "<style scoped>\n",
       "    .dataframe tbody tr th:only-of-type {\n",
       "        vertical-align: middle;\n",
       "    }\n",
       "\n",
       "    .dataframe tbody tr th {\n",
       "        vertical-align: top;\n",
       "    }\n",
       "\n",
       "    .dataframe thead th {\n",
       "        text-align: right;\n",
       "    }\n",
       "</style>\n",
       "<table border=\"1\" class=\"dataframe\">\n",
       "  <thead>\n",
       "    <tr style=\"text-align: right;\">\n",
       "      <th></th>\n",
       "      <th>SMILES</th>\n",
       "      <th>Label</th>\n",
       "    </tr>\n",
       "  </thead>\n",
       "  <tbody>\n",
       "    <tr>\n",
       "      <th>0</th>\n",
       "      <td>CN(C)C(=N)N=C(N)N</td>\n",
       "      <td>Negative</td>\n",
       "    </tr>\n",
       "    <tr>\n",
       "      <th>1</th>\n",
       "      <td>COC(=O)C=CC(=O)O</td>\n",
       "      <td>Negative</td>\n",
       "    </tr>\n",
       "    <tr>\n",
       "      <th>2</th>\n",
       "      <td>O=C(O)C=Cc1ccccc1</td>\n",
       "      <td>Negative</td>\n",
       "    </tr>\n",
       "    <tr>\n",
       "      <th>3</th>\n",
       "      <td>Cc1ccc(C(C)C)cc1O</td>\n",
       "      <td>Negative</td>\n",
       "    </tr>\n",
       "    <tr>\n",
       "      <th>4</th>\n",
       "      <td>COc1ccc(C(=O)O)cc1</td>\n",
       "      <td>Negative</td>\n",
       "    </tr>\n",
       "  </tbody>\n",
       "</table>\n",
       "</div>"
      ],
      "text/plain": [
       "               SMILES     Label\n",
       "0   CN(C)C(=N)N=C(N)N  Negative\n",
       "1    COC(=O)C=CC(=O)O  Negative\n",
       "2   O=C(O)C=Cc1ccccc1  Negative\n",
       "3   Cc1ccc(C(C)C)cc1O  Negative\n",
       "4  COc1ccc(C(=O)O)cc1  Negative"
      ]
     },
     "execution_count": 19,
     "metadata": {},
     "output_type": "execute_result"
    }
   ],
   "source": [
    "canonical_smiles_df.head()"
   ]
  },
  {
   "cell_type": "markdown",
   "id": "dcf10d75",
   "metadata": {},
   "source": [
    "# find unique elements and their number within all SMILES"
   ]
  },
  {
   "cell_type": "code",
   "execution_count": 20,
   "id": "b54d2c5d",
   "metadata": {},
   "outputs": [],
   "source": [
    "def find_unique_elements_and_atomic_numbers(smiles_series):\n",
    "    atomic_numbers = {}\n",
    "\n",
    "    for smiles in smiles_series:\n",
    "        mol = Chem.MolFromSmiles(smiles)\n",
    "        if not mol: \n",
    "            continue\n",
    "        \n",
    "        mol_with_h = Chem.AddHs(mol)\n",
    "        \n",
    "        for atom in mol_with_h.GetAtoms():\n",
    "            element = atom.GetSymbol()\n",
    "            atomic_numbers[element] = atom.GetAtomicNum()\n",
    "\n",
    "    return atomic_numbers\n"
   ]
  },
  {
   "cell_type": "markdown",
   "id": "a8e38c52",
   "metadata": {},
   "source": [
    "# create one hot"
   ]
  },
  {
   "cell_type": "code",
   "execution_count": 21,
   "id": "56cc2520",
   "metadata": {},
   "outputs": [],
   "source": [
    "def one_hot_encode(val, categories):\n",
    "    return [int(val == category) for category in categories]"
   ]
  },
  {
   "cell_type": "markdown",
   "id": "00bcf997",
   "metadata": {},
   "source": [
    "# get all unique atom number "
   ]
  },
  {
   "cell_type": "code",
   "execution_count": 22,
   "id": "294b2f96",
   "metadata": {},
   "outputs": [],
   "source": [
    "def get_atom_number(smiles):\n",
    "\n",
    "    atomic_numbers = find_unique_elements_and_atomic_numbers(smiles)\n",
    "    atom_number = list(atomic_numbers.values())\n",
    "    return atom_number"
   ]
  },
  {
   "cell_type": "markdown",
   "id": "0d2b10e2",
   "metadata": {},
   "source": [
    "# get atom features"
   ]
  },
  {
   "cell_type": "code",
   "execution_count": 23,
   "id": "9b0ef05a",
   "metadata": {},
   "outputs": [],
   "source": [
    "def get_atom_features(atom,smiles):\n",
    "    atom_type = atom.GetAtomicNum()\n",
    "    atom_degree = atom.GetDegree()\n",
    "    atom_implicit_valence = atom.GetImplicitValence()\n",
    "    atom_aromatic = int(atom.GetIsAromatic())\n",
    "    atom_hybridization = atom.GetHybridization()\n",
    "    total_num_hs = atom.GetTotalNumHs()  \n",
    "    \n",
    "    atom_number = get_atom_number(smiles)\n",
    "    \n",
    "    atom_type_encoded = one_hot_encode(atom_type,atom_number)  \n",
    "    hybridization_types = [Chem.rdchem.HybridizationType.SP, Chem.rdchem.HybridizationType.SP2, Chem.rdchem.HybridizationType.SP3]\n",
    "    hybridization_encoded = one_hot_encode(atom_hybridization, hybridization_types)\n",
    "    \n",
    "    return np.array([atom_degree, atom_implicit_valence, atom_aromatic, total_num_hs] + atom_type_encoded + hybridization_encoded, dtype=np.float32)\n"
   ]
  },
  {
   "cell_type": "markdown",
   "id": "450668e3",
   "metadata": {},
   "source": [
    "# get bond features"
   ]
  },
  {
   "cell_type": "code",
   "execution_count": 24,
   "id": "0bd76ded",
   "metadata": {},
   "outputs": [],
   "source": [
    "def get_bond_features(bond):\n",
    "    bond_type = bond.GetBondType()\n",
    "    bond_conjugated = int(bond.GetIsConjugated())\n",
    "    bond_in_ring = int(bond.IsInRing())\n",
    "    \n",
    "    bond_types = [Chem.rdchem.BondType.SINGLE, Chem.rdchem.BondType.DOUBLE, Chem.rdchem.BondType.TRIPLE, Chem.rdchem.BondType.AROMATIC]\n",
    "    bond_type_encoded = one_hot_encode(bond_type, bond_types)\n",
    "    \n",
    "    return np.array([bond_conjugated, bond_in_ring] + bond_type_encoded, dtype=np.float32)"
   ]
  },
  {
   "cell_type": "markdown",
   "id": "c816b11d",
   "metadata": {},
   "source": [
    "# mian function"
   ]
  },
  {
   "cell_type": "code",
   "execution_count": 25,
   "id": "1eec57d1",
   "metadata": {},
   "outputs": [],
   "source": [
    "def preprocess_smiles_with_labels(smiles_list, labels):\n",
    "    graph_data = []  \n",
    "\n",
    "    label_map = {'Negative': 0, 'Positive': 1}\n",
    "\n",
    "    for smiles, label in zip(smiles_list, labels):\n",
    "        mol = Chem.MolFromSmiles(smiles)\n",
    "        if not mol:\n",
    "            continue\n",
    "        \n",
    "        mol_with_h = Chem.AddHs(mol)\n",
    "        atoms_features = [get_atom_features(atom,smiles_list) for atom in mol_with_h.GetAtoms()]\n",
    "        \n",
    "        num_atoms = len(atoms_features)\n",
    "        \n",
    "        adjacency_matrix = np.zeros((num_atoms, num_atoms), dtype=np.float32)\n",
    "        \n",
    "        bonds_features = []\n",
    "        \n",
    "        for bond in mol_with_h.GetBonds():\n",
    "            start, end = bond.GetBeginAtomIdx(), bond.GetEndAtomIdx()\n",
    "            bond_features = get_bond_features(bond)\n",
    "            bonds_features.append((start, end, bond_features))\n",
    "            \n",
    "            adjacency_matrix[start, end] = adjacency_matrix[end, start] = 1\n",
    "\n",
    "        graph_data.append({\n",
    "            'nodes_features': np.array(atoms_features),\n",
    "            'edges_features': np.array(bonds_features, dtype=object),\n",
    "            'adjacency_matrix': adjacency_matrix,\n",
    "            'label': label_map[label]  \n",
    "        })\n",
    "\n",
    "    return graph_data"
   ]
  },
  {
   "cell_type": "markdown",
   "id": "ddbc3f08",
   "metadata": {},
   "source": [
    "# test"
   ]
  },
  {
   "cell_type": "code",
   "execution_count": 26,
   "id": "92f1b9ff",
   "metadata": {},
   "outputs": [],
   "source": [
    "labels = canonical_smiles_df['Label'][:10].values"
   ]
  },
  {
   "cell_type": "code",
   "execution_count": 27,
   "id": "2daa7a58",
   "metadata": {},
   "outputs": [],
   "source": [
    "graph_data = preprocess_smiles_with_labels(canonical_smiles_df[\"SMILES\"][:10].values, labels)"
   ]
  },
  {
   "cell_type": "code",
   "execution_count": 34,
   "id": "787a4c9c",
   "metadata": {},
   "outputs": [
    {
     "name": "stdout",
     "output_type": "stream",
     "text": [
      "nodes_features  edges_features  adjacency_matrix\n",
      "(20, 12)         (19, 3)           (20, 20)\n",
      "(15, 12)         (14, 3)           (15, 15)\n",
      "(19, 12)         (19, 3)           (19, 19)\n",
      "(25, 12)         (25, 3)           (25, 25)\n",
      "(19, 12)         (19, 3)           (19, 19)\n",
      "(29, 12)         (28, 3)           (29, 29)\n",
      "(31, 12)         (30, 3)           (31, 31)\n",
      "(23, 12)         (24, 3)           (23, 23)\n",
      "(22, 12)         (22, 3)           (22, 22)\n",
      "(19, 12)         (18, 3)           (19, 19)\n"
     ]
    }
   ],
   "source": [
    "print(\"nodes_features  edges_features  adjacency_matrix\")\n",
    "for item in graph_data:\n",
    "    node_feature=item['nodes_features']\n",
    "    edges_features=item['edges_features']\n",
    "    adjacency_matrix=item['adjacency_matrix']\n",
    "    print(f\"{node_feature.shape}         {edges_features.shape}           {adjacency_matrix.shape}\")"
   ]
  },
  {
   "cell_type": "code",
   "execution_count": 35,
   "id": "ef70a27d",
   "metadata": {},
   "outputs": [
    {
     "data": {
      "text/plain": [
       "{'nodes_features': array([[4., 0., 0., 0., 1., 0., 0., 0., 0., 0., 0., 1.],\n",
       "        [3., 0., 0., 0., 0., 1., 0., 0., 0., 0., 1., 0.],\n",
       "        [4., 0., 0., 0., 1., 0., 0., 0., 0., 0., 0., 1.],\n",
       "        [3., 0., 0., 0., 1., 0., 0., 0., 0., 0., 1., 0.],\n",
       "        [2., 0., 0., 0., 0., 1., 0., 0., 0., 0., 1., 0.],\n",
       "        [2., 0., 0., 0., 0., 1., 0., 0., 0., 0., 1., 0.],\n",
       "        [3., 0., 0., 0., 1., 0., 0., 0., 0., 0., 1., 0.],\n",
       "        [3., 0., 0., 0., 0., 1., 0., 0., 0., 0., 1., 0.],\n",
       "        [3., 0., 0., 0., 0., 1., 0., 0., 0., 0., 1., 0.],\n",
       "        [1., 0., 0., 0., 0., 0., 1., 0., 0., 0., 0., 0.],\n",
       "        [1., 0., 0., 0., 0., 0., 1., 0., 0., 0., 0., 0.],\n",
       "        [1., 0., 0., 0., 0., 0., 1., 0., 0., 0., 0., 0.],\n",
       "        [1., 0., 0., 0., 0., 0., 1., 0., 0., 0., 0., 0.],\n",
       "        [1., 0., 0., 0., 0., 0., 1., 0., 0., 0., 0., 0.],\n",
       "        [1., 0., 0., 0., 0., 0., 1., 0., 0., 0., 0., 0.],\n",
       "        [1., 0., 0., 0., 0., 0., 1., 0., 0., 0., 0., 0.],\n",
       "        [1., 0., 0., 0., 0., 0., 1., 0., 0., 0., 0., 0.],\n",
       "        [1., 0., 0., 0., 0., 0., 1., 0., 0., 0., 0., 0.],\n",
       "        [1., 0., 0., 0., 0., 0., 1., 0., 0., 0., 0., 0.],\n",
       "        [1., 0., 0., 0., 0., 0., 1., 0., 0., 0., 0., 0.]], dtype=float32),\n",
       " 'edges_features': array([[0, 1, array([0., 0., 1., 0., 0., 0.], dtype=float32)],\n",
       "        [1, 2, array([0., 0., 1., 0., 0., 0.], dtype=float32)],\n",
       "        [1, 3, array([1., 0., 1., 0., 0., 0.], dtype=float32)],\n",
       "        [3, 4, array([1., 0., 0., 1., 0., 0.], dtype=float32)],\n",
       "        [3, 5, array([1., 0., 1., 0., 0., 0.], dtype=float32)],\n",
       "        [5, 6, array([1., 0., 0., 1., 0., 0.], dtype=float32)],\n",
       "        [6, 7, array([1., 0., 1., 0., 0., 0.], dtype=float32)],\n",
       "        [6, 8, array([1., 0., 1., 0., 0., 0.], dtype=float32)],\n",
       "        [0, 9, array([0., 0., 1., 0., 0., 0.], dtype=float32)],\n",
       "        [0, 10, array([0., 0., 1., 0., 0., 0.], dtype=float32)],\n",
       "        [0, 11, array([0., 0., 1., 0., 0., 0.], dtype=float32)],\n",
       "        [2, 12, array([0., 0., 1., 0., 0., 0.], dtype=float32)],\n",
       "        [2, 13, array([0., 0., 1., 0., 0., 0.], dtype=float32)],\n",
       "        [2, 14, array([0., 0., 1., 0., 0., 0.], dtype=float32)],\n",
       "        [4, 15, array([0., 0., 1., 0., 0., 0.], dtype=float32)],\n",
       "        [7, 16, array([0., 0., 1., 0., 0., 0.], dtype=float32)],\n",
       "        [7, 17, array([0., 0., 1., 0., 0., 0.], dtype=float32)],\n",
       "        [8, 18, array([0., 0., 1., 0., 0., 0.], dtype=float32)],\n",
       "        [8, 19, array([0., 0., 1., 0., 0., 0.], dtype=float32)]],\n",
       "       dtype=object),\n",
       " 'adjacency_matrix': array([[0., 1., 0., 0., 0., 0., 0., 0., 0., 1., 1., 1., 0., 0., 0., 0.,\n",
       "         0., 0., 0., 0.],\n",
       "        [1., 0., 1., 1., 0., 0., 0., 0., 0., 0., 0., 0., 0., 0., 0., 0.,\n",
       "         0., 0., 0., 0.],\n",
       "        [0., 1., 0., 0., 0., 0., 0., 0., 0., 0., 0., 0., 1., 1., 1., 0.,\n",
       "         0., 0., 0., 0.],\n",
       "        [0., 1., 0., 0., 1., 1., 0., 0., 0., 0., 0., 0., 0., 0., 0., 0.,\n",
       "         0., 0., 0., 0.],\n",
       "        [0., 0., 0., 1., 0., 0., 0., 0., 0., 0., 0., 0., 0., 0., 0., 1.,\n",
       "         0., 0., 0., 0.],\n",
       "        [0., 0., 0., 1., 0., 0., 1., 0., 0., 0., 0., 0., 0., 0., 0., 0.,\n",
       "         0., 0., 0., 0.],\n",
       "        [0., 0., 0., 0., 0., 1., 0., 1., 1., 0., 0., 0., 0., 0., 0., 0.,\n",
       "         0., 0., 0., 0.],\n",
       "        [0., 0., 0., 0., 0., 0., 1., 0., 0., 0., 0., 0., 0., 0., 0., 0.,\n",
       "         1., 1., 0., 0.],\n",
       "        [0., 0., 0., 0., 0., 0., 1., 0., 0., 0., 0., 0., 0., 0., 0., 0.,\n",
       "         0., 0., 1., 1.],\n",
       "        [1., 0., 0., 0., 0., 0., 0., 0., 0., 0., 0., 0., 0., 0., 0., 0.,\n",
       "         0., 0., 0., 0.],\n",
       "        [1., 0., 0., 0., 0., 0., 0., 0., 0., 0., 0., 0., 0., 0., 0., 0.,\n",
       "         0., 0., 0., 0.],\n",
       "        [1., 0., 0., 0., 0., 0., 0., 0., 0., 0., 0., 0., 0., 0., 0., 0.,\n",
       "         0., 0., 0., 0.],\n",
       "        [0., 0., 1., 0., 0., 0., 0., 0., 0., 0., 0., 0., 0., 0., 0., 0.,\n",
       "         0., 0., 0., 0.],\n",
       "        [0., 0., 1., 0., 0., 0., 0., 0., 0., 0., 0., 0., 0., 0., 0., 0.,\n",
       "         0., 0., 0., 0.],\n",
       "        [0., 0., 1., 0., 0., 0., 0., 0., 0., 0., 0., 0., 0., 0., 0., 0.,\n",
       "         0., 0., 0., 0.],\n",
       "        [0., 0., 0., 0., 1., 0., 0., 0., 0., 0., 0., 0., 0., 0., 0., 0.,\n",
       "         0., 0., 0., 0.],\n",
       "        [0., 0., 0., 0., 0., 0., 0., 1., 0., 0., 0., 0., 0., 0., 0., 0.,\n",
       "         0., 0., 0., 0.],\n",
       "        [0., 0., 0., 0., 0., 0., 0., 1., 0., 0., 0., 0., 0., 0., 0., 0.,\n",
       "         0., 0., 0., 0.],\n",
       "        [0., 0., 0., 0., 0., 0., 0., 0., 1., 0., 0., 0., 0., 0., 0., 0.,\n",
       "         0., 0., 0., 0.],\n",
       "        [0., 0., 0., 0., 0., 0., 0., 0., 1., 0., 0., 0., 0., 0., 0., 0.,\n",
       "         0., 0., 0., 0.]], dtype=float32),\n",
       " 'label': 0}"
      ]
     },
     "execution_count": 35,
     "metadata": {},
     "output_type": "execute_result"
    }
   ],
   "source": [
    "graph_data[0]"
   ]
  },
  {
   "cell_type": "code",
   "execution_count": null,
   "id": "73c519e6",
   "metadata": {},
   "outputs": [],
   "source": []
  }
 ],
 "metadata": {
  "kernelspec": {
   "display_name": "Python 3 (ipykernel)",
   "language": "python",
   "name": "python3"
  },
  "language_info": {
   "codemirror_mode": {
    "name": "ipython",
    "version": 3
   },
   "file_extension": ".py",
   "mimetype": "text/x-python",
   "name": "python",
   "nbconvert_exporter": "python",
   "pygments_lexer": "ipython3",
   "version": "3.11.4"
  }
 },
 "nbformat": 4,
 "nbformat_minor": 5
}
