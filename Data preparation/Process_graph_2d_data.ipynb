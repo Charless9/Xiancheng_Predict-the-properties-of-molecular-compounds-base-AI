{
 "cells": [
  {
   "cell_type": "code",
   "execution_count": 1,
   "id": "fbb44db1",
   "metadata": {},
   "outputs": [],
   "source": [
    "from rdkit import Chem\n",
    "import numpy as np\n",
    "from tqdm import tqdm\n",
    "import torch\n",
    "from torch_geometric.loader import DataLoader as GeometricDataLoader\n",
    "from torch_geometric.data import Data\n",
    "from torch.utils.data import Subset\n",
    "from sklearn.model_selection import train_test_split\n",
    "from sklearn.preprocessing import StandardScaler, MinMaxScaler"
   ]
  },
  {
   "cell_type": "markdown",
   "id": "5f04d197",
   "metadata": {},
   "source": [
    "# find unique atom within all molecules"
   ]
  },
  {
   "cell_type": "code",
   "execution_count": 2,
   "id": "042e4cea",
   "metadata": {},
   "outputs": [],
   "source": [
    "def find_unique_elements_and_atomic_numbers(smiles_series):\n",
    "    atomic_numbers = {}\n",
    "\n",
    "    for smiles in smiles_series:\n",
    "        mol = Chem.MolFromSmiles(smiles)\n",
    "        if not mol: \n",
    "            continue\n",
    "        \n",
    "        mol_with_h = Chem.AddHs(mol)\n",
    "        \n",
    "        for atom in mol_with_h.GetAtoms():\n",
    "            element = atom.GetSymbol()\n",
    "            atomic_numbers[element] = atom.GetAtomicNum()\n",
    "\n",
    "    return atomic_numbers"
   ]
  },
  {
   "cell_type": "code",
   "execution_count": 3,
   "id": "1b5b13e5",
   "metadata": {},
   "outputs": [],
   "source": [
    "def one_hot_encode(val, categories):\n",
    "    return [int(val == category) for category in categories]"
   ]
  },
  {
   "cell_type": "code",
   "execution_count": 4,
   "id": "f97549d5",
   "metadata": {},
   "outputs": [],
   "source": [
    "def get_atom_number(smiles_series):\n",
    "\n",
    "    atomic_numbers = find_unique_elements_and_atomic_numbers(smiles_series)\n",
    "    atom_numbers = list(atomic_numbers.values())\n",
    "    return atom_numbers"
   ]
  },
  {
   "cell_type": "markdown",
   "id": "f701883c",
   "metadata": {},
   "source": [
    "# get atom features"
   ]
  },
  {
   "cell_type": "code",
   "execution_count": 5,
   "id": "ed2b71a9",
   "metadata": {},
   "outputs": [],
   "source": [
    "def get_atom_features(atom,atom_numbers):\n",
    "    atom_type = atom.GetAtomicNum()\n",
    "    atom_degree = atom.GetDegree()\n",
    "    atom_implicit_valence = atom.GetImplicitValence()\n",
    "    atom_aromatic = int(atom.GetIsAromatic())\n",
    "    atom_hybridization = atom.GetHybridization()\n",
    "    total_num_hs = atom.GetTotalNumHs()  \n",
    "    \n",
    "    atom_type_encoded = one_hot_encode(atom_type,atom_numbers)  \n",
    "    hybridization_types = [Chem.rdchem.HybridizationType.SP, Chem.rdchem.HybridizationType.SP2, Chem.rdchem.HybridizationType.SP3]\n",
    "    hybridization_encoded = one_hot_encode(atom_hybridization, hybridization_types)\n",
    "    \n",
    "    return np.array([atom_degree, atom_implicit_valence, atom_aromatic, total_num_hs] + atom_type_encoded + hybridization_encoded, dtype=np.float32)\n"
   ]
  },
  {
   "cell_type": "markdown",
   "id": "bddb1eae",
   "metadata": {},
   "source": [
    "# get bond 2D Topological information"
   ]
  },
  {
   "cell_type": "code",
   "execution_count": 6,
   "id": "ee106fb4",
   "metadata": {},
   "outputs": [],
   "source": [
    "def get_bond_2d_features(bond):\n",
    "    bond_type = bond.GetBondType()\n",
    "    bond_conjugated = int(bond.GetIsConjugated())\n",
    "    bond_in_ring = int(bond.IsInRing())\n",
    "    \n",
    "    bond_types = [Chem.rdchem.BondType.SINGLE, Chem.rdchem.BondType.DOUBLE, Chem.rdchem.BondType.TRIPLE, Chem.rdchem.BondType.AROMATIC]\n",
    "    bond_type_encoded = one_hot_encode(bond_type, bond_types)\n",
    "    \n",
    "    return np.array([bond_conjugated, bond_in_ring] + bond_type_encoded, dtype=np.float32)"
   ]
  },
  {
   "cell_type": "markdown",
   "id": "7ca0926a",
   "metadata": {},
   "source": [
    "# Integrate 2D graph data information"
   ]
  },
  {
   "cell_type": "code",
   "execution_count": 7,
   "id": "d8f98bb1",
   "metadata": {},
   "outputs": [],
   "source": [
    "def preprocess_2d_graph_data(smiles_list, labels, atom_numbers):\n",
    "    graph_data_2d = []  \n",
    "\n",
    "    label_map = {'Negative': 0, 'Positive': 1}\n",
    "\n",
    "    for smiles, label in tqdm(zip(smiles_list, labels), total=len(smiles_list), desc=\"get graph_data\"):\n",
    "        mol = Chem.MolFromSmiles(smiles)\n",
    "        if not mol:\n",
    "            continue\n",
    "        \n",
    "        mol_with_h = Chem.AddHs(mol)\n",
    "        atoms_features = [get_atom_features(atom,atom_numbers) for atom in mol_with_h.GetAtoms()]\n",
    "                        \n",
    "        edge_index_list = []\n",
    "        edge_attr_list = []\n",
    "        \n",
    "        for bond in mol_with_h.GetBonds():\n",
    "            start, end = bond.GetBeginAtomIdx(), bond.GetEndAtomIdx()\n",
    "            bond_features = get_bond_2d_features(bond)\n",
    "            edge_attr_list.append(bond_features)\n",
    "            edge_index_list.append([start, end])\n",
    "        \n",
    "        edge_index_array = np.array(edge_index_list).T  \n",
    "        edge_attr_array = np.array(edge_attr_list, dtype=np.float32)\n",
    "            \n",
    "        graph_data_2d.append({\n",
    "            'nodes_features': np.array(atoms_features),\n",
    "            'edge_index': edge_index_array,\n",
    "            'edge_attr': edge_attr_array,\n",
    "            'label': label_map[label]  \n",
    "        })\n",
    "\n",
    "    return graph_data_2d"
   ]
  },
  {
   "cell_type": "markdown",
   "id": "8117507f",
   "metadata": {},
   "source": [
    "# preprocess for 2D 3D graph data"
   ]
  },
  {
   "cell_type": "code",
   "execution_count": 8,
   "id": "861e9822",
   "metadata": {},
   "outputs": [],
   "source": [
    "import joblib\n",
    "def preprocess_scaler(graph_data, mode, Preprocess, scale_path):\n",
    "    if mode == 'train':\n",
    "        if Preprocess == 'standardize':\n",
    "            node_scaler = StandardScaler()\n",
    "            edge_scaler = StandardScaler()\n",
    "        elif Preprocess == 'normalize':\n",
    "            node_scaler = MinMaxScaler()\n",
    "            edge_scaler = MinMaxScaler()\n",
    "\n",
    "        all_node_features = np.concatenate([item['nodes_features'] for item in graph_data], axis=0)\n",
    "        all_edge_features = np.concatenate([item['edge_attr'] for item in graph_data], axis=0)\n",
    "\n",
    "        node_scaler.fit(all_node_features)\n",
    "        edge_scaler.fit(all_edge_features)\n",
    "        joblib.dump((node_scaler, edge_scaler), scale_path)\n",
    "    else:\n",
    "        node_scaler, edge_scaler = joblib.load(scale_path)\n",
    "    return node_scaler, edge_scaler"
   ]
  },
  {
   "cell_type": "markdown",
   "id": "424edc1a",
   "metadata": {},
   "source": [
    "# create 2D 3D graph data list"
   ]
  },
  {
   "cell_type": "code",
   "execution_count": 9,
   "id": "c783208b",
   "metadata": {},
   "outputs": [],
   "source": [
    "def get_torch_graph_data_list(graph_data, mode, Preprocess, scale_path):\n",
    "    if Preprocess:\n",
    "        Pre_node, Pre_edge = preprocess_scaler(graph_data, mode, Preprocess, scale_path)\n",
    "\n",
    "    torch_graph_data_list = []\n",
    "    for item in graph_data:\n",
    "        x = np.array(item['nodes_features'])\n",
    "        edge_attr = np.array(item['edge_attr'])\n",
    "        if Preprocess is not None:\n",
    "            x = Pre_node.transform(x)\n",
    "            edge_attr = Pre_edge.transform(edge_attr)\n",
    "        x = torch.tensor(x, dtype=torch.float)\n",
    "        edge_attr = torch.tensor(edge_attr, dtype=torch.float)\n",
    "\n",
    "        edge_index = torch.tensor(item['edge_index'], dtype=torch.long)\n",
    "        y = torch.tensor([item['label']], dtype=torch.long)\n",
    "\n",
    "        data_object = Data(x=x, edge_index=edge_index, edge_attr=edge_attr, y=y)\n",
    "        torch_graph_data_list.append(data_object)\n",
    "    return torch_graph_data_list"
   ]
  },
  {
   "cell_type": "markdown",
   "id": "623ee1ad",
   "metadata": {},
   "source": [
    "# load data"
   ]
  },
  {
   "cell_type": "code",
   "execution_count": 10,
   "id": "5b490c77",
   "metadata": {},
   "outputs": [],
   "source": [
    "def load_graph_data(torch_graph_data_list,batch_size):\n",
    "    graph_data_train, graph_data_test = train_test_split(torch_graph_data_list, test_size=0.2, random_state=42)\n",
    "    train_loader = GeometricDataLoader(graph_data_train, batch_size=batch_size, shuffle=True)\n",
    "    test_loader = GeometricDataLoader(graph_data_test, batch_size=batch_size, shuffle=False)\n",
    "    return train_loader,test_loader"
   ]
  },
  {
   "cell_type": "code",
   "execution_count": 11,
   "id": "d883373a",
   "metadata": {},
   "outputs": [],
   "source": [
    "def load_graph_data_10fold_cv(torch_graph_data_list, train_idx, test_idx, batch_size):\n",
    "    train_dataset = Subset(torch_graph_data_list, train_idx)\n",
    "    test_dataset = Subset(torch_graph_data_list, test_idx)\n",
    "    train_loader = GeometricDataLoader(train_dataset, batch_size=batch_size, shuffle=True)\n",
    "    test_loader = GeometricDataLoader(test_dataset, batch_size=batch_size, shuffle=False)\n",
    "    return train_loader, test_loader\n"
   ]
  }
 ],
 "metadata": {
  "kernelspec": {
   "display_name": "Python 3 (ipykernel)",
   "language": "python",
   "name": "python3"
  },
  "language_info": {
   "codemirror_mode": {
    "name": "ipython",
    "version": 3
   },
   "file_extension": ".py",
   "mimetype": "text/x-python",
   "name": "python",
   "nbconvert_exporter": "python",
   "pygments_lexer": "ipython3",
   "version": "3.11.4"
  }
 },
 "nbformat": 4,
 "nbformat_minor": 5
}
