{
 "cells": [
  {
   "cell_type": "code",
   "execution_count": 1,
   "id": "d91b3005",
   "metadata": {},
   "outputs": [],
   "source": [
    "import numpy as np\n",
    "import torch\n",
    "from torch.utils.data import TensorDataset, DataLoader\n",
    "from sklearn.model_selection import train_test_split\n",
    "from sklearn.preprocessing import StandardScaler, MinMaxScaler"
   ]
  },
  {
   "cell_type": "code",
   "execution_count": 2,
   "id": "f52f3b77",
   "metadata": {},
   "outputs": [],
   "source": [
    "def pack_fusefeatures_labels(fused_features, processed_labels):\n",
    "    data_package = {\n",
    "            'features': fused_features,\n",
    "            'labels': processed_labels\n",
    "        }\n",
    "    return data_package"
   ]
  },
  {
   "cell_type": "code",
   "execution_count": 3,
   "id": "39fd9fea",
   "metadata": {},
   "outputs": [],
   "source": [
    "def unpack_fusefeatures_labels(data_package, mode, Preprocess, scale_path):\n",
    "    fused_features = data_package['features']\n",
    "    processed_labels = data_package['labels']\n",
    "    return fused_features, processed_labels"
   ]
  },
  {
   "cell_type": "code",
   "execution_count": 4,
   "id": "8e74f402",
   "metadata": {},
   "outputs": [],
   "source": [
    "import joblib\n",
    "def standard_data(fused_features, processed_labels, mode, Preprocess, scale_path):\n",
    "    if Preprocess is not None:\n",
    "        if Preprocess == 'standardize':\n",
    "            scaler = StandardScaler()\n",
    "        elif Preprocess == 'normalize':\n",
    "            scaler = MinMaxScaler()\n",
    "        else:\n",
    "            raise ValueError(\"Preprocess must be 'standardize', 'normalize', or None\")\n",
    "        if mode == 'train':\n",
    "            scaler.fit(fused_features)\n",
    "            joblib.dump(scaler, scale_path)\n",
    "            fused_features = scaler.transform(fused_features)\n",
    "        elif mode == 'test':\n",
    "            scaler = joblib.load(scale_path)\n",
    "            fused_features = scaler.transform(fused_features)\n",
    "        else:\n",
    "            raise ValueError(\"Mode must be 'train' or 'test'\")\n",
    "    elif Preprocess is None:\n",
    "        pass\n",
    "    else:\n",
    "        raise ValueError(\"Invalid value for Preprocess. It must be 'standardize', 'normalize', or None\")\n",
    "\n",
    "    return fused_features, processed_labels\n"
   ]
  },
  {
   "cell_type": "code",
   "execution_count": 5,
   "id": "19fc058d",
   "metadata": {},
   "outputs": [],
   "source": [
    "def load_data_mlp(fused_features, labels, batch_size):    \n",
    "    features_train, features_test, labels_train, labels_test = train_test_split(fused_features, labels, test_size=0.2, random_state=42)\n",
    "    features_train = torch.tensor(features_train, dtype=torch.float32)\n",
    "    features_test = torch.tensor(features_test, dtype=torch.float32)\n",
    "    labels_train = torch.tensor(labels_train, dtype=torch.long)\n",
    "    labels_test = torch.tensor(labels_test, dtype=torch.long)\n",
    "\n",
    "    train_dataset = TensorDataset(features_train, labels_train)\n",
    "    test_dataset = TensorDataset(features_test, labels_test)\n",
    "    train_loader = DataLoader(train_dataset, batch_size=batch_size, shuffle=True)\n",
    "    test_loader = DataLoader(test_dataset, batch_size=batch_size, shuffle=False)\n",
    "    \n",
    "    return train_loader, test_loader\n",
    "    "
   ]
  },
  {
   "cell_type": "code",
   "execution_count": 6,
   "id": "13bd5945",
   "metadata": {},
   "outputs": [],
   "source": [
    "def load_data_mlp_10fold_cv(fused_features, labels, train_idx, test_idx, batch_size):\n",
    "    fused_features_train = torch.tensor(fused_features[train_idx], dtype=torch.float32)\n",
    "    labels_train = torch.tensor(labels[train_idx], dtype=torch.long)\n",
    "    \n",
    "    fused_features_test = torch.tensor(fused_features[test_idx], dtype=torch.float32)\n",
    "    labels_test = torch.tensor(labels[test_idx], dtype=torch.long)\n",
    "    \n",
    "    train_dataset = TensorDataset(fused_features_train, labels_train)\n",
    "    test_dataset = TensorDataset(fused_features_test, labels_test)\n",
    "    \n",
    "    train_loader = DataLoader(train_dataset, batch_size=batch_size, shuffle=True)\n",
    "    test_loader = DataLoader(test_dataset, batch_size=batch_size, shuffle=False)\n",
    "    \n",
    "    return train_loader, test_loader\n"
   ]
  },
  {
   "cell_type": "code",
   "execution_count": 7,
   "id": "70f06b55",
   "metadata": {},
   "outputs": [],
   "source": [
    "def load_data_for_offline_test(fused_features, labels, batch_size):    \n",
    "    features_tensor = torch.tensor(fused_features, dtype=torch.float32)\n",
    "    labels_tensor = torch.tensor(labels, dtype=torch.long)\n",
    "    dataset = TensorDataset(features_tensor, labels_tensor)\n",
    "    data_loader = DataLoader(dataset, batch_size=batch_size, shuffle=False)\n",
    "    return data_loader\n"
   ]
  }
 ],
 "metadata": {
  "kernelspec": {
   "display_name": "Python 3 (ipykernel)",
   "language": "python",
   "name": "python3"
  },
  "language_info": {
   "codemirror_mode": {
    "name": "ipython",
    "version": 3
   },
   "file_extension": ".py",
   "mimetype": "text/x-python",
   "name": "python",
   "nbconvert_exporter": "python",
   "pygments_lexer": "ipython3",
   "version": "3.11.4"
  }
 },
 "nbformat": 4,
 "nbformat_minor": 5
}
