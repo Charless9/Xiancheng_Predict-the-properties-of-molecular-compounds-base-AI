{
 "cells": [
  {
   "cell_type": "code",
   "execution_count": 1,
   "id": "2eabf03c",
   "metadata": {},
   "outputs": [],
   "source": [
    "from rdkit import Chem\n",
    "from rdkit.Chem import AllChem\n",
    "from rdkit.Chem import rdMolTransforms\n",
    "import numpy as np\n",
    "import torch\n",
    "import torch.optim as optim\n",
    "import torch.nn as nn\n",
    "from tqdm import tqdm\n",
    "from torch.utils.data import TensorDataset, DataLoader\n",
    "from sklearn.model_selection import train_test_split\n",
    "from sklearn.preprocessing import StandardScaler\n",
    "import os\n",
    "import sys\n",
    "import nbimporter\n",
    "\n",
    "project_root = os.path.join(os.getcwd(), '..')\n",
    "sys.path.append(project_root)\n",
    "\n",
    "from datapreparation.Process_graph_2d_data import *"
   ]
  },
  {
   "cell_type": "markdown",
   "id": "e2f5e546",
   "metadata": {},
   "source": [
    "# Generate 3D conformation and minimize energy"
   ]
  },
  {
   "cell_type": "code",
   "execution_count": 2,
   "id": "9685672f",
   "metadata": {},
   "outputs": [],
   "source": [
    "def generate_3d_coordinates(smiles):\n",
    "    mol = Chem.MolFromSmiles(smiles)\n",
    "    if mol is None:\n",
    "        return None,False\n",
    "    mol_with_h = Chem.AddHs(mol)\n",
    "    if AllChem.EmbedMolecule(mol_with_h, AllChem.ETKDG()) != 0:\n",
    "        return None, False\n",
    "    optimization_result = AllChem.MMFFOptimizeMolecule(mol_with_h,maxIters=10000)\n",
    "    if optimization_result != 0:\n",
    "            return None, False\n",
    "    return mol_with_h, True"
   ]
  },
  {
   "cell_type": "markdown",
   "id": "b5018271",
   "metadata": {},
   "source": [
    "# calculate distance for bond"
   ]
  },
  {
   "cell_type": "code",
   "execution_count": 3,
   "id": "d5f19b8a",
   "metadata": {},
   "outputs": [],
   "source": [
    "def calculate_distance_for_bond(mol, start_atom, end_atom):\n",
    "    conf = mol.GetConformer()\n",
    "    pos1 = conf.GetAtomPosition(start_atom)\n",
    "    pos2 = conf.GetAtomPosition(end_atom)\n",
    "    distance = pos1.Distance(pos2)\n",
    "    return distance"
   ]
  },
  {
   "cell_type": "markdown",
   "id": "c7f45fb2",
   "metadata": {},
   "source": [
    "# calculate adjacent angles for bond"
   ]
  },
  {
   "cell_type": "code",
   "execution_count": 4,
   "id": "ede29fbf",
   "metadata": {},
   "outputs": [],
   "source": [
    "def calculate_adjacent_angles_for_bond(mol, atom_idx1, atom_idx2):\n",
    "    bond_angles = []\n",
    "    for atom_idx in [atom_idx1, atom_idx2]:\n",
    "        atom = mol.GetAtomWithIdx(atom_idx)\n",
    "        neighbors = [n.GetIdx() for n in atom.GetNeighbors()]\n",
    "        for neighbor_idx in neighbors:\n",
    "            if neighbor_idx != atom_idx1 and neighbor_idx != atom_idx2:\n",
    "                if atom_idx == atom_idx1:\n",
    "                    angle = rdMolTransforms.GetAngleDeg(mol.GetConformer(), neighbor_idx, atom_idx, atom_idx2)\n",
    "                else:\n",
    "                    angle = rdMolTransforms.GetAngleDeg(mol.GetConformer(), neighbor_idx, atom_idx, atom_idx1)\n",
    "                bond_angles.append(angle)\n",
    "    return bond_angles\n"
   ]
  },
  {
   "cell_type": "markdown",
   "id": "6f3637d4",
   "metadata": {},
   "source": [
    "# calculate dihedral angles for bond"
   ]
  },
  {
   "cell_type": "code",
   "execution_count": 5,
   "id": "315d84c4",
   "metadata": {},
   "outputs": [],
   "source": [
    "def calculate_dihedral_angles_for_bond(mol, start_atom, end_atom):\n",
    "    start_neighbors = [n.GetIdx() for n in mol.GetAtomWithIdx(start_atom).GetNeighbors() if n.GetIdx() != end_atom]\n",
    "    end_neighbors = [n.GetIdx() for n in mol.GetAtomWithIdx(end_atom).GetNeighbors() if n.GetIdx() != start_atom]\n",
    "    dihedral_angles = []\n",
    "    if len(start_neighbors) >= 1 and len(end_neighbors) >= 1:\n",
    "        for sn in start_neighbors:\n",
    "            for en in end_neighbors:\n",
    "                angle = rdMolTransforms.GetDihedralDeg(mol.GetConformer(), sn, start_atom, end_atom, en)\n",
    "                dihedral_angles.append(angle)\n",
    "    return dihedral_angles if dihedral_angles else [0]  # Return a list with 0 if no angles were calculated\n"
   ]
  },
  {
   "cell_type": "markdown",
   "id": "a1c305e0",
   "metadata": {},
   "source": [
    "# get bond 3D information"
   ]
  },
  {
   "cell_type": "code",
   "execution_count": 6,
   "id": "ddcd4e82",
   "metadata": {},
   "outputs": [],
   "source": [
    "def get_bond_3d_feature(mol, start, end):\n",
    "    \n",
    "    '''\n",
    "    distance = calculate_distance_for_bond(mol, start, end)  \n",
    "    adjacent_angles = calculate_adjacent_angles_for_bond(mol, start, end)\n",
    "    dihedral_angles = calculate_dihedral_angles_for_bond(mol, start, end)\n",
    "    adjacent_angles_features = [np.mean(adjacent_angles), np.max(adjacent_angles), np.min(adjacent_angles)] if adjacent_angles else [0, 0, 0]\n",
    "    dihedral_angles_features = [np.mean(dihedral_angles), np.max(dihedral_angles), np.min(dihedral_angles)] if dihedral_angles else [0, 0, 0]\n",
    "    bond_features = np.array([distance] + adjacent_angles_features + dihedral_angles_features, dtype=np.float32)\n",
    "    return bond_features\n",
    "    '''\n",
    "\n",
    "    distance = calculate_distance_for_bond(mol, start, end)\n",
    "    bond_features = np.array([distance], dtype=np.float32)\n",
    "    return bond_features\n",
    "\n"
   ]
  },
  {
   "cell_type": "markdown",
   "id": "544e4f22",
   "metadata": {},
   "source": [
    "# voxelization"
   ]
  },
  {
   "cell_type": "code",
   "execution_count": 7,
   "id": "ec0101ed",
   "metadata": {},
   "outputs": [],
   "source": [
    "def voxelization(coords, resolution, grid_size):\n",
    "    voxels = np.zeros((grid_size, grid_size, grid_size))\n",
    "    voxel_size = 1.0 / resolution\n",
    "    center = grid_size / 2\n",
    "    for x, y, z in coords:\n",
    "        ix = int((x / voxel_size) + center)\n",
    "        iy = int((y / voxel_size) + center)\n",
    "        iz = int((z / voxel_size) + center)\n",
    "        \n",
    "        if 0 <= ix < grid_size and 0 <= iy < grid_size and 0 <= iz < grid_size:\n",
    "            voxels[ix, iy, iz] = 1  \n",
    "    return voxels"
   ]
  },
  {
   "cell_type": "markdown",
   "id": "74e0d019",
   "metadata": {},
   "source": [
    "# Integrate 3D graph data information"
   ]
  },
  {
   "cell_type": "code",
   "execution_count": 8,
   "id": "ec312a77",
   "metadata": {},
   "outputs": [],
   "source": [
    "def preprocess_3d_graph(smiles_list, labels, atom_numbers):\n",
    "    graph_data_3d = []\n",
    "    label_map = {'Negative': 0, 'Positive': 1}\n",
    "\n",
    "    for smiles, label in tqdm(zip(smiles_list, labels), total=len(smiles_list), desc=\"get graph_data\"):\n",
    "        mol_with_h, success = generate_3d_coordinates(smiles)\n",
    "        if not success:\n",
    "            continue\n",
    "            \n",
    "        edge_index_list = []\n",
    "        edge_attr_list = []\n",
    "        \n",
    "        atoms_features = [get_atom_features(atom,atom_numbers) for atom in mol_with_h.GetAtoms()]\n",
    "        \n",
    "        coords = np.array([mol_with_h.GetConformer().GetAtomPosition(atom.GetIdx()) for atom in mol_with_h.GetAtoms()])\n",
    "        \n",
    "        voxels = voxelization(coords, resolution=10, grid_size=20)\n",
    "\n",
    "        for bond in mol_with_h.GetBonds():\n",
    "            start, end = bond.GetBeginAtomIdx(), bond.GetEndAtomIdx()\n",
    "            \n",
    "            bond_features = get_bond_3d_feature(mol_with_h, start, end)\n",
    "            edge_attr_list.append(bond_features)\n",
    "            \n",
    "            edge_index_list.append([start, end])\n",
    "            #edge_index_list.append([end, start])\n",
    "            \n",
    "        edge_index_array = np.array(edge_index_list).T  \n",
    "        edge_attr_array = np.array(edge_attr_list, dtype=np.float32)\n",
    "\n",
    "        graph_data_3d.append({\n",
    "            'nodes_features': np.array(atoms_features),\n",
    "            'edge_index': edge_index_array,  \n",
    "            'edge_attr': edge_attr_array,\n",
    "            'voxels': voxels,\n",
    "            'label': label_map[label]\n",
    "        })\n",
    "\n",
    "    return graph_data_3d\n"
   ]
  },
  {
   "cell_type": "code",
   "execution_count": 9,
   "id": "a0065e9e",
   "metadata": {},
   "outputs": [],
   "source": [
    "def get_voxels_labels(graph_data_3d):\n",
    "    voxels = np.array([item['voxels'] for item in graph_data_3d])  # [num_samples, depth, height, width]\n",
    "    labels = np.array([item['label'] for item in graph_data_3d])  # [num_samples,]\n",
    "    #voxels = torch.tensor(voxels, dtype=torch.float).permute(0, 4, 1, 2, 3)  # [num_samples, 1, depth, height, width]\n",
    "    voxels = torch.tensor(voxels, dtype=torch.float).unsqueeze(1)\n",
    "    labels = torch.tensor(labels, dtype=torch.long)\n",
    "    return voxels,labels"
   ]
  },
  {
   "cell_type": "code",
   "execution_count": 10,
   "id": "45a2ccd7",
   "metadata": {},
   "outputs": [],
   "source": [
    "def load_3d_voxels_data(graph_data_3d, batch_size):  \n",
    "    voxels,labels = get_voxels_labels(graph_data_3d)\n",
    "    voxels_train, voxels_test, labels_train, labels_test = train_test_split(voxels, labels, test_size=0.2, random_state=42)\n",
    "\n",
    "    train_dataset = TensorDataset(voxels_train, labels_train)\n",
    "    test_dataset = TensorDataset(voxels_test, labels_test)\n",
    "    \n",
    "    train_loader = DataLoader(train_dataset, batch_size=batch_size, shuffle=True)\n",
    "    test_loader = DataLoader(test_dataset, batch_size=batch_size, shuffle=False)\n",
    "    \n",
    "    return train_loader,test_loader"
   ]
  },
  {
   "cell_type": "code",
   "execution_count": 11,
   "id": "00ec858a",
   "metadata": {},
   "outputs": [],
   "source": [
    "def load_3d_voxels_data_10fold_cv(voxels, labels, train_idx, test_idx, batch_size):\n",
    "    voxels_train, labels_train = voxels[train_idx], labels[train_idx]\n",
    "    voxels_test, labels_test = voxels[test_idx], labels[test_idx]\n",
    "    \n",
    "    train_dataset = TensorDataset(voxels_train, labels_train)\n",
    "    test_dataset = TensorDataset(voxels_test, labels_test)\n",
    "    \n",
    "    train_loader = DataLoader(train_dataset, batch_size=batch_size, shuffle=True)\n",
    "    test_loader = DataLoader(test_dataset, batch_size=batch_size, shuffle=False)\n",
    "    \n",
    "    return train_loader, test_loader"
   ]
  }
 ],
 "metadata": {
  "kernelspec": {
   "display_name": "Python 3 (ipykernel)",
   "language": "python",
   "name": "python3"
  },
  "language_info": {
   "codemirror_mode": {
    "name": "ipython",
    "version": 3
   },
   "file_extension": ".py",
   "mimetype": "text/x-python",
   "name": "python",
   "nbconvert_exporter": "python",
   "pygments_lexer": "ipython3",
   "version": "3.11.4"
  }
 },
 "nbformat": 4,
 "nbformat_minor": 5
}
