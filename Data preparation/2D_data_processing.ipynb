{
 "cells": [
  {
   "cell_type": "code",
   "execution_count": 122,
   "id": "9df4fa5a",
   "metadata": {},
   "outputs": [],
   "source": [
    "from rdkit import Chem\n",
    "from rdkit.Chem import Draw\n",
    "import networkx as nx\n",
    "import matplotlib.pyplot as plt\n",
    "import pandas as pd\n",
    "import numpy as np"
   ]
  },
  {
   "cell_type": "code",
   "execution_count": 123,
   "id": "11105ec8",
   "metadata": {},
   "outputs": [],
   "source": [
    "canonical_file=\"../dataset/canonical_trainset.csv\""
   ]
  },
  {
   "cell_type": "code",
   "execution_count": 124,
   "id": "d93ead7a",
   "metadata": {},
   "outputs": [],
   "source": [
    "canonical_smiles_df=pd.read_csv(canonical_file)"
   ]
  },
  {
   "cell_type": "code",
   "execution_count": 125,
   "id": "99583d5f",
   "metadata": {},
   "outputs": [
    {
     "data": {
      "text/html": [
       "<div>\n",
       "<style scoped>\n",
       "    .dataframe tbody tr th:only-of-type {\n",
       "        vertical-align: middle;\n",
       "    }\n",
       "\n",
       "    .dataframe tbody tr th {\n",
       "        vertical-align: top;\n",
       "    }\n",
       "\n",
       "    .dataframe thead th {\n",
       "        text-align: right;\n",
       "    }\n",
       "</style>\n",
       "<table border=\"1\" class=\"dataframe\">\n",
       "  <thead>\n",
       "    <tr style=\"text-align: right;\">\n",
       "      <th></th>\n",
       "      <th>SMILES</th>\n",
       "      <th>Label</th>\n",
       "    </tr>\n",
       "  </thead>\n",
       "  <tbody>\n",
       "    <tr>\n",
       "      <th>0</th>\n",
       "      <td>CN(C)C(=N)N=C(N)N</td>\n",
       "      <td>Negative</td>\n",
       "    </tr>\n",
       "    <tr>\n",
       "      <th>1</th>\n",
       "      <td>COC(=O)C=CC(=O)O</td>\n",
       "      <td>Negative</td>\n",
       "    </tr>\n",
       "    <tr>\n",
       "      <th>2</th>\n",
       "      <td>O=C(O)C=Cc1ccccc1</td>\n",
       "      <td>Negative</td>\n",
       "    </tr>\n",
       "    <tr>\n",
       "      <th>3</th>\n",
       "      <td>Cc1ccc(C(C)C)cc1O</td>\n",
       "      <td>Negative</td>\n",
       "    </tr>\n",
       "    <tr>\n",
       "      <th>4</th>\n",
       "      <td>COc1ccc(C(=O)O)cc1</td>\n",
       "      <td>Negative</td>\n",
       "    </tr>\n",
       "  </tbody>\n",
       "</table>\n",
       "</div>"
      ],
      "text/plain": [
       "               SMILES     Label\n",
       "0   CN(C)C(=N)N=C(N)N  Negative\n",
       "1    COC(=O)C=CC(=O)O  Negative\n",
       "2   O=C(O)C=Cc1ccccc1  Negative\n",
       "3   Cc1ccc(C(C)C)cc1O  Negative\n",
       "4  COc1ccc(C(=O)O)cc1  Negative"
      ]
     },
     "execution_count": 125,
     "metadata": {},
     "output_type": "execute_result"
    }
   ],
   "source": [
    "canonical_smiles_df.head()"
   ]
  },
  {
   "cell_type": "markdown",
   "id": "df819b2e",
   "metadata": {},
   "source": [
    "# find unique elements and their number within all SMILES"
   ]
  },
  {
   "cell_type": "code",
   "execution_count": 126,
   "id": "0c4e4a21",
   "metadata": {},
   "outputs": [],
   "source": [
    "def find_unique_elements_and_atomic_numbers(smiles_series):\n",
    "    atomic_numbers = {}\n",
    "\n",
    "    for smiles in smiles_series:\n",
    "        mol = Chem.MolFromSmiles(smiles)\n",
    "        if not mol: \n",
    "            continue\n",
    "        \n",
    "        mol_with_h = Chem.AddHs(mol)\n",
    "        \n",
    "        for atom in mol_with_h.GetAtoms():\n",
    "            element = atom.GetSymbol()\n",
    "            atomic_numbers[element] = atom.GetAtomicNum()\n",
    "\n",
    "    return atomic_numbers\n"
   ]
  },
  {
   "cell_type": "markdown",
   "id": "11c33584",
   "metadata": {},
   "source": [
    "# create one hot"
   ]
  },
  {
   "cell_type": "code",
   "execution_count": 127,
   "id": "d5948f1e",
   "metadata": {},
   "outputs": [],
   "source": [
    "def one_hot_encode(val, categories):\n",
    "    return [int(val == category) for category in categories]"
   ]
  },
  {
   "cell_type": "markdown",
   "id": "3dc9c52d",
   "metadata": {},
   "source": [
    "# get all unique atom number "
   ]
  },
  {
   "cell_type": "code",
   "execution_count": 128,
   "id": "49b398a2",
   "metadata": {},
   "outputs": [],
   "source": [
    "atomic_numbers = find_unique_elements_and_atomic_numbers(canonical_smiles_df[\"SMILES\"])\n",
    "atom_number = list(atomic_numbers.values())"
   ]
  },
  {
   "cell_type": "markdown",
   "id": "72f17606",
   "metadata": {},
   "source": [
    "# get atom features"
   ]
  },
  {
   "cell_type": "code",
   "execution_count": 129,
   "id": "50984358",
   "metadata": {},
   "outputs": [],
   "source": [
    "def get_atom_features(atom):\n",
    "    atom_type = atom.GetAtomicNum()\n",
    "    atom_degree = atom.GetDegree()\n",
    "    atom_implicit_valence = atom.GetImplicitValence()\n",
    "    atom_aromatic = int(atom.GetIsAromatic())\n",
    "    atom_hybridization = atom.GetHybridization()\n",
    "    total_num_hs = atom.GetTotalNumHs()   \n",
    "    \n",
    "    atom_type_encoded = one_hot_encode(atom_type,atom_number)  \n",
    "    hybridization_types = [Chem.rdchem.HybridizationType.SP, Chem.rdchem.HybridizationType.SP2, Chem.rdchem.HybridizationType.SP3]\n",
    "    hybridization_encoded = one_hot_encode(atom_hybridization, hybridization_types)\n",
    "    \n",
    "    return np.array([atom_degree, atom_implicit_valence, atom_aromatic, total_num_hs] + atom_type_encoded + hybridization_encoded, dtype=np.float32)\n"
   ]
  },
  {
   "cell_type": "markdown",
   "id": "23f55b4c",
   "metadata": {},
   "source": [
    "# get bond features"
   ]
  },
  {
   "cell_type": "code",
   "execution_count": 130,
   "id": "3f1d5ee4",
   "metadata": {},
   "outputs": [],
   "source": [
    "def get_bond_features(bond):\n",
    "    bond_type = bond.GetBondType()\n",
    "    bond_conjugated = int(bond.GetIsConjugated())\n",
    "    bond_in_ring = int(bond.IsInRing())\n",
    "    \n",
    "    bond_types = [Chem.rdchem.BondType.SINGLE, Chem.rdchem.BondType.DOUBLE, Chem.rdchem.BondType.TRIPLE, Chem.rdchem.BondType.AROMATIC]\n",
    "    bond_type_encoded = one_hot_encode(bond_type, bond_types)\n",
    "    \n",
    "    return np.array([bond_conjugated, bond_in_ring] + bond_type_encoded, dtype=np.float32)"
   ]
  },
  {
   "cell_type": "markdown",
   "id": "ffee4f5a",
   "metadata": {},
   "source": [
    "# mian function"
   ]
  },
  {
   "cell_type": "code",
   "execution_count": 131,
   "id": "41ea3e32",
   "metadata": {},
   "outputs": [],
   "source": [
    "def preprocess_smiles(smiles_list):\n",
    "    nodes_features = []\n",
    "    edges_features = []\n",
    "    adjacency_matrices = []\n",
    "\n",
    "    for smiles in smiles_list:\n",
    "        mol = Chem.MolFromSmiles(smiles)\n",
    "        if not mol:\n",
    "            continue\n",
    "        \n",
    "        mol = Chem.AddHs(mol)  \n",
    "        \n",
    "        atoms_features = [get_atom_features(atom) for atom in mol.GetAtoms()]\n",
    "        nodes_features.append(np.array(atoms_features))\n",
    "        \n",
    "        num_atoms = len(atoms_features)\n",
    "        \n",
    "        # get adjacency matrix\n",
    "        adjacency_matrix = np.zeros((num_atoms, num_atoms), dtype=np.float32)\n",
    "        bonds_features = []\n",
    "        \n",
    "        for bond in mol.GetBonds():\n",
    "            start, end = bond.GetBeginAtomIdx(), bond.GetEndAtomIdx()\n",
    "            bond_features = get_bond_features(bond)\n",
    "            bonds_features.append((start, end, bond_features))\n",
    "            adjacency_matrix[start, end] = adjacency_matrix[end, start] = 1\n",
    "        \n",
    "        edges_features.append(np.array(bonds_features, dtype=object))\n",
    "        adjacency_matrices.append(adjacency_matrix)\n",
    "\n",
    "    return nodes_features, edges_features, adjacency_matrices"
   ]
  },
  {
   "cell_type": "code",
   "execution_count": 132,
   "id": "5056ac15",
   "metadata": {},
   "outputs": [],
   "source": [
    "nodes_features, edges_features, adjacency_matrices = preprocess_smiles(canonical_smiles_df[\"SMILES\"])"
   ]
  },
  {
   "cell_type": "code",
   "execution_count": 133,
   "id": "58785fa4",
   "metadata": {},
   "outputs": [
    {
     "name": "stdout",
     "output_type": "stream",
     "text": [
      "[array([[3., 0., 0., 0., 1., 0., 0., 0., 0., 0., 0., 0., 0., 0., 0., 1.,\n",
      "        0.],\n",
      "       [3., 0., 0., 0., 1., 0., 0., 0., 0., 0., 0., 0., 0., 0., 0., 1.,\n",
      "        0.],\n",
      "       [4., 0., 0., 0., 1., 0., 0., 0., 0., 0., 0., 0., 0., 0., 0., 0.,\n",
      "        1.],\n",
      "       [2., 0., 0., 0., 0., 0., 0., 0., 1., 0., 0., 0., 0., 0., 0., 0.,\n",
      "        1.],\n",
      "       [3., 0., 0., 0., 0., 0., 0., 0., 1., 0., 0., 0., 0., 0., 0., 0.,\n",
      "        1.],\n",
      "       [1., 0., 0., 0., 0., 0., 0., 1., 0., 0., 0., 0., 0., 0., 0., 1.,\n",
      "        0.],\n",
      "       [4., 0., 0., 0., 1., 0., 0., 0., 0., 0., 0., 0., 0., 0., 0., 0.,\n",
      "        1.],\n",
      "       [3., 0., 0., 0., 1., 0., 0., 0., 0., 0., 0., 0., 0., 0., 0., 1.,\n",
      "        0.],\n",
      "       [3., 0., 0., 0., 1., 0., 0., 0., 0., 0., 0., 0., 0., 0., 0., 1.,\n",
      "        0.],\n",
      "       [1., 0., 0., 0., 0., 0., 1., 0., 0., 0., 0., 0., 0., 0., 0., 0.,\n",
      "        0.],\n",
      "       [1., 0., 0., 0., 0., 0., 1., 0., 0., 0., 0., 0., 0., 0., 0., 0.,\n",
      "        0.],\n",
      "       [1., 0., 0., 0., 0., 0., 1., 0., 0., 0., 0., 0., 0., 0., 0., 0.,\n",
      "        0.],\n",
      "       [1., 0., 0., 0., 0., 0., 1., 0., 0., 0., 0., 0., 0., 0., 0., 0.,\n",
      "        0.],\n",
      "       [1., 0., 0., 0., 0., 0., 1., 0., 0., 0., 0., 0., 0., 0., 0., 0.,\n",
      "        0.],\n",
      "       [1., 0., 0., 0., 0., 0., 1., 0., 0., 0., 0., 0., 0., 0., 0., 0.,\n",
      "        0.],\n",
      "       [1., 0., 0., 0., 0., 0., 1., 0., 0., 0., 0., 0., 0., 0., 0., 0.,\n",
      "        0.],\n",
      "       [1., 0., 0., 0., 0., 0., 1., 0., 0., 0., 0., 0., 0., 0., 0., 0.,\n",
      "        0.],\n",
      "       [1., 0., 0., 0., 0., 0., 1., 0., 0., 0., 0., 0., 0., 0., 0., 0.,\n",
      "        0.],\n",
      "       [1., 0., 0., 0., 0., 0., 1., 0., 0., 0., 0., 0., 0., 0., 0., 0.,\n",
      "        0.]], dtype=float32)]\n",
      "[array([[0, 1, array([0., 0., 0., 1., 0., 0.], dtype=float32)],\n",
      "       [1, 2, array([0., 0., 1., 0., 0., 0.], dtype=float32)],\n",
      "       [2, 3, array([0., 0., 1., 0., 0., 0.], dtype=float32)],\n",
      "       [3, 4, array([0., 0., 1., 0., 0., 0.], dtype=float32)],\n",
      "       [4, 5, array([0., 0., 0., 1., 0., 0.], dtype=float32)],\n",
      "       [4, 6, array([0., 0., 1., 0., 0., 0.], dtype=float32)],\n",
      "       [6, 7, array([0., 0., 1., 0., 0., 0.], dtype=float32)],\n",
      "       [7, 8, array([0., 0., 0., 1., 0., 0.], dtype=float32)],\n",
      "       [0, 9, array([0., 0., 1., 0., 0., 0.], dtype=float32)],\n",
      "       [0, 10, array([0., 0., 1., 0., 0., 0.], dtype=float32)],\n",
      "       [1, 11, array([0., 0., 1., 0., 0., 0.], dtype=float32)],\n",
      "       [2, 12, array([0., 0., 1., 0., 0., 0.], dtype=float32)],\n",
      "       [2, 13, array([0., 0., 1., 0., 0., 0.], dtype=float32)],\n",
      "       [6, 14, array([0., 0., 1., 0., 0., 0.], dtype=float32)],\n",
      "       [6, 15, array([0., 0., 1., 0., 0., 0.], dtype=float32)],\n",
      "       [7, 16, array([0., 0., 1., 0., 0., 0.], dtype=float32)],\n",
      "       [8, 17, array([0., 0., 1., 0., 0., 0.], dtype=float32)],\n",
      "       [8, 18, array([0., 0., 1., 0., 0., 0.], dtype=float32)]],\n",
      "      dtype=object)]\n",
      "[array([[0., 1., 0., 0., 0., 0., 0., 0., 0., 1., 1., 0., 0., 0., 0., 0.,\n",
      "        0., 0., 0.],\n",
      "       [1., 0., 1., 0., 0., 0., 0., 0., 0., 0., 0., 1., 0., 0., 0., 0.,\n",
      "        0., 0., 0.],\n",
      "       [0., 1., 0., 1., 0., 0., 0., 0., 0., 0., 0., 0., 1., 1., 0., 0.,\n",
      "        0., 0., 0.],\n",
      "       [0., 0., 1., 0., 1., 0., 0., 0., 0., 0., 0., 0., 0., 0., 0., 0.,\n",
      "        0., 0., 0.],\n",
      "       [0., 0., 0., 1., 0., 1., 1., 0., 0., 0., 0., 0., 0., 0., 0., 0.,\n",
      "        0., 0., 0.],\n",
      "       [0., 0., 0., 0., 1., 0., 0., 0., 0., 0., 0., 0., 0., 0., 0., 0.,\n",
      "        0., 0., 0.],\n",
      "       [0., 0., 0., 0., 1., 0., 0., 1., 0., 0., 0., 0., 0., 0., 1., 1.,\n",
      "        0., 0., 0.],\n",
      "       [0., 0., 0., 0., 0., 0., 1., 0., 1., 0., 0., 0., 0., 0., 0., 0.,\n",
      "        1., 0., 0.],\n",
      "       [0., 0., 0., 0., 0., 0., 0., 1., 0., 0., 0., 0., 0., 0., 0., 0.,\n",
      "        0., 1., 1.],\n",
      "       [1., 0., 0., 0., 0., 0., 0., 0., 0., 0., 0., 0., 0., 0., 0., 0.,\n",
      "        0., 0., 0.],\n",
      "       [1., 0., 0., 0., 0., 0., 0., 0., 0., 0., 0., 0., 0., 0., 0., 0.,\n",
      "        0., 0., 0.],\n",
      "       [0., 1., 0., 0., 0., 0., 0., 0., 0., 0., 0., 0., 0., 0., 0., 0.,\n",
      "        0., 0., 0.],\n",
      "       [0., 0., 1., 0., 0., 0., 0., 0., 0., 0., 0., 0., 0., 0., 0., 0.,\n",
      "        0., 0., 0.],\n",
      "       [0., 0., 1., 0., 0., 0., 0., 0., 0., 0., 0., 0., 0., 0., 0., 0.,\n",
      "        0., 0., 0.],\n",
      "       [0., 0., 0., 0., 0., 0., 1., 0., 0., 0., 0., 0., 0., 0., 0., 0.,\n",
      "        0., 0., 0.],\n",
      "       [0., 0., 0., 0., 0., 0., 1., 0., 0., 0., 0., 0., 0., 0., 0., 0.,\n",
      "        0., 0., 0.],\n",
      "       [0., 0., 0., 0., 0., 0., 0., 1., 0., 0., 0., 0., 0., 0., 0., 0.,\n",
      "        0., 0., 0.],\n",
      "       [0., 0., 0., 0., 0., 0., 0., 0., 1., 0., 0., 0., 0., 0., 0., 0.,\n",
      "        0., 0., 0.],\n",
      "       [0., 0., 0., 0., 0., 0., 0., 0., 1., 0., 0., 0., 0., 0., 0., 0.,\n",
      "        0., 0., 0.]], dtype=float32)]\n"
     ]
    },
    {
     "data": {
      "image/png": "[encoded data removed]",
      "text/plain": [
       "<PIL.PngImagePlugin.PngImageFile image mode=RGB size=300x300>"
      ]
     },
     "execution_count": 133,
     "metadata": {},
     "output_type": "execute_result"
    }
   ],
   "source": [
    "# test\n",
    "smiles_list=[\"C=CCSS(=O)CC=C\"]\n",
    "nodes_features, edges_features, adjacency_matrices = preprocess_smiles(smiles_list)\n",
    "\n",
    "print(nodes_features)\n",
    "print(edges_features)\n",
    "print(adjacency_matrices)\n",
    "\n",
    "mol = Chem.MolFromSmiles(smiles_list[0])  \n",
    "Chem.rdDepictor.Compute2DCoords(mol)\n",
    "Draw.MolToImage(mol)"
   ]
  },
  {
   "cell_type": "code",
   "execution_count": null,
   "id": "19d1fab3",
   "metadata": {},
   "outputs": [],
   "source": []
  }
 ],
 "metadata": {
  "kernelspec": {
   "display_name": "Python 3 (ipykernel)",
   "language": "python",
   "name": "python3"
  },
  "language_info": {
   "codemirror_mode": {
    "name": "ipython",
    "version": 3
   },
   "file_extension": ".py",
   "mimetype": "text/x-python",
   "name": "python",
   "nbconvert_exporter": "python",
   "pygments_lexer": "ipython3",
   "version": "3.11.4"
  }
 },
 "nbformat": 4,
 "nbformat_minor": 5
}
