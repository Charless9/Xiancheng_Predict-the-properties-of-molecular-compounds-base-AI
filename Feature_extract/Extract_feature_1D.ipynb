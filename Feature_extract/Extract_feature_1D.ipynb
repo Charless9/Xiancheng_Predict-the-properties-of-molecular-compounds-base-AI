{
 "cells": [
  {
   "cell_type": "code",
   "execution_count": 1,
   "id": "710689a1",
   "metadata": {},
   "outputs": [],
   "source": [
    "import pandas as pd\n",
    "import torch\n",
    "import torch.optim as optim\n",
    "import torch.nn as nn\n",
    "import os\n",
    "import sys\n",
    "import nbimporter\n",
    "\n",
    "project_root = os.path.join(os.getcwd(), '..')\n",
    "sys.path.append(project_root)\n",
    "\n",
    "from datapreparation.Process_1D_data import *\n",
    "from models.Model_building import *\n",
    "from augmentation.data_augmentation import *\n",
    "from cv_strategies.train_cv_strategy_123D import *\n",
    "from Extract_features.extract_features_from_dataset import *\n",
    "from testing.offline_test import *\n"
   ]
  },
  {
   "cell_type": "markdown",
   "id": "34b3639c",
   "metadata": {},
   "source": [
    "# Training"
   ]
  },
  {
   "cell_type": "code",
   "execution_count": 2,
   "id": "a226f1db",
   "metadata": {},
   "outputs": [],
   "source": [
    "canonical_file = '../dataset/final_canonical_trainset.csv'\n",
    "ori_smiles_df = pd.read_csv(canonical_file)"
   ]
  },
  {
   "cell_type": "markdown",
   "id": "40557b1c",
   "metadata": {},
   "source": [
    "## data augmentation"
   ]
  },
  {
   "cell_type": "code",
   "execution_count": 3,
   "id": "32fce040",
   "metadata": {},
   "outputs": [],
   "source": [
    "smiles_df = smiles_augmentation(ori_smiles_df, original_multiplier=2, num_variants=2)"
   ]
  },
  {
   "cell_type": "code",
   "execution_count": 4,
   "id": "06bc1918",
   "metadata": {},
   "outputs": [
    {
     "name": "stdout",
     "output_type": "stream",
     "text": [
      "(4964, 2)\n"
     ]
    }
   ],
   "source": [
    "print(smiles_df.shape)"
   ]
  },
  {
   "cell_type": "code",
   "execution_count": 5,
   "id": "79475b32",
   "metadata": {},
   "outputs": [],
   "source": [
    "smiles_list = smiles_df['SMILES'].tolist()\n",
    "labels = smiles_df['Label'].apply(lambda x: 1 if x == 'Positive' else 0).tolist()\n",
    "data = pack_smiles_label(smiles_list, labels)"
   ]
  },
  {
   "cell_type": "markdown",
   "id": "084cdc07",
   "metadata": {},
   "source": [
    "## set parameters"
   ]
  },
  {
   "cell_type": "code",
   "execution_count": 6,
   "id": "77461ffa",
   "metadata": {},
   "outputs": [],
   "source": [
    "tokenizer = create_vocab(smiles_list)\n",
    "stoi = tokenizer['stoi']\n",
    "input_dim = len(stoi)\n",
    "embed_dim = 64\n",
    "hidden_dim = 128\n",
    "device = torch.device(\"cuda\" if torch.cuda.is_available() else \"cpu\")\n",
    "output_dim = 1\n",
    "criterion = nn.BCEWithLogitsLoss()\n",
    "#output_dim = 2\n",
    "#criterion = nn.CrossEntropyLoss()\n",
    "batch_size = 4\n",
    "epoch_num = 30"
   ]
  },
  {
   "cell_type": "markdown",
   "id": "e78f43a1",
   "metadata": {},
   "source": [
    "## general training"
   ]
  },
  {
   "cell_type": "code",
   "execution_count": 7,
   "id": "91fdce48",
   "metadata": {},
   "outputs": [
    {
     "name": "stdout",
     "output_type": "stream",
     "text": [
      "Epoch: 1/30, Train Loss: 0.6898, Train Acc: 0.5439, Val Loss: 0.6787, Val Acc: 0.5770, SEN: 0.8200, SPE: 0.3306, MCC: 0.1728\n",
      "Epoch: 2/30, Train Loss: 0.6818, Train Acc: 0.5648, Val Loss: 0.6647, Val Acc: 0.5801, SEN: 0.8560, SPE: 0.3002, MCC: 0.1881\n",
      "Epoch: 3/30, Train Loss: 0.6704, Train Acc: 0.5825, Val Loss: 0.6543, Val Acc: 0.5911, SEN: 0.8720, SPE: 0.3063, MCC: 0.2164\n",
      "Epoch: 4/30, Train Loss: 0.6523, Train Acc: 0.6180, Val Loss: 0.6432, Val Acc: 0.6264, SEN: 0.8640, SPE: 0.3854, MCC: 0.2843\n",
      "Epoch: 5/30, Train Loss: 0.6099, Train Acc: 0.6555, Val Loss: 0.6029, Val Acc: 0.6798, SEN: 0.8320, SPE: 0.5254, MCC: 0.3758\n",
      "Epoch: 6/30, Train Loss: 0.5763, Train Acc: 0.7013, Val Loss: 0.5967, Val Acc: 0.6747, SEN: 0.8820, SPE: 0.4645, MCC: 0.3818\n",
      "Epoch: 7/30, Train Loss: 0.5393, Train Acc: 0.7240, Val Loss: 0.5575, Val Acc: 0.7049, SEN: 0.7040, SPE: 0.7059, MCC: 0.4099\n",
      "Epoch: 8/30, Train Loss: 0.5010, Train Acc: 0.7610, Val Loss: 0.5298, Val Acc: 0.7221, SEN: 0.8340, SPE: 0.6085, MCC: 0.4545\n",
      "Epoch: 9/30, Train Loss: 0.4555, Train Acc: 0.7837, Val Loss: 0.5238, Val Acc: 0.7392, SEN: 0.7820, SPE: 0.6957, MCC: 0.4797\n",
      "Epoch: 10/30, Train Loss: 0.4106, Train Acc: 0.8096, Val Loss: 0.5134, Val Acc: 0.7442, SEN: 0.7840, SPE: 0.7039, MCC: 0.4896\n",
      "Epoch: 11/30, Train Loss: 0.3649, Train Acc: 0.8386, Val Loss: 0.5020, Val Acc: 0.7613, SEN: 0.8460, SPE: 0.6755, MCC: 0.5295\n",
      "Epoch: 12/30, Train Loss: 0.3233, Train Acc: 0.8585, Val Loss: 0.5105, Val Acc: 0.7623, SEN: 0.8120, SPE: 0.7120, MCC: 0.5268\n",
      "Epoch: 13/30, Train Loss: 0.2760, Train Acc: 0.8824, Val Loss: 0.5425, Val Acc: 0.7523, SEN: 0.6860, SPE: 0.8195, MCC: 0.5098\n",
      "Epoch: 14/30, Train Loss: 0.2473, Train Acc: 0.8910, Val Loss: 0.4998, Val Acc: 0.7734, SEN: 0.7960, SPE: 0.7505, MCC: 0.5472\n",
      "Epoch: 15/30, Train Loss: 0.2320, Train Acc: 0.9020, Val Loss: 0.4986, Val Acc: 0.8056, SEN: 0.8400, SPE: 0.7708, MCC: 0.6124\n",
      "Epoch: 16/30, Train Loss: 0.1921, Train Acc: 0.9197, Val Loss: 0.6339, Val Acc: 0.7664, SEN: 0.8440, SPE: 0.6876, MCC: 0.5386\n",
      "Epoch: 17/30, Train Loss: 0.1995, Train Acc: 0.9219, Val Loss: 0.5564, Val Acc: 0.8006, SEN: 0.8500, SPE: 0.7505, MCC: 0.6037\n",
      "Epoch: 18/30, Train Loss: 0.1592, Train Acc: 0.9373, Val Loss: 0.5654, Val Acc: 0.7946, SEN: 0.8160, SPE: 0.7728, MCC: 0.5895\n",
      "Epoch: 19/30, Train Loss: 0.1409, Train Acc: 0.9396, Val Loss: 0.5808, Val Acc: 0.8056, SEN: 0.8060, SPE: 0.8053, MCC: 0.6113\n",
      "Epoch: 20/30, Train Loss: 0.1323, Train Acc: 0.9484, Val Loss: 0.6317, Val Acc: 0.7875, SEN: 0.8000, SPE: 0.7748, MCC: 0.5751\n",
      "Epoch: 21/30, Train Loss: 0.1238, Train Acc: 0.9514, Val Loss: 0.7350, Val Acc: 0.7704, SEN: 0.8400, SPE: 0.6998, MCC: 0.5455\n",
      "Epoch: 22/30, Train Loss: 0.1227, Train Acc: 0.9522, Val Loss: 0.5892, Val Acc: 0.8187, SEN: 0.8600, SPE: 0.7769, MCC: 0.6393\n",
      "Epoch: 23/30, Train Loss: 0.0896, Train Acc: 0.9660, Val Loss: 0.6930, Val Acc: 0.8036, SEN: 0.8580, SPE: 0.7485, MCC: 0.6104\n",
      "Epoch: 24/30, Train Loss: 0.1028, Train Acc: 0.9632, Val Loss: 0.6354, Val Acc: 0.7936, SEN: 0.7940, SPE: 0.7931, MCC: 0.5871\n",
      "Epoch: 25/30, Train Loss: 0.0945, Train Acc: 0.9663, Val Loss: 0.6448, Val Acc: 0.8187, SEN: 0.8180, SPE: 0.8195, MCC: 0.6375\n",
      "Epoch: 26/30, Train Loss: 0.1113, Train Acc: 0.9595, Val Loss: 0.6203, Val Acc: 0.8248, SEN: 0.8380, SPE: 0.8114, MCC: 0.6497\n",
      "Epoch: 27/30, Train Loss: 0.0892, Train Acc: 0.9683, Val Loss: 0.7149, Val Acc: 0.8268, SEN: 0.8580, SPE: 0.7951, MCC: 0.6546\n",
      "Epoch: 28/30, Train Loss: 0.0749, Train Acc: 0.9720, Val Loss: 0.7335, Val Acc: 0.8117, SEN: 0.8640, SPE: 0.7586, MCC: 0.6264\n",
      "Epoch: 29/30, Train Loss: 0.0874, Train Acc: 0.9695, Val Loss: 0.7420, Val Acc: 0.8046, SEN: 0.8200, SPE: 0.7890, MCC: 0.6094\n",
      "Epoch: 30/30, Train Loss: 0.0776, Train Acc: 0.9743, Val Loss: 0.7457, Val Acc: 0.8127, SEN: 0.8500, SPE: 0.7748, MCC: 0.6268\n",
      "Best model saved: best_model_1d\\best_model_val_acc_0.8268.pth\n",
      "Training complete.\n"
     ]
    }
   ],
   "source": [
    "model_general = RNNModel(input_dim, embed_dim, hidden_dim, output_dim).to(device)\n",
    "optimizer_general = optim.Adam(model_general.parameters(),lr=0.001)\n",
    "training_general(data, model_general, optimizer_general, criterion, batch_size, epoch_num, device, '1d', \\\n",
    "                 mode='train', Preprocess=None, scale_path=None)"
   ]
  },
  {
   "cell_type": "markdown",
   "id": "23b5e021",
   "metadata": {},
   "source": [
    "## fold cv training"
   ]
  },
  {
   "cell_type": "code",
   "execution_count": 8,
   "id": "f6cbc376",
   "metadata": {
    "scrolled": true
   },
   "outputs": [
    {
     "name": "stdout",
     "output_type": "stream",
     "text": [
      "Fold 1/10\n",
      "Epoch: 1/5, Train Loss: 0.6876, Train Acc: 0.5554, Val Loss: 0.6834, Val Acc: 0.5412, SEN: 0.9000, SPE: 0.2062, MCC: 0.1467\n",
      "Epoch: 2/5, Train Loss: 0.6710, Train Acc: 0.5865, Val Loss: 0.6404, Val Acc: 0.6398, SEN: 0.6333, SPE: 0.6459, MCC: 0.2792\n",
      "Epoch: 3/5, Train Loss: 0.6420, Train Acc: 0.6291, Val Loss: 0.6154, Val Acc: 0.6499, SEN: 0.8833, SPE: 0.4319, MCC: 0.3510\n",
      "Epoch: 4/5, Train Loss: 0.6190, Train Acc: 0.6586, Val Loss: 0.5822, Val Acc: 0.6922, SEN: 0.5958, SPE: 0.7821, MCC: 0.3854\n",
      "Epoch: 5/5, Train Loss: 0.5815, Train Acc: 0.6922, Val Loss: 0.5465, Val Acc: 0.7264, SEN: 0.7250, SPE: 0.7276, MCC: 0.4524\n",
      "Fold 2/10\n",
      "Epoch: 1/5, Train Loss: 0.5317, Train Acc: 0.7358, Val Loss: 0.5236, Val Acc: 0.7465, SEN: 0.7385, SPE: 0.7553, MCC: 0.4932\n",
      "Epoch: 2/5, Train Loss: 0.4747, Train Acc: 0.7759, Val Loss: 0.4781, Val Acc: 0.7767, SEN: 0.7385, SPE: 0.8186, MCC: 0.5573\n",
      "Epoch: 3/5, Train Loss: 0.4296, Train Acc: 0.7983, Val Loss: 0.4634, Val Acc: 0.7787, SEN: 0.7346, SPE: 0.8270, MCC: 0.5623\n",
      "Epoch: 4/5, Train Loss: 0.3775, Train Acc: 0.8339, Val Loss: 0.4311, Val Acc: 0.8028, SEN: 0.7615, SPE: 0.8481, MCC: 0.6100\n",
      "Epoch: 5/5, Train Loss: 0.3289, Train Acc: 0.8596, Val Loss: 0.4566, Val Acc: 0.7787, SEN: 0.7000, SPE: 0.8650, MCC: 0.5699\n",
      "Fold 3/10\n",
      "Epoch: 1/5, Train Loss: 0.3098, Train Acc: 0.8643, Val Loss: 0.2967, Val Acc: 0.8793, SEN: 0.9134, SPE: 0.8436, MCC: 0.7597\n",
      "Epoch: 2/5, Train Loss: 0.2680, Train Acc: 0.8861, Val Loss: 0.3026, Val Acc: 0.8732, SEN: 0.8307, SPE: 0.9177, MCC: 0.7501\n",
      "Epoch: 3/5, Train Loss: 0.2398, Train Acc: 0.9015, Val Loss: 0.2898, Val Acc: 0.8813, SEN: 0.9173, SPE: 0.8436, MCC: 0.7639\n",
      "Epoch: 4/5, Train Loss: 0.1959, Train Acc: 0.9174, Val Loss: 0.2994, Val Acc: 0.8672, SEN: 0.8307, SPE: 0.9053, MCC: 0.7371\n",
      "Epoch: 5/5, Train Loss: 0.1869, Train Acc: 0.9241, Val Loss: 0.3170, Val Acc: 0.8692, SEN: 0.8701, SPE: 0.8683, MCC: 0.7383\n",
      "Fold 4/10\n",
      "Epoch: 1/5, Train Loss: 0.1747, Train Acc: 0.9279, Val Loss: 0.1551, Val Acc: 0.9437, SEN: 0.9453, SPE: 0.9419, MCC: 0.8872\n",
      "Epoch: 2/5, Train Loss: 0.1510, Train Acc: 0.9420, Val Loss: 0.1760, Val Acc: 0.9155, SEN: 0.9062, SPE: 0.9253, MCC: 0.8312\n",
      "Epoch: 3/5, Train Loss: 0.1416, Train Acc: 0.9472, Val Loss: 0.1992, Val Acc: 0.9074, SEN: 0.9297, SPE: 0.8838, MCC: 0.8152\n",
      "Epoch: 4/5, Train Loss: 0.1317, Train Acc: 0.9505, Val Loss: 0.1912, Val Acc: 0.9235, SEN: 0.9102, SPE: 0.9378, MCC: 0.8475\n",
      "Epoch: 5/5, Train Loss: 0.1202, Train Acc: 0.9555, Val Loss: 0.2282, Val Acc: 0.9034, SEN: 0.9062, SPE: 0.9004, MCC: 0.8067\n",
      "Fold 5/10\n",
      "Epoch: 1/5, Train Loss: 0.1224, Train Acc: 0.9559, Val Loss: 0.1076, Val Acc: 0.9597, SEN: 0.9488, SPE: 0.9711, MCC: 0.9196\n",
      "Epoch: 2/5, Train Loss: 0.1019, Train Acc: 0.9637, Val Loss: 0.1041, Val Acc: 0.9577, SEN: 0.9567, SPE: 0.9587, MCC: 0.9153\n",
      "Epoch: 3/5, Train Loss: 0.0936, Train Acc: 0.9658, Val Loss: 0.1553, Val Acc: 0.9315, SEN: 0.9606, SPE: 0.9008, MCC: 0.8640\n",
      "Epoch: 4/5, Train Loss: 0.0896, Train Acc: 0.9649, Val Loss: 0.1284, Val Acc: 0.9516, SEN: 0.9567, SPE: 0.9463, MCC: 0.9032\n",
      "Epoch: 5/5, Train Loss: 0.0866, Train Acc: 0.9680, Val Loss: 0.1614, Val Acc: 0.9315, SEN: 0.9685, SPE: 0.8926, MCC: 0.8649\n",
      "Fold 6/10\n",
      "Epoch: 1/5, Train Loss: 0.0896, Train Acc: 0.9696, Val Loss: 0.0756, Val Acc: 0.9778, SEN: 0.9638, SPE: 0.9955, MCC: 0.9559\n",
      "Epoch: 2/5, Train Loss: 0.0667, Train Acc: 0.9803, Val Loss: 0.0786, Val Acc: 0.9718, SEN: 0.9565, SPE: 0.9909, MCC: 0.9439\n",
      "Epoch: 3/5, Train Loss: 0.0857, Train Acc: 0.9700, Val Loss: 0.1233, Val Acc: 0.9556, SEN: 0.9275, SPE: 0.9909, MCC: 0.9133\n",
      "Epoch: 4/5, Train Loss: 0.0699, Train Acc: 0.9752, Val Loss: 0.1483, Val Acc: 0.9375, SEN: 0.8986, SPE: 0.9864, MCC: 0.8793\n",
      "Epoch: 5/5, Train Loss: 0.0560, Train Acc: 0.9825, Val Loss: 0.1345, Val Acc: 0.9637, SEN: 0.9964, SPE: 0.9227, MCC: 0.9279\n",
      "Fold 7/10\n",
      "Epoch: 1/5, Train Loss: 0.0844, Train Acc: 0.9731, Val Loss: 0.0876, Val Acc: 0.9758, SEN: 0.9572, SPE: 0.9958, MCC: 0.9524\n",
      "Epoch: 2/5, Train Loss: 0.0682, Train Acc: 0.9758, Val Loss: 0.0748, Val Acc: 0.9778, SEN: 0.9728, SPE: 0.9833, MCC: 0.9557\n",
      "Epoch: 3/5, Train Loss: 0.0401, Train Acc: 0.9852, Val Loss: 0.1009, Val Acc: 0.9536, SEN: 0.9494, SPE: 0.9582, MCC: 0.9072\n",
      "Epoch: 4/5, Train Loss: 0.0713, Train Acc: 0.9769, Val Loss: 0.0904, Val Acc: 0.9556, SEN: 0.9767, SPE: 0.9331, MCC: 0.9118\n",
      "Epoch: 5/5, Train Loss: 0.0533, Train Acc: 0.9834, Val Loss: 0.1393, Val Acc: 0.9556, SEN: 0.9844, SPE: 0.9247, MCC: 0.9125\n",
      "Fold 8/10\n",
      "Epoch: 1/5, Train Loss: 0.0584, Train Acc: 0.9796, Val Loss: 0.0486, Val Acc: 0.9899, SEN: 0.9876, SPE: 0.9921, MCC: 0.9798\n",
      "Epoch: 2/5, Train Loss: 0.0542, Train Acc: 0.9796, Val Loss: 0.1164, Val Acc: 0.9597, SEN: 0.9545, SPE: 0.9646, MCC: 0.9193\n",
      "Epoch: 3/5, Train Loss: 0.0477, Train Acc: 0.9852, Val Loss: 0.0736, Val Acc: 0.9718, SEN: 0.9711, SPE: 0.9724, MCC: 0.9435\n",
      "Epoch: 4/5, Train Loss: 0.0608, Train Acc: 0.9819, Val Loss: 0.0631, Val Acc: 0.9819, SEN: 0.9669, SPE: 0.9961, MCC: 0.9640\n",
      "Epoch: 5/5, Train Loss: 0.0447, Train Acc: 0.9837, Val Loss: 0.0808, Val Acc: 0.9738, SEN: 0.9917, SPE: 0.9567, MCC: 0.9482\n",
      "Fold 9/10\n",
      "Epoch: 1/5, Train Loss: 0.0395, Train Acc: 0.9846, Val Loss: 0.0413, Val Acc: 0.9879, SEN: 0.9917, SPE: 0.9843, MCC: 0.9758\n",
      "Epoch: 2/5, Train Loss: 0.0485, Train Acc: 0.9839, Val Loss: 0.0506, Val Acc: 0.9879, SEN: 0.9959, SPE: 0.9804, MCC: 0.9759\n",
      "Epoch: 3/5, Train Loss: 0.0637, Train Acc: 0.9799, Val Loss: 0.0582, Val Acc: 0.9859, SEN: 0.9834, SPE: 0.9882, MCC: 0.9718\n",
      "Epoch: 4/5, Train Loss: 0.0460, Train Acc: 0.9834, Val Loss: 0.0659, Val Acc: 0.9698, SEN: 0.9793, SPE: 0.9608, MCC: 0.9397\n",
      "Epoch: 5/5, Train Loss: 0.0322, Train Acc: 0.9895, Val Loss: 0.0810, Val Acc: 0.9677, SEN: 0.9710, SPE: 0.9647, MCC: 0.9355\n",
      "Fold 10/10\n",
      "Epoch: 1/5, Train Loss: 0.0304, Train Acc: 0.9897, Val Loss: 0.0508, Val Acc: 0.9819, SEN: 0.9846, SPE: 0.9788, MCC: 0.9636\n",
      "Epoch: 2/5, Train Loss: 0.0361, Train Acc: 0.9886, Val Loss: 0.0436, Val Acc: 0.9859, SEN: 0.9846, SPE: 0.9873, MCC: 0.9717\n",
      "Epoch: 3/5, Train Loss: 0.0520, Train Acc: 0.9834, Val Loss: 0.0465, Val Acc: 0.9778, SEN: 0.9731, SPE: 0.9831, MCC: 0.9556\n",
      "Epoch: 4/5, Train Loss: 0.0325, Train Acc: 0.9902, Val Loss: 0.0303, Val Acc: 0.9899, SEN: 0.9885, SPE: 0.9915, MCC: 0.9798\n",
      "Epoch: 5/5, Train Loss: 0.0491, Train Acc: 0.9857, Val Loss: 0.0544, Val Acc: 0.9839, SEN: 0.9962, SPE: 0.9703, MCC: 0.9679\n",
      "Average Validation Accuracy: 0.9237, Average Validation Loss: 0.2200\n"
     ]
    }
   ],
   "source": [
    "model_cv = RNNModel(input_dim, embed_dim, hidden_dim, output_dim).to(device)\n",
    "optimizer_cv = optim.Adam(model_cv.parameters(),lr=0.001)\n",
    "training_with_10fold_cv(data, model_cv, optimizer_cv, criterion, device, batch_size, 5, '1d', \\\n",
    "                        reset=False, n_splits=10, mode='train',Preprocess=None,scale_path=None)\n"
   ]
  },
  {
   "cell_type": "markdown",
   "id": "80f490c0",
   "metadata": {},
   "source": [
    "# Offline test and select model"
   ]
  },
  {
   "cell_type": "code",
   "execution_count": 9,
   "id": "6dcdc08b",
   "metadata": {},
   "outputs": [],
   "source": [
    "offlinetest_file = '../dataset/canonical_offlinetestset.csv'"
   ]
  },
  {
   "cell_type": "code",
   "execution_count": 10,
   "id": "527c04d7",
   "metadata": {},
   "outputs": [],
   "source": [
    "# best_model_1d  foldcv_models_1d\n",
    "model_save_dir1 = 'best_model_1d/'\n",
    "model_save_dir2 = 'foldcv_models_1d/'"
   ]
  },
  {
   "cell_type": "code",
   "execution_count": 11,
   "id": "c1b1dc3a",
   "metadata": {},
   "outputs": [
    {
     "name": "stdout",
     "output_type": "stream",
     "text": [
      "Model: best_model_val_acc_0.8268.pth, ACC: 0.7268, SEN: 0.8085, SPE: 0.6577, MCC: 0.4675\n",
      "Model: model_periodic_epoch_10.pth, ACC: 0.7512, SEN: 0.9043, SPE: 0.6216, MCC: 0.5397\n",
      "Model: model_periodic_epoch_15.pth, ACC: 0.7366, SEN: 0.8723, SPE: 0.6216, MCC: 0.5035\n",
      "Model: model_periodic_epoch_20.pth, ACC: 0.7171, SEN: 0.7872, SPE: 0.6577, MCC: 0.4453\n",
      "Model: model_periodic_epoch_25.pth, ACC: 0.7268, SEN: 0.8298, SPE: 0.6396, MCC: 0.4733\n",
      "Model: model_periodic_epoch_30.pth, ACC: 0.7268, SEN: 0.8085, SPE: 0.6577, MCC: 0.4675\n",
      "Model: model_periodic_epoch_5.pth, ACC: 0.6732, SEN: 0.8936, SPE: 0.4865, MCC: 0.4087\n"
     ]
    }
   ],
   "source": [
    "integrated_test_model(offlinetest_file, '1d', model_general, criterion,device, 1, model_save_dir1, \\\n",
    "                      tokenizer=tokenizer, atom_numbers=None, mode='test', Preprocess=None, scale_path=None)"
   ]
  },
  {
   "cell_type": "code",
   "execution_count": 12,
   "id": "bd24d1e7",
   "metadata": {},
   "outputs": [
    {
     "name": "stdout",
     "output_type": "stream",
     "text": [
      "Model: best_model_fold_10_epoch_4.pth, ACC: 0.7220, SEN: 0.8617, SPE: 0.6036, MCC: 0.4753\n",
      "Model: best_model_fold_1_epoch_5.pth, ACC: 0.6683, SEN: 0.7447, SPE: 0.6036, MCC: 0.3493\n",
      "Model: best_model_fold_2_epoch_4.pth, ACC: 0.7268, SEN: 0.7128, SPE: 0.7387, MCC: 0.4509\n",
      "Model: best_model_fold_3_epoch_3.pth, ACC: 0.6878, SEN: 0.8085, SPE: 0.5856, MCC: 0.4000\n",
      "Model: best_model_fold_4_epoch_1.pth, ACC: 0.7024, SEN: 0.7234, SPE: 0.6847, MCC: 0.4067\n",
      "Model: best_model_fold_5_epoch_1.pth, ACC: 0.7561, SEN: 0.8511, SPE: 0.6757, MCC: 0.5295\n",
      "Model: best_model_fold_6_epoch_1.pth, ACC: 0.7171, SEN: 0.8617, SPE: 0.5946, MCC: 0.4672\n",
      "Model: best_model_fold_7_epoch_2.pth, ACC: 0.7268, SEN: 0.8511, SPE: 0.6216, MCC: 0.4798\n",
      "Model: best_model_fold_8_epoch_1.pth, ACC: 0.7415, SEN: 0.8617, SPE: 0.6396, MCC: 0.5080\n",
      "Model: best_model_fold_9_epoch_1.pth, ACC: 0.7610, SEN: 0.8723, SPE: 0.6667, MCC: 0.5442\n"
     ]
    }
   ],
   "source": [
    "integrated_test_model(offlinetest_file, '1d', model_cv, criterion,device, 1, model_save_dir2, \\\n",
    "                      tokenizer=tokenizer, atom_numbers=None, mode='test', Preprocess=None, scale_path=None)"
   ]
  },
  {
   "cell_type": "code",
   "execution_count": null,
   "id": "109f101e",
   "metadata": {},
   "outputs": [],
   "source": []
  }
 ],
 "metadata": {
  "kernelspec": {
   "display_name": "Python 3 (ipykernel)",
   "language": "python",
   "name": "python3"
  },
  "language_info": {
   "codemirror_mode": {
    "name": "ipython",
    "version": 3
   },
   "file_extension": ".py",
   "mimetype": "text/x-python",
   "name": "python",
   "nbconvert_exporter": "python",
   "pygments_lexer": "ipython3",
   "version": "3.11.4"
  }
 },
 "nbformat": 4,
 "nbformat_minor": 5
}
