{
 "cells": [
  {
   "cell_type": "code",
   "execution_count": 1,
   "id": "bdce4b74",
   "metadata": {},
   "outputs": [],
   "source": [
    "import pandas as pd\n",
    "import torch\n",
    "import torch.optim as optim\n",
    "import torch.nn as nn\n",
    "import os\n",
    "import sys\n",
    "import nbimporter\n",
    "\n",
    "project_root = os.path.join(os.getcwd(), '..')\n",
    "sys.path.append(project_root)\n",
    "\n",
    "from datapreparation.Process_graph_2d_data import *\n",
    "from models.Model_building import *\n",
    "from augmentation.data_augmentation import *\n",
    "from cv_strategies.train_cv_strategy_123D import *\n",
    "from Extract_features.extract_features_from_dataset import *\n",
    "from testing.offline_test import *"
   ]
  },
  {
   "cell_type": "markdown",
   "id": "8467369c",
   "metadata": {},
   "source": [
    "# Training"
   ]
  },
  {
   "cell_type": "code",
   "execution_count": 2,
   "id": "e97e69f8",
   "metadata": {},
   "outputs": [],
   "source": [
    "canonical_file = '../dataset/final_canonical_trainset.csv'\n",
    "ori_smiles_df = pd.read_csv(canonical_file)"
   ]
  },
  {
   "cell_type": "markdown",
   "id": "3d67928a",
   "metadata": {},
   "source": [
    "## data augmentation"
   ]
  },
  {
   "cell_type": "code",
   "execution_count": 3,
   "id": "90ce129c",
   "metadata": {},
   "outputs": [],
   "source": [
    "smiles_df = smiles_augmentation(ori_smiles_df, original_multiplier=4, num_variants=4)"
   ]
  },
  {
   "cell_type": "code",
   "execution_count": 4,
   "id": "f11ad0fb",
   "metadata": {},
   "outputs": [
    {
     "name": "stdout",
     "output_type": "stream",
     "text": [
      "(9928, 2)\n"
     ]
    }
   ],
   "source": [
    "print(smiles_df.shape)"
   ]
  },
  {
   "cell_type": "code",
   "execution_count": 5,
   "id": "ab74770b",
   "metadata": {},
   "outputs": [],
   "source": [
    "labels = smiles_df['Label']\n",
    "smiles_list = smiles_df[\"SMILES\"]\n",
    "atom_numbers = get_atom_number(smiles_list)"
   ]
  },
  {
   "cell_type": "code",
   "execution_count": 6,
   "id": "fe7896b7",
   "metadata": {},
   "outputs": [
    {
     "name": "stderr",
     "output_type": "stream",
     "text": [
      "get graph_data: 100%|█████████████████████████████████████████████████████████████| 9928/9928 [00:10<00:00, 918.81it/s]\n"
     ]
    }
   ],
   "source": [
    "graph_data_2d = preprocess_2d_graph_data(smiles_list, labels, atom_numbers)\n",
    "num_node_features = graph_data_2d[0]['nodes_features'].shape[1]\n",
    "num_edge_features = graph_data_2d[0]['edge_attr'].shape[1]"
   ]
  },
  {
   "cell_type": "markdown",
   "id": "b3ea52e4",
   "metadata": {},
   "source": [
    "## set parameters"
   ]
  },
  {
   "cell_type": "code",
   "execution_count": 7,
   "id": "386500b8",
   "metadata": {},
   "outputs": [],
   "source": [
    "device = torch.device('cuda' if torch.cuda.is_available() else 'cpu')\n",
    "output_dim = 1\n",
    "criterion = nn.BCEWithLogitsLoss()\n",
    "#output_dim = 2\n",
    "#criterion = nn.CrossEntropyLoss()\n",
    "#model = GCNNnodes(num_node_features,output_dim).to(device)\n",
    "batch_size=64\n",
    "epoch_num=150\n",
    "scale_path_2d ='standardize_scale_2d.pkl'             # None    'standardize_scale_2d.pkl'  'normalize_scale_2d.pkl'\n",
    "scale_path_cv_2d = 'standardize_scale_cv_2d.pkl'    # None    'standardize_scale_cv_2d.pkl'\n",
    "Preprocess2d = 'standardize'                       # None   'standardize'   'normalize'\n",
    "Preprocesscv_2d = 'standardize'                    # None   'standardize'   'normalize'"
   ]
  },
  {
   "cell_type": "markdown",
   "id": "f9ee9792",
   "metadata": {},
   "source": [
    "## general training"
   ]
  },
  {
   "cell_type": "code",
   "execution_count": 8,
   "id": "4e570910",
   "metadata": {},
   "outputs": [
    {
     "name": "stdout",
     "output_type": "stream",
     "text": [
      "Epoch: 1/150, Train Loss: 0.6485, Train Acc: 0.6202, Val Loss: 0.6430, Val Acc: 0.6324, SEN: 0.5766, SPE: 0.6890, MCC: 0.2672\n",
      "Epoch: 2/150, Train Loss: 0.6326, Train Acc: 0.6476, Val Loss: 0.6176, Val Acc: 0.6591, SEN: 0.7427, SPE: 0.5745, MCC: 0.3219\n",
      "Epoch: 3/150, Train Loss: 0.6192, Train Acc: 0.6574, Val Loss: 0.6109, Val Acc: 0.6732, SEN: 0.7167, SPE: 0.6292, MCC: 0.3473\n",
      "Epoch: 4/150, Train Loss: 0.6129, Train Acc: 0.6657, Val Loss: 0.6199, Val Acc: 0.6611, SEN: 0.8609, SPE: 0.4590, MCC: 0.3496\n",
      "Epoch: 5/150, Train Loss: 0.6012, Train Acc: 0.6667, Val Loss: 0.6229, Val Acc: 0.6365, SEN: 0.8889, SPE: 0.3810, MCC: 0.3136\n",
      "Epoch: 6/150, Train Loss: 0.5879, Train Acc: 0.6804, Val Loss: 0.5958, Val Acc: 0.6687, SEN: 0.6066, SPE: 0.7315, MCC: 0.3407\n",
      "Epoch: 7/150, Train Loss: 0.5871, Train Acc: 0.6823, Val Loss: 0.5838, Val Acc: 0.6697, SEN: 0.7638, SPE: 0.5745, MCC: 0.3446\n",
      "Epoch: 8/150, Train Loss: 0.5865, Train Acc: 0.6813, Val Loss: 0.5795, Val Acc: 0.6772, SEN: 0.6587, SPE: 0.6960, MCC: 0.3549\n",
      "Epoch: 9/150, Train Loss: 0.5688, Train Acc: 0.6940, Val Loss: 0.5641, Val Acc: 0.6742, SEN: 0.6707, SPE: 0.6778, MCC: 0.3485\n",
      "Epoch: 10/150, Train Loss: 0.5511, Train Acc: 0.7028, Val Loss: 0.5650, Val Acc: 0.6908, SEN: 0.7467, SPE: 0.6342, MCC: 0.3835\n",
      "Epoch: 11/150, Train Loss: 0.5438, Train Acc: 0.7134, Val Loss: 0.5539, Val Acc: 0.6903, SEN: 0.6166, SPE: 0.7649, MCC: 0.3857\n",
      "Epoch: 12/150, Train Loss: 0.5396, Train Acc: 0.7142, Val Loss: 0.5511, Val Acc: 0.6772, SEN: 0.7167, SPE: 0.6373, MCC: 0.3552\n",
      "Epoch: 13/150, Train Loss: 0.5292, Train Acc: 0.7259, Val Loss: 0.5241, Val Acc: 0.7039, SEN: 0.6937, SPE: 0.7143, MCC: 0.4080\n",
      "Epoch: 14/150, Train Loss: 0.5233, Train Acc: 0.7187, Val Loss: 0.5218, Val Acc: 0.7090, SEN: 0.7708, SPE: 0.6464, MCC: 0.4206\n",
      "Epoch: 15/150, Train Loss: 0.5147, Train Acc: 0.7358, Val Loss: 0.5636, Val Acc: 0.6873, SEN: 0.8679, SPE: 0.5046, MCC: 0.4001\n",
      "Epoch: 16/150, Train Loss: 0.5045, Train Acc: 0.7358, Val Loss: 0.5189, Val Acc: 0.7306, SEN: 0.6957, SPE: 0.7660, MCC: 0.4627\n",
      "Epoch: 17/150, Train Loss: 0.4965, Train Acc: 0.7423, Val Loss: 0.5003, Val Acc: 0.7226, SEN: 0.8358, SPE: 0.6079, MCC: 0.4560\n",
      "Epoch: 18/150, Train Loss: 0.4932, Train Acc: 0.7491, Val Loss: 0.5080, Val Acc: 0.7311, SEN: 0.6637, SPE: 0.7994, MCC: 0.4672\n",
      "Epoch: 19/150, Train Loss: 0.4796, Train Acc: 0.7545, Val Loss: 0.5591, Val Acc: 0.7080, SEN: 0.8599, SPE: 0.5542, MCC: 0.4352\n",
      "Epoch: 20/150, Train Loss: 0.4756, Train Acc: 0.7545, Val Loss: 0.5018, Val Acc: 0.7316, SEN: 0.7157, SPE: 0.7477, MCC: 0.4636\n",
      "Epoch: 21/150, Train Loss: 0.4785, Train Acc: 0.7611, Val Loss: 0.4768, Val Acc: 0.7346, SEN: 0.7858, SPE: 0.6829, MCC: 0.4713\n",
      "Epoch: 22/150, Train Loss: 0.4732, Train Acc: 0.7620, Val Loss: 0.5143, Val Acc: 0.7256, SEN: 0.7898, SPE: 0.6606, MCC: 0.4543\n",
      "Epoch: 23/150, Train Loss: 0.4797, Train Acc: 0.7525, Val Loss: 0.4876, Val Acc: 0.7261, SEN: 0.8679, SPE: 0.5826, MCC: 0.4704\n",
      "Epoch: 24/150, Train Loss: 0.4563, Train Acc: 0.7697, Val Loss: 0.5046, Val Acc: 0.7306, SEN: 0.7808, SPE: 0.6798, MCC: 0.4631\n",
      "Epoch: 25/150, Train Loss: 0.4466, Train Acc: 0.7735, Val Loss: 0.4762, Val Acc: 0.7462, SEN: 0.6817, SPE: 0.8116, MCC: 0.4972\n",
      "Epoch: 26/150, Train Loss: 0.4429, Train Acc: 0.7776, Val Loss: 0.4705, Val Acc: 0.7432, SEN: 0.8579, SPE: 0.6272, MCC: 0.4988\n",
      "Epoch: 27/150, Train Loss: 0.4456, Train Acc: 0.7817, Val Loss: 0.4715, Val Acc: 0.7422, SEN: 0.7698, SPE: 0.7143, MCC: 0.4849\n",
      "Epoch: 28/150, Train Loss: 0.4460, Train Acc: 0.7736, Val Loss: 0.4566, Val Acc: 0.7573, SEN: 0.7217, SPE: 0.7933, MCC: 0.5162\n",
      "Epoch: 29/150, Train Loss: 0.4367, Train Acc: 0.7817, Val Loss: 0.4763, Val Acc: 0.7573, SEN: 0.8589, SPE: 0.6545, MCC: 0.5248\n",
      "Epoch: 30/150, Train Loss: 0.4257, Train Acc: 0.7859, Val Loss: 0.4258, Val Acc: 0.7800, SEN: 0.8008, SPE: 0.7589, MCC: 0.5602\n",
      "Epoch: 31/150, Train Loss: 0.4224, Train Acc: 0.7877, Val Loss: 0.4504, Val Acc: 0.7603, SEN: 0.8719, SPE: 0.6474, MCC: 0.5333\n",
      "Epoch: 32/150, Train Loss: 0.4172, Train Acc: 0.7924, Val Loss: 0.4589, Val Acc: 0.7618, SEN: 0.7558, SPE: 0.7680, MCC: 0.5238\n",
      "Epoch: 33/150, Train Loss: 0.4109, Train Acc: 0.7992, Val Loss: 0.4287, Val Acc: 0.7830, SEN: 0.8228, SPE: 0.7427, MCC: 0.5675\n",
      "Epoch: 34/150, Train Loss: 0.4049, Train Acc: 0.8068, Val Loss: 0.4348, Val Acc: 0.7749, SEN: 0.8208, SPE: 0.7285, MCC: 0.5518\n",
      "Epoch: 35/150, Train Loss: 0.4015, Train Acc: 0.8057, Val Loss: 0.4846, Val Acc: 0.7759, SEN: 0.7357, SPE: 0.8166, MCC: 0.5540\n",
      "Epoch: 36/150, Train Loss: 0.3996, Train Acc: 0.8053, Val Loss: 0.4248, Val Acc: 0.7815, SEN: 0.8168, SPE: 0.7457, MCC: 0.5641\n",
      "Epoch: 37/150, Train Loss: 0.3819, Train Acc: 0.8155, Val Loss: 0.4297, Val Acc: 0.7774, SEN: 0.8689, SPE: 0.6849, MCC: 0.5637\n",
      "Epoch: 38/150, Train Loss: 0.3897, Train Acc: 0.8114, Val Loss: 0.4035, Val Acc: 0.8001, SEN: 0.8258, SPE: 0.7741, MCC: 0.6008\n",
      "Epoch: 39/150, Train Loss: 0.3828, Train Acc: 0.8165, Val Loss: 0.4265, Val Acc: 0.7890, SEN: 0.7988, SPE: 0.7791, MCC: 0.5781\n",
      "Epoch: 40/150, Train Loss: 0.3901, Train Acc: 0.8169, Val Loss: 0.3756, Val Acc: 0.8061, SEN: 0.8248, SPE: 0.7872, MCC: 0.6126\n",
      "Epoch: 41/150, Train Loss: 0.3977, Train Acc: 0.8089, Val Loss: 0.4076, Val Acc: 0.7880, SEN: 0.8689, SPE: 0.7062, MCC: 0.5831\n",
      "Epoch: 42/150, Train Loss: 0.3648, Train Acc: 0.8228, Val Loss: 0.3908, Val Acc: 0.8036, SEN: 0.8609, SPE: 0.7457, MCC: 0.6109\n",
      "Epoch: 43/150, Train Loss: 0.3563, Train Acc: 0.8309, Val Loss: 0.3648, Val Acc: 0.8142, SEN: 0.8298, SPE: 0.7984, MCC: 0.6286\n",
      "Epoch: 44/150, Train Loss: 0.3659, Train Acc: 0.8317, Val Loss: 0.3733, Val Acc: 0.8011, SEN: 0.7998, SPE: 0.8024, MCC: 0.6022\n",
      "Epoch: 45/150, Train Loss: 0.3675, Train Acc: 0.8255, Val Loss: 0.3840, Val Acc: 0.8197, SEN: 0.8368, SPE: 0.8024, MCC: 0.6397\n",
      "Epoch: 46/150, Train Loss: 0.3705, Train Acc: 0.8275, Val Loss: 0.3727, Val Acc: 0.8132, SEN: 0.8288, SPE: 0.7974, MCC: 0.6266\n",
      "Epoch: 47/150, Train Loss: 0.3634, Train Acc: 0.8274, Val Loss: 0.3702, Val Acc: 0.8132, SEN: 0.8038, SPE: 0.8227, MCC: 0.6266\n",
      "Epoch: 48/150, Train Loss: 0.3483, Train Acc: 0.8381, Val Loss: 0.3977, Val Acc: 0.7996, SEN: 0.7678, SPE: 0.8318, MCC: 0.6007\n",
      "Epoch: 49/150, Train Loss: 0.3436, Train Acc: 0.8378, Val Loss: 0.3716, Val Acc: 0.8152, SEN: 0.8278, SPE: 0.8024, MCC: 0.6305\n",
      "Epoch: 50/150, Train Loss: 0.3285, Train Acc: 0.8436, Val Loss: 0.3618, Val Acc: 0.8248, SEN: 0.8549, SPE: 0.7943, MCC: 0.6505\n",
      "Epoch: 51/150, Train Loss: 0.3407, Train Acc: 0.8382, Val Loss: 0.3544, Val Acc: 0.8182, SEN: 0.8529, SPE: 0.7832, MCC: 0.6377\n",
      "Epoch: 52/150, Train Loss: 0.3330, Train Acc: 0.8429, Val Loss: 0.3915, Val Acc: 0.8021, SEN: 0.8028, SPE: 0.8014, MCC: 0.6042\n",
      "Epoch: 53/150, Train Loss: 0.3555, Train Acc: 0.8371, Val Loss: 0.3562, Val Acc: 0.8207, SEN: 0.7788, SPE: 0.8632, MCC: 0.6441\n",
      "Epoch: 54/150, Train Loss: 0.3355, Train Acc: 0.8460, Val Loss: 0.3564, Val Acc: 0.8313, SEN: 0.8819, SPE: 0.7801, MCC: 0.6657\n",
      "Epoch: 55/150, Train Loss: 0.3204, Train Acc: 0.8534, Val Loss: 0.3462, Val Acc: 0.8379, SEN: 0.8228, SPE: 0.8531, MCC: 0.6761\n",
      "Epoch: 56/150, Train Loss: 0.3137, Train Acc: 0.8527, Val Loss: 0.3270, Val Acc: 0.8424, SEN: 0.8298, SPE: 0.8551, MCC: 0.6851\n",
      "Epoch: 57/150, Train Loss: 0.3191, Train Acc: 0.8531, Val Loss: 0.3584, Val Acc: 0.8248, SEN: 0.8328, SPE: 0.8166, MCC: 0.6496\n",
      "Epoch: 58/150, Train Loss: 0.3196, Train Acc: 0.8517, Val Loss: 0.3684, Val Acc: 0.8137, SEN: 0.7778, SPE: 0.8501, MCC: 0.6293\n",
      "Epoch: 59/150, Train Loss: 0.3323, Train Acc: 0.8408, Val Loss: 0.3426, Val Acc: 0.8338, SEN: 0.8478, SPE: 0.8197, MCC: 0.6678\n",
      "Epoch: 60/150, Train Loss: 0.3239, Train Acc: 0.8450, Val Loss: 0.3430, Val Acc: 0.8333, SEN: 0.8619, SPE: 0.8045, MCC: 0.6676\n",
      "Epoch: 61/150, Train Loss: 0.3037, Train Acc: 0.8566, Val Loss: 0.3428, Val Acc: 0.8268, SEN: 0.8118, SPE: 0.8419, MCC: 0.6540\n",
      "Epoch: 62/150, Train Loss: 0.3121, Train Acc: 0.8531, Val Loss: 0.3633, Val Acc: 0.8268, SEN: 0.8068, SPE: 0.8470, MCC: 0.6542\n",
      "Epoch: 63/150, Train Loss: 0.3223, Train Acc: 0.8549, Val Loss: 0.3260, Val Acc: 0.8364, SEN: 0.8278, SPE: 0.8450, MCC: 0.6729\n",
      "Epoch: 64/150, Train Loss: 0.3799, Train Acc: 0.8288, Val Loss: 0.3373, Val Acc: 0.8353, SEN: 0.8418, SPE: 0.8288, MCC: 0.6707\n",
      "Epoch: 65/150, Train Loss: 0.3042, Train Acc: 0.8581, Val Loss: 0.3065, Val Acc: 0.8444, SEN: 0.8569, SPE: 0.8318, MCC: 0.6890\n"
     ]
    },
    {
     "name": "stdout",
     "output_type": "stream",
     "text": [
      "Epoch: 66/150, Train Loss: 0.3056, Train Acc: 0.8562, Val Loss: 0.3550, Val Acc: 0.8409, SEN: 0.7778, SPE: 0.9048, MCC: 0.6877\n",
      "Epoch: 67/150, Train Loss: 0.3008, Train Acc: 0.8631, Val Loss: 0.3184, Val Acc: 0.8343, SEN: 0.8468, SPE: 0.8217, MCC: 0.6688\n",
      "Epoch: 68/150, Train Loss: 0.3085, Train Acc: 0.8573, Val Loss: 0.3481, Val Acc: 0.8374, SEN: 0.7518, SPE: 0.9240, MCC: 0.6855\n",
      "Epoch: 69/150, Train Loss: 0.3167, Train Acc: 0.8581, Val Loss: 0.3615, Val Acc: 0.8444, SEN: 0.7818, SPE: 0.9078, MCC: 0.6947\n",
      "Epoch: 70/150, Train Loss: 0.3011, Train Acc: 0.8607, Val Loss: 0.3523, Val Acc: 0.8323, SEN: 0.8919, SPE: 0.7720, MCC: 0.6691\n",
      "Epoch: 71/150, Train Loss: 0.2891, Train Acc: 0.8664, Val Loss: 0.3243, Val Acc: 0.8364, SEN: 0.8579, SPE: 0.8146, MCC: 0.6732\n",
      "Epoch: 72/150, Train Loss: 0.3037, Train Acc: 0.8633, Val Loss: 0.3158, Val Acc: 0.8535, SEN: 0.8348, SPE: 0.8723, MCC: 0.7076\n",
      "Epoch: 73/150, Train Loss: 0.2805, Train Acc: 0.8691, Val Loss: 0.3120, Val Acc: 0.8676, SEN: 0.8358, SPE: 0.8997, MCC: 0.7368\n",
      "Epoch: 74/150, Train Loss: 0.2838, Train Acc: 0.8701, Val Loss: 0.3207, Val Acc: 0.8565, SEN: 0.8128, SPE: 0.9007, MCC: 0.7160\n",
      "Epoch: 75/150, Train Loss: 0.2960, Train Acc: 0.8644, Val Loss: 0.3186, Val Acc: 0.8520, SEN: 0.8148, SPE: 0.8896, MCC: 0.7061\n",
      "Epoch: 76/150, Train Loss: 0.2815, Train Acc: 0.8753, Val Loss: 0.3195, Val Acc: 0.8429, SEN: 0.8118, SPE: 0.8744, MCC: 0.6873\n",
      "Epoch: 77/150, Train Loss: 0.2949, Train Acc: 0.8674, Val Loss: 0.3028, Val Acc: 0.8550, SEN: 0.8549, SPE: 0.8551, MCC: 0.7100\n",
      "Epoch: 78/150, Train Loss: 0.2705, Train Acc: 0.8782, Val Loss: 0.3748, Val Acc: 0.8192, SEN: 0.8799, SPE: 0.7579, MCC: 0.6428\n",
      "Epoch: 79/150, Train Loss: 0.2799, Train Acc: 0.8714, Val Loss: 0.3235, Val Acc: 0.8293, SEN: 0.8979, SPE: 0.7599, MCC: 0.6645\n",
      "Epoch: 80/150, Train Loss: 0.2806, Train Acc: 0.8732, Val Loss: 0.2931, Val Acc: 0.8630, SEN: 0.8458, SPE: 0.8804, MCC: 0.7266\n",
      "Epoch: 81/150, Train Loss: 0.2797, Train Acc: 0.8713, Val Loss: 0.3002, Val Acc: 0.8625, SEN: 0.8529, SPE: 0.8723, MCC: 0.7253\n",
      "Epoch: 82/150, Train Loss: 0.2844, Train Acc: 0.8755, Val Loss: 0.3073, Val Acc: 0.8575, SEN: 0.7858, SPE: 0.9301, MCC: 0.7230\n",
      "Epoch: 83/150, Train Loss: 0.2726, Train Acc: 0.8781, Val Loss: 0.2789, Val Acc: 0.8751, SEN: 0.8789, SPE: 0.8713, MCC: 0.7502\n",
      "Epoch: 84/150, Train Loss: 0.2740, Train Acc: 0.8782, Val Loss: 0.3017, Val Acc: 0.8565, SEN: 0.7998, SPE: 0.9139, MCC: 0.7180\n",
      "Epoch: 85/150, Train Loss: 0.2719, Train Acc: 0.8777, Val Loss: 0.3133, Val Acc: 0.8499, SEN: 0.8789, SPE: 0.8207, MCC: 0.7009\n",
      "Epoch: 86/150, Train Loss: 0.2650, Train Acc: 0.8842, Val Loss: 0.3141, Val Acc: 0.8635, SEN: 0.8328, SPE: 0.8946, MCC: 0.7287\n",
      "Epoch: 87/150, Train Loss: 0.2597, Train Acc: 0.8825, Val Loss: 0.3499, Val Acc: 0.8510, SEN: 0.7818, SPE: 0.9210, MCC: 0.7092\n",
      "Epoch: 88/150, Train Loss: 0.2567, Train Acc: 0.8854, Val Loss: 0.3285, Val Acc: 0.8494, SEN: 0.8729, SPE: 0.8257, MCC: 0.6995\n",
      "Epoch: 89/150, Train Loss: 0.2884, Train Acc: 0.8725, Val Loss: 0.3016, Val Acc: 0.8605, SEN: 0.8278, SPE: 0.8936, MCC: 0.7228\n",
      "Epoch: 90/150, Train Loss: 0.2804, Train Acc: 0.8707, Val Loss: 0.2909, Val Acc: 0.8610, SEN: 0.8639, SPE: 0.8582, MCC: 0.7220\n",
      "Epoch: 91/150, Train Loss: 0.2725, Train Acc: 0.8811, Val Loss: 0.2920, Val Acc: 0.8640, SEN: 0.8488, SPE: 0.8794, MCC: 0.7285\n",
      "Epoch: 92/150, Train Loss: 0.2495, Train Acc: 0.8910, Val Loss: 0.3477, Val Acc: 0.8419, SEN: 0.8909, SPE: 0.7923, MCC: 0.6868\n",
      "Epoch: 93/150, Train Loss: 0.2833, Train Acc: 0.8709, Val Loss: 0.3021, Val Acc: 0.8555, SEN: 0.8639, SPE: 0.8470, MCC: 0.7110\n",
      "Epoch: 94/150, Train Loss: 0.2549, Train Acc: 0.8886, Val Loss: 0.2990, Val Acc: 0.8610, SEN: 0.8228, SPE: 0.8997, MCC: 0.7244\n",
      "Epoch: 95/150, Train Loss: 0.2590, Train Acc: 0.8857, Val Loss: 0.2996, Val Acc: 0.8530, SEN: 0.8659, SPE: 0.8399, MCC: 0.7061\n",
      "Epoch: 96/150, Train Loss: 0.2600, Train Acc: 0.8832, Val Loss: 0.2960, Val Acc: 0.8580, SEN: 0.8689, SPE: 0.8470, MCC: 0.7161\n",
      "Epoch: 97/150, Train Loss: 0.2864, Train Acc: 0.8753, Val Loss: 0.2822, Val Acc: 0.8646, SEN: 0.8969, SPE: 0.8318, MCC: 0.7305\n",
      "Epoch: 98/150, Train Loss: 0.2714, Train Acc: 0.8839, Val Loss: 0.2814, Val Acc: 0.8605, SEN: 0.8909, SPE: 0.8298, MCC: 0.7222\n",
      "Epoch: 99/150, Train Loss: 0.2590, Train Acc: 0.8876, Val Loss: 0.2979, Val Acc: 0.8640, SEN: 0.8679, SPE: 0.8602, MCC: 0.7281\n",
      "Epoch: 100/150, Train Loss: 0.2786, Train Acc: 0.8765, Val Loss: 0.2838, Val Acc: 0.8686, SEN: 0.8218, SPE: 0.9159, MCC: 0.7407\n",
      "Epoch: 101/150, Train Loss: 0.2392, Train Acc: 0.8932, Val Loss: 0.3003, Val Acc: 0.8625, SEN: 0.8248, SPE: 0.9007, MCC: 0.7274\n",
      "Epoch: 102/150, Train Loss: 0.2315, Train Acc: 0.8965, Val Loss: 0.2783, Val Acc: 0.8691, SEN: 0.8619, SPE: 0.8764, MCC: 0.7383\n",
      "Epoch: 103/150, Train Loss: 0.2259, Train Acc: 0.8978, Val Loss: 0.2671, Val Acc: 0.8746, SEN: 0.8919, SPE: 0.8571, MCC: 0.7496\n",
      "Epoch: 104/150, Train Loss: 0.2366, Train Acc: 0.8946, Val Loss: 0.2971, Val Acc: 0.8701, SEN: 0.8328, SPE: 0.9078, MCC: 0.7425\n",
      "Epoch: 105/150, Train Loss: 0.2590, Train Acc: 0.8882, Val Loss: 0.2776, Val Acc: 0.8630, SEN: 0.8879, SPE: 0.8379, MCC: 0.7268\n",
      "Epoch: 106/150, Train Loss: 0.2332, Train Acc: 0.8969, Val Loss: 0.2840, Val Acc: 0.8787, SEN: 0.8759, SPE: 0.8815, MCC: 0.7573\n",
      "Epoch: 107/150, Train Loss: 0.2322, Train Acc: 0.8986, Val Loss: 0.2577, Val Acc: 0.8797, SEN: 0.8799, SPE: 0.8794, MCC: 0.7593\n",
      "Epoch: 108/150, Train Loss: 0.2677, Train Acc: 0.8814, Val Loss: 0.2729, Val Acc: 0.8771, SEN: 0.8629, SPE: 0.8916, MCC: 0.7547\n",
      "Epoch: 109/150, Train Loss: 0.2379, Train Acc: 0.8965, Val Loss: 0.2788, Val Acc: 0.8776, SEN: 0.8679, SPE: 0.8875, MCC: 0.7555\n",
      "Epoch: 110/150, Train Loss: 0.2384, Train Acc: 0.8966, Val Loss: 0.3047, Val Acc: 0.8600, SEN: 0.9119, SPE: 0.8075, MCC: 0.7237\n",
      "Epoch: 111/150, Train Loss: 0.2432, Train Acc: 0.8928, Val Loss: 0.3594, Val Acc: 0.8379, SEN: 0.7698, SPE: 0.9068, MCC: 0.6826\n",
      "Epoch: 112/150, Train Loss: 0.2436, Train Acc: 0.8926, Val Loss: 0.2693, Val Acc: 0.8766, SEN: 0.8619, SPE: 0.8916, MCC: 0.7537\n",
      "Epoch: 113/150, Train Loss: 0.2223, Train Acc: 0.9020, Val Loss: 0.2602, Val Acc: 0.8837, SEN: 0.8719, SPE: 0.8956, MCC: 0.7676\n",
      "Epoch: 114/150, Train Loss: 0.2351, Train Acc: 0.9012, Val Loss: 0.3071, Val Acc: 0.8615, SEN: 0.8959, SPE: 0.8267, MCC: 0.7246\n",
      "Epoch: 115/150, Train Loss: 0.2405, Train Acc: 0.9005, Val Loss: 0.2745, Val Acc: 0.8656, SEN: 0.8849, SPE: 0.8460, MCC: 0.7316\n",
      "Epoch: 116/150, Train Loss: 0.2386, Train Acc: 0.8952, Val Loss: 0.2668, Val Acc: 0.8741, SEN: 0.8699, SPE: 0.8784, MCC: 0.7483\n",
      "Epoch: 117/150, Train Loss: 0.2359, Train Acc: 0.8994, Val Loss: 0.2660, Val Acc: 0.8837, SEN: 0.8428, SPE: 0.9250, MCC: 0.7702\n",
      "Epoch: 118/150, Train Loss: 0.2270, Train Acc: 0.9068, Val Loss: 0.3464, Val Acc: 0.8515, SEN: 0.8809, SPE: 0.8217, MCC: 0.7040\n",
      "Epoch: 119/150, Train Loss: 0.2497, Train Acc: 0.8955, Val Loss: 0.3247, Val Acc: 0.8525, SEN: 0.7938, SPE: 0.9119, MCC: 0.7102\n",
      "Epoch: 120/150, Train Loss: 0.2377, Train Acc: 0.9004, Val Loss: 0.2499, Val Acc: 0.8852, SEN: 0.8919, SPE: 0.8784, MCC: 0.7704\n",
      "Epoch: 121/150, Train Loss: 0.2388, Train Acc: 0.9014, Val Loss: 0.3275, Val Acc: 0.8510, SEN: 0.9249, SPE: 0.7761, MCC: 0.7094\n",
      "Epoch: 122/150, Train Loss: 0.3235, Train Acc: 0.8735, Val Loss: 0.3556, Val Acc: 0.8328, SEN: 0.8308, SPE: 0.8349, MCC: 0.6657\n",
      "Epoch: 123/150, Train Loss: 0.2968, Train Acc: 0.8760, Val Loss: 0.2813, Val Acc: 0.8635, SEN: 0.8649, SPE: 0.8622, MCC: 0.7271\n",
      "Epoch: 124/150, Train Loss: 0.2207, Train Acc: 0.9032, Val Loss: 0.2829, Val Acc: 0.8716, SEN: 0.9119, SPE: 0.8308, MCC: 0.7454\n",
      "Epoch: 125/150, Train Loss: 0.2154, Train Acc: 0.9083, Val Loss: 0.2547, Val Acc: 0.8867, SEN: 0.8949, SPE: 0.8784, MCC: 0.7735\n",
      "Epoch: 126/150, Train Loss: 0.2123, Train Acc: 0.9071, Val Loss: 0.2512, Val Acc: 0.8847, SEN: 0.8609, SPE: 0.9088, MCC: 0.7704\n",
      "Epoch: 127/150, Train Loss: 0.2089, Train Acc: 0.9114, Val Loss: 0.2519, Val Acc: 0.8857, SEN: 0.8919, SPE: 0.8794, MCC: 0.7714\n",
      "Epoch: 128/150, Train Loss: 0.2109, Train Acc: 0.9090, Val Loss: 0.2516, Val Acc: 0.8963, SEN: 0.9009, SPE: 0.8916, MCC: 0.7926\n",
      "Epoch: 129/150, Train Loss: 0.2207, Train Acc: 0.9068, Val Loss: 0.2534, Val Acc: 0.8897, SEN: 0.8919, SPE: 0.8875, MCC: 0.7794\n",
      "Epoch: 130/150, Train Loss: 0.2443, Train Acc: 0.8971, Val Loss: 0.2562, Val Acc: 0.8862, SEN: 0.8989, SPE: 0.8734, MCC: 0.7726\n"
     ]
    },
    {
     "name": "stdout",
     "output_type": "stream",
     "text": [
      "Epoch: 131/150, Train Loss: 0.2028, Train Acc: 0.9140, Val Loss: 0.2584, Val Acc: 0.8842, SEN: 0.8989, SPE: 0.8693, MCC: 0.7686\n",
      "Epoch: 132/150, Train Loss: 0.2130, Train Acc: 0.9102, Val Loss: 0.2505, Val Acc: 0.8978, SEN: 0.8789, SPE: 0.9169, MCC: 0.7962\n",
      "Epoch: 133/150, Train Loss: 0.2235, Train Acc: 0.9087, Val Loss: 0.3088, Val Acc: 0.8590, SEN: 0.8649, SPE: 0.8531, MCC: 0.7180\n",
      "Epoch: 134/150, Train Loss: 0.2340, Train Acc: 0.9005, Val Loss: 0.2426, Val Acc: 0.8933, SEN: 0.8789, SPE: 0.9078, MCC: 0.7869\n",
      "Epoch: 135/150, Train Loss: 0.2057, Train Acc: 0.9161, Val Loss: 0.2280, Val Acc: 0.8983, SEN: 0.8869, SPE: 0.9098, MCC: 0.7968\n",
      "Epoch: 136/150, Train Loss: 0.2058, Train Acc: 0.9137, Val Loss: 0.2477, Val Acc: 0.8912, SEN: 0.8899, SPE: 0.8926, MCC: 0.7825\n",
      "Epoch: 137/150, Train Loss: 0.2014, Train Acc: 0.9189, Val Loss: 0.3022, Val Acc: 0.8696, SEN: 0.9159, SPE: 0.8227, MCC: 0.7421\n",
      "Epoch: 138/150, Train Loss: 0.2502, Train Acc: 0.8940, Val Loss: 0.3008, Val Acc: 0.8671, SEN: 0.9029, SPE: 0.8308, MCC: 0.7358\n",
      "Epoch: 139/150, Train Loss: 0.2127, Train Acc: 0.9112, Val Loss: 0.2777, Val Acc: 0.8761, SEN: 0.8539, SPE: 0.8987, MCC: 0.7531\n",
      "Epoch: 140/150, Train Loss: 0.2536, Train Acc: 0.8950, Val Loss: 0.2535, Val Acc: 0.8897, SEN: 0.8549, SPE: 0.9250, MCC: 0.7815\n",
      "Epoch: 141/150, Train Loss: 0.2043, Train Acc: 0.9156, Val Loss: 0.2367, Val Acc: 0.8922, SEN: 0.8829, SPE: 0.9017, MCC: 0.7847\n",
      "Epoch: 142/150, Train Loss: 0.2036, Train Acc: 0.9148, Val Loss: 0.2364, Val Acc: 0.8948, SEN: 0.9099, SPE: 0.8794, MCC: 0.7898\n",
      "Epoch: 143/150, Train Loss: 0.1978, Train Acc: 0.9146, Val Loss: 0.2395, Val Acc: 0.8948, SEN: 0.8879, SPE: 0.9017, MCC: 0.7896\n",
      "Epoch: 144/150, Train Loss: 0.1983, Train Acc: 0.9182, Val Loss: 0.2588, Val Acc: 0.8877, SEN: 0.8879, SPE: 0.8875, MCC: 0.7754\n",
      "Epoch: 145/150, Train Loss: 0.2017, Train Acc: 0.9171, Val Loss: 0.2686, Val Acc: 0.8852, SEN: 0.8509, SPE: 0.9200, MCC: 0.7724\n",
      "Epoch: 146/150, Train Loss: 0.2080, Train Acc: 0.9115, Val Loss: 0.3102, Val Acc: 0.8666, SEN: 0.8689, SPE: 0.8642, MCC: 0.7331\n",
      "Epoch: 147/150, Train Loss: 0.2136, Train Acc: 0.9097, Val Loss: 0.2763, Val Acc: 0.8867, SEN: 0.9149, SPE: 0.8582, MCC: 0.7745\n",
      "Epoch: 148/150, Train Loss: 0.2066, Train Acc: 0.9168, Val Loss: 0.2485, Val Acc: 0.8882, SEN: 0.8779, SPE: 0.8987, MCC: 0.7766\n",
      "Epoch: 149/150, Train Loss: 0.1943, Train Acc: 0.9182, Val Loss: 0.2265, Val Acc: 0.9033, SEN: 0.8799, SPE: 0.9271, MCC: 0.8076\n",
      "Epoch: 150/150, Train Loss: 0.2126, Train Acc: 0.9121, Val Loss: 0.2886, Val Acc: 0.8761, SEN: 0.8599, SPE: 0.8926, MCC: 0.7527\n",
      "Best model saved: best_model_2d\\best_model_val_acc_0.9033.pth\n",
      "Training complete.\n"
     ]
    }
   ],
   "source": [
    "model_general = EnhancedGCNNnodes(num_node_features, output_dim, dropout_rate=0)\n",
    "optimizer_general = optim.Adam(model_general.parameters(),lr=0.01)\n",
    "training_general(graph_data_2d, model_general, optimizer_general, criterion, batch_size, epoch_num, device, '2d', \\\n",
    "                 mode='train', Preprocess=Preprocess2d, scale_path=scale_path_2d)"
   ]
  },
  {
   "cell_type": "markdown",
   "id": "b4d12fc3",
   "metadata": {},
   "source": [
    "## fold cv training"
   ]
  },
  {
   "cell_type": "code",
   "execution_count": 9,
   "id": "44c977eb",
   "metadata": {
    "scrolled": true
   },
   "outputs": [
    {
     "name": "stdout",
     "output_type": "stream",
     "text": [
      "Fold 1/10\n",
      "Epoch: 1/15, Train Loss: 0.6569, Train Acc: 0.6145, Val Loss: 0.6309, Val Acc: 0.6626, SEN: 0.6713, SPE: 0.6537, MCC: 0.3250\n",
      "Epoch: 2/15, Train Loss: 0.6345, Train Acc: 0.6402, Val Loss: 0.6213, Val Acc: 0.6647, SEN: 0.7564, SPE: 0.5697, MCC: 0.3323\n",
      "Epoch: 3/15, Train Loss: 0.6285, Train Acc: 0.6463, Val Loss: 0.6527, Val Acc: 0.5740, SEN: 0.9525, SPE: 0.1824, MCC: 0.2123\n",
      "Epoch: 4/15, Train Loss: 0.6225, Train Acc: 0.6522, Val Loss: 0.6206, Val Acc: 0.6677, SEN: 0.8198, SPE: 0.5102, MCC: 0.3477\n",
      "Epoch: 5/15, Train Loss: 0.6163, Train Acc: 0.6630, Val Loss: 0.6069, Val Acc: 0.6687, SEN: 0.6931, SPE: 0.6434, MCC: 0.3370\n",
      "Epoch: 6/15, Train Loss: 0.6126, Train Acc: 0.6597, Val Loss: 0.6157, Val Acc: 0.6626, SEN: 0.6851, SPE: 0.6393, MCC: 0.3249\n",
      "Epoch: 7/15, Train Loss: 0.6047, Train Acc: 0.6703, Val Loss: 0.5964, Val Acc: 0.6767, SEN: 0.7683, SPE: 0.5820, MCC: 0.3569\n",
      "Epoch: 8/15, Train Loss: 0.5925, Train Acc: 0.6741, Val Loss: 0.6270, Val Acc: 0.6647, SEN: 0.6099, SPE: 0.7213, MCC: 0.3330\n",
      "Epoch: 9/15, Train Loss: 0.5892, Train Acc: 0.6789, Val Loss: 0.5847, Val Acc: 0.6788, SEN: 0.6990, SPE: 0.6578, MCC: 0.3571\n",
      "Epoch: 10/15, Train Loss: 0.5776, Train Acc: 0.6881, Val Loss: 0.5802, Val Acc: 0.6868, SEN: 0.6693, SPE: 0.7049, MCC: 0.3743\n",
      "Epoch: 11/15, Train Loss: 0.5691, Train Acc: 0.6849, Val Loss: 0.5890, Val Acc: 0.6677, SEN: 0.6594, SPE: 0.6762, MCC: 0.3356\n",
      "Epoch: 12/15, Train Loss: 0.5610, Train Acc: 0.6938, Val Loss: 0.5727, Val Acc: 0.6767, SEN: 0.6119, SPE: 0.7439, MCC: 0.3585\n",
      "Epoch: 13/15, Train Loss: 0.5504, Train Acc: 0.7026, Val Loss: 0.5676, Val Acc: 0.7029, SEN: 0.7109, SPE: 0.6947, MCC: 0.4056\n",
      "Epoch: 14/15, Train Loss: 0.5449, Train Acc: 0.7088, Val Loss: 0.5440, Val Acc: 0.7190, SEN: 0.7168, SPE: 0.7213, MCC: 0.4381\n",
      "Epoch: 15/15, Train Loss: 0.5373, Train Acc: 0.7135, Val Loss: 0.5344, Val Acc: 0.7110, SEN: 0.6238, SPE: 0.8012, MCC: 0.4312\n",
      "Fold 2/10\n",
      "Epoch: 1/15, Train Loss: 0.5265, Train Acc: 0.7183, Val Loss: 0.5451, Val Acc: 0.6959, SEN: 0.7206, SPE: 0.6713, MCC: 0.3924\n",
      "Epoch: 2/15, Train Loss: 0.5160, Train Acc: 0.7312, Val Loss: 0.5258, Val Acc: 0.7110, SEN: 0.7166, SPE: 0.7054, MCC: 0.4220\n",
      "Epoch: 3/15, Train Loss: 0.5119, Train Acc: 0.7286, Val Loss: 0.5264, Val Acc: 0.7311, SEN: 0.6599, SPE: 0.8016, MCC: 0.4664\n",
      "Epoch: 4/15, Train Loss: 0.4977, Train Acc: 0.7361, Val Loss: 0.5221, Val Acc: 0.7261, SEN: 0.6518, SPE: 0.7996, MCC: 0.4566\n",
      "Epoch: 5/15, Train Loss: 0.4991, Train Acc: 0.7412, Val Loss: 0.5355, Val Acc: 0.7261, SEN: 0.7672, SPE: 0.6854, MCC: 0.4540\n",
      "Epoch: 6/15, Train Loss: 0.4990, Train Acc: 0.7450, Val Loss: 0.5034, Val Acc: 0.7372, SEN: 0.7429, SPE: 0.7315, MCC: 0.4744\n",
      "Epoch: 7/15, Train Loss: 0.4943, Train Acc: 0.7403, Val Loss: 0.5256, Val Acc: 0.7261, SEN: 0.7166, SPE: 0.7355, MCC: 0.4522\n",
      "Epoch: 8/15, Train Loss: 0.4775, Train Acc: 0.7558, Val Loss: 0.5184, Val Acc: 0.7251, SEN: 0.8036, SPE: 0.6473, MCC: 0.4564\n",
      "Epoch: 9/15, Train Loss: 0.4837, Train Acc: 0.7533, Val Loss: 0.5297, Val Acc: 0.7190, SEN: 0.8704, SPE: 0.5691, MCC: 0.4607\n",
      "Epoch: 10/15, Train Loss: 0.4809, Train Acc: 0.7482, Val Loss: 0.5072, Val Acc: 0.7553, SEN: 0.8198, SPE: 0.6914, MCC: 0.5153\n",
      "Epoch: 11/15, Train Loss: 0.4700, Train Acc: 0.7564, Val Loss: 0.5096, Val Acc: 0.7533, SEN: 0.8158, SPE: 0.6914, MCC: 0.5110\n",
      "Epoch: 12/15, Train Loss: 0.4705, Train Acc: 0.7602, Val Loss: 0.4996, Val Acc: 0.7492, SEN: 0.8381, SPE: 0.6613, MCC: 0.5071\n",
      "Epoch: 13/15, Train Loss: 0.4614, Train Acc: 0.7642, Val Loss: 0.4932, Val Acc: 0.7432, SEN: 0.7368, SPE: 0.7495, MCC: 0.4864\n",
      "Epoch: 14/15, Train Loss: 0.4581, Train Acc: 0.7669, Val Loss: 0.5220, Val Acc: 0.7462, SEN: 0.7733, SPE: 0.7194, MCC: 0.4934\n",
      "Epoch: 15/15, Train Loss: 0.4544, Train Acc: 0.7674, Val Loss: 0.4856, Val Acc: 0.7492, SEN: 0.8360, SPE: 0.6633, MCC: 0.5067\n",
      "Fold 3/10\n",
      "Epoch: 1/15, Train Loss: 0.4553, Train Acc: 0.7737, Val Loss: 0.4358, Val Acc: 0.7835, SEN: 0.7882, SPE: 0.7789, MCC: 0.5670\n",
      "Epoch: 2/15, Train Loss: 0.4445, Train Acc: 0.7812, Val Loss: 0.4351, Val Acc: 0.7845, SEN: 0.7067, SPE: 0.8606, MCC: 0.5747\n",
      "Epoch: 3/15, Train Loss: 0.4412, Train Acc: 0.7855, Val Loss: 0.4590, Val Acc: 0.7492, SEN: 0.7291, SPE: 0.7689, MCC: 0.4985\n",
      "Epoch: 4/15, Train Loss: 0.4387, Train Acc: 0.7852, Val Loss: 0.4613, Val Acc: 0.7613, SEN: 0.6945, SPE: 0.8267, MCC: 0.5262\n",
      "Epoch: 5/15, Train Loss: 0.4362, Train Acc: 0.7855, Val Loss: 0.4254, Val Acc: 0.7956, SEN: 0.7862, SPE: 0.8048, MCC: 0.5911\n",
      "Epoch: 6/15, Train Loss: 0.4293, Train Acc: 0.7879, Val Loss: 0.4291, Val Acc: 0.7895, SEN: 0.7760, SPE: 0.8028, MCC: 0.5790\n",
      "Epoch: 7/15, Train Loss: 0.4241, Train Acc: 0.7925, Val Loss: 0.4420, Val Acc: 0.7875, SEN: 0.6864, SPE: 0.8865, MCC: 0.5854\n",
      "Epoch: 8/15, Train Loss: 0.4164, Train Acc: 0.7953, Val Loss: 0.4494, Val Acc: 0.7976, SEN: 0.7658, SPE: 0.8287, MCC: 0.5959\n",
      "Epoch: 9/15, Train Loss: 0.4192, Train Acc: 0.7980, Val Loss: 0.4073, Val Acc: 0.7996, SEN: 0.7352, SPE: 0.8625, MCC: 0.6032\n",
      "Epoch: 10/15, Train Loss: 0.4040, Train Acc: 0.8093, Val Loss: 0.4265, Val Acc: 0.8066, SEN: 0.7780, SPE: 0.8347, MCC: 0.6139\n",
      "Epoch: 11/15, Train Loss: 0.4073, Train Acc: 0.8074, Val Loss: 0.4174, Val Acc: 0.7936, SEN: 0.8045, SPE: 0.7829, MCC: 0.5874\n",
      "Epoch: 12/15, Train Loss: 0.4012, Train Acc: 0.8065, Val Loss: 0.4026, Val Acc: 0.7976, SEN: 0.7780, SPE: 0.8167, MCC: 0.5953\n",
      "Epoch: 13/15, Train Loss: 0.3983, Train Acc: 0.8131, Val Loss: 0.4038, Val Acc: 0.8107, SEN: 0.8493, SPE: 0.7729, MCC: 0.6237\n",
      "Epoch: 14/15, Train Loss: 0.4041, Train Acc: 0.8085, Val Loss: 0.4043, Val Acc: 0.8036, SEN: 0.7923, SPE: 0.8147, MCC: 0.6072\n",
      "Epoch: 15/15, Train Loss: 0.3907, Train Acc: 0.8106, Val Loss: 0.3965, Val Acc: 0.8197, SEN: 0.8126, SPE: 0.8267, MCC: 0.6394\n",
      "Fold 4/10\n",
      "Epoch: 1/15, Train Loss: 0.3917, Train Acc: 0.8133, Val Loss: 0.3852, Val Acc: 0.8308, SEN: 0.7755, SPE: 0.8847, MCC: 0.6648\n",
      "Epoch: 2/15, Train Loss: 0.3909, Train Acc: 0.8153, Val Loss: 0.3644, Val Acc: 0.8399, SEN: 0.8510, SPE: 0.8290, MCC: 0.6800\n",
      "Epoch: 3/15, Train Loss: 0.3779, Train Acc: 0.8242, Val Loss: 0.3868, Val Acc: 0.8157, SEN: 0.7755, SPE: 0.8549, MCC: 0.6328\n",
      "Epoch: 4/15, Train Loss: 0.3816, Train Acc: 0.8187, Val Loss: 0.3811, Val Acc: 0.8137, SEN: 0.8429, SPE: 0.7853, MCC: 0.6289\n",
      "Epoch: 5/15, Train Loss: 0.3692, Train Acc: 0.8260, Val Loss: 0.4166, Val Acc: 0.8087, SEN: 0.8755, SPE: 0.7435, MCC: 0.6238\n",
      "Epoch: 6/15, Train Loss: 0.3690, Train Acc: 0.8282, Val Loss: 0.3818, Val Acc: 0.8318, SEN: 0.8286, SPE: 0.8350, MCC: 0.6636\n",
      "Epoch: 7/15, Train Loss: 0.3619, Train Acc: 0.8351, Val Loss: 0.3560, Val Acc: 0.8338, SEN: 0.8714, SPE: 0.7972, MCC: 0.6700\n",
      "Epoch: 8/15, Train Loss: 0.3625, Train Acc: 0.8311, Val Loss: 0.3790, Val Acc: 0.8288, SEN: 0.8510, SPE: 0.8072, MCC: 0.6585\n",
      "Epoch: 9/15, Train Loss: 0.3566, Train Acc: 0.8388, Val Loss: 0.3555, Val Acc: 0.8550, SEN: 0.8367, SPE: 0.8728, MCC: 0.7102\n",
      "Epoch: 10/15, Train Loss: 0.3505, Train Acc: 0.8406, Val Loss: 0.3660, Val Acc: 0.8399, SEN: 0.8102, SPE: 0.8688, MCC: 0.6805\n",
      "Epoch: 11/15, Train Loss: 0.3627, Train Acc: 0.8344, Val Loss: 0.3619, Val Acc: 0.8338, SEN: 0.8612, SPE: 0.8072, MCC: 0.6690\n",
      "Epoch: 12/15, Train Loss: 0.3638, Train Acc: 0.8312, Val Loss: 0.3669, Val Acc: 0.8207, SEN: 0.8163, SPE: 0.8250, MCC: 0.6414\n",
      "Epoch: 13/15, Train Loss: 0.3502, Train Acc: 0.8394, Val Loss: 0.3861, Val Acc: 0.8228, SEN: 0.8102, SPE: 0.8350, MCC: 0.6455\n",
      "Epoch: 14/15, Train Loss: 0.3464, Train Acc: 0.8419, Val Loss: 0.3500, Val Acc: 0.8389, SEN: 0.8551, SPE: 0.8231, MCC: 0.6783\n",
      "Epoch: 15/15, Train Loss: 0.3573, Train Acc: 0.8409, Val Loss: 0.3832, Val Acc: 0.8248, SEN: 0.7959, SPE: 0.8529, MCC: 0.6501\n",
      "Fold 5/10\n",
      "Epoch: 1/15, Train Loss: 0.3503, Train Acc: 0.8398, Val Loss: 0.3241, Val Acc: 0.8600, SEN: 0.9119, SPE: 0.8099, MCC: 0.7246\n",
      "Epoch: 2/15, Train Loss: 0.3406, Train Acc: 0.8482, Val Loss: 0.2965, Val Acc: 0.8842, SEN: 0.8832, SPE: 0.8851, MCC: 0.7683\n",
      "Epoch: 3/15, Train Loss: 0.3434, Train Acc: 0.8453, Val Loss: 0.2951, Val Acc: 0.8792, SEN: 0.8545, SPE: 0.9030, MCC: 0.7588\n",
      "Epoch: 4/15, Train Loss: 0.3399, Train Acc: 0.8429, Val Loss: 0.3374, Val Acc: 0.8540, SEN: 0.8750, SPE: 0.8337, MCC: 0.7089\n",
      "Epoch: 5/15, Train Loss: 0.3281, Train Acc: 0.8472, Val Loss: 0.3343, Val Acc: 0.8671, SEN: 0.8525, SPE: 0.8812, MCC: 0.7342\n"
     ]
    },
    {
     "name": "stdout",
     "output_type": "stream",
     "text": [
      "Epoch: 6/15, Train Loss: 0.3339, Train Acc: 0.8499, Val Loss: 0.3562, Val Acc: 0.8348, SEN: 0.9098, SPE: 0.7624, MCC: 0.6784\n",
      "Epoch: 7/15, Train Loss: 0.3370, Train Acc: 0.8426, Val Loss: 0.3151, Val Acc: 0.8691, SEN: 0.8627, SPE: 0.8752, MCC: 0.7381\n",
      "Epoch: 8/15, Train Loss: 0.3270, Train Acc: 0.8530, Val Loss: 0.3182, Val Acc: 0.8681, SEN: 0.8914, SPE: 0.8455, MCC: 0.7372\n",
      "Epoch: 9/15, Train Loss: 0.3198, Train Acc: 0.8550, Val Loss: 0.3039, Val Acc: 0.8651, SEN: 0.8770, SPE: 0.8535, MCC: 0.7305\n",
      "Epoch: 10/15, Train Loss: 0.3536, Train Acc: 0.8429, Val Loss: 0.3478, Val Acc: 0.8359, SEN: 0.8996, SPE: 0.7743, MCC: 0.6782\n",
      "Epoch: 11/15, Train Loss: 0.3287, Train Acc: 0.8536, Val Loss: 0.3228, Val Acc: 0.8530, SEN: 0.9365, SPE: 0.7723, MCC: 0.7170\n",
      "Epoch: 12/15, Train Loss: 0.3229, Train Acc: 0.8537, Val Loss: 0.3228, Val Acc: 0.8630, SEN: 0.8996, SPE: 0.8277, MCC: 0.7285\n",
      "Epoch: 13/15, Train Loss: 0.3131, Train Acc: 0.8553, Val Loss: 0.3183, Val Acc: 0.8570, SEN: 0.8770, SPE: 0.8376, MCC: 0.7148\n",
      "Epoch: 14/15, Train Loss: 0.3163, Train Acc: 0.8576, Val Loss: 0.3011, Val Acc: 0.8741, SEN: 0.8934, SPE: 0.8554, MCC: 0.7490\n",
      "Epoch: 15/15, Train Loss: 0.3110, Train Acc: 0.8589, Val Loss: 0.3634, Val Acc: 0.8530, SEN: 0.8299, SPE: 0.8752, MCC: 0.7062\n",
      "Fold 6/10\n",
      "Epoch: 1/15, Train Loss: 0.3113, Train Acc: 0.8625, Val Loss: 0.2969, Val Acc: 0.8731, SEN: 0.8588, SPE: 0.8882, MCC: 0.7468\n",
      "Epoch: 2/15, Train Loss: 0.3127, Train Acc: 0.8622, Val Loss: 0.2795, Val Acc: 0.8781, SEN: 0.9314, SPE: 0.8219, MCC: 0.7595\n",
      "Epoch: 3/15, Train Loss: 0.3098, Train Acc: 0.8567, Val Loss: 0.2801, Val Acc: 0.8792, SEN: 0.9255, SPE: 0.8302, MCC: 0.7606\n",
      "Epoch: 4/15, Train Loss: 0.3121, Train Acc: 0.8599, Val Loss: 0.3221, Val Acc: 0.8580, SEN: 0.9353, SPE: 0.7764, MCC: 0.7230\n",
      "Epoch: 5/15, Train Loss: 0.3064, Train Acc: 0.8621, Val Loss: 0.2850, Val Acc: 0.8882, SEN: 0.9176, SPE: 0.8571, MCC: 0.7771\n",
      "Epoch: 6/15, Train Loss: 0.3000, Train Acc: 0.8697, Val Loss: 0.2945, Val Acc: 0.8741, SEN: 0.8196, SPE: 0.9317, MCC: 0.7542\n",
      "Epoch: 7/15, Train Loss: 0.3105, Train Acc: 0.8616, Val Loss: 0.2999, Val Acc: 0.8741, SEN: 0.9137, SPE: 0.8323, MCC: 0.7496\n",
      "Epoch: 8/15, Train Loss: 0.3021, Train Acc: 0.8665, Val Loss: 0.2992, Val Acc: 0.8731, SEN: 0.8373, SPE: 0.9110, MCC: 0.7490\n",
      "Epoch: 9/15, Train Loss: 0.3090, Train Acc: 0.8584, Val Loss: 0.3139, Val Acc: 0.8691, SEN: 0.8784, SPE: 0.8592, MCC: 0.7379\n",
      "Epoch: 10/15, Train Loss: 0.3018, Train Acc: 0.8659, Val Loss: 0.3163, Val Acc: 0.8771, SEN: 0.9020, SPE: 0.8509, MCC: 0.7545\n",
      "Epoch: 11/15, Train Loss: 0.3003, Train Acc: 0.8621, Val Loss: 0.3038, Val Acc: 0.8560, SEN: 0.8333, SPE: 0.8799, MCC: 0.7133\n",
      "Epoch: 12/15, Train Loss: 0.2927, Train Acc: 0.8710, Val Loss: 0.2909, Val Acc: 0.8882, SEN: 0.8765, SPE: 0.9006, MCC: 0.7768\n",
      "Epoch: 13/15, Train Loss: 0.3062, Train Acc: 0.8666, Val Loss: 0.2873, Val Acc: 0.8741, SEN: 0.9137, SPE: 0.8323, MCC: 0.7496\n",
      "Epoch: 14/15, Train Loss: 0.2928, Train Acc: 0.8675, Val Loss: 0.3342, Val Acc: 0.8922, SEN: 0.9137, SPE: 0.8696, MCC: 0.7847\n",
      "Epoch: 15/15, Train Loss: 0.3015, Train Acc: 0.8684, Val Loss: 0.3028, Val Acc: 0.8751, SEN: 0.9039, SPE: 0.8447, MCC: 0.7507\n",
      "Fold 7/10\n",
      "Epoch: 1/15, Train Loss: 0.2985, Train Acc: 0.8721, Val Loss: 0.2881, Val Acc: 0.8862, SEN: 0.8917, SPE: 0.8795, MCC: 0.7705\n",
      "Epoch: 2/15, Train Loss: 0.2911, Train Acc: 0.8726, Val Loss: 0.2872, Val Acc: 0.8832, SEN: 0.8789, SPE: 0.8884, MCC: 0.7653\n",
      "Epoch: 3/15, Train Loss: 0.2928, Train Acc: 0.8715, Val Loss: 0.2855, Val Acc: 0.8802, SEN: 0.8550, SPE: 0.9107, MCC: 0.7622\n",
      "Epoch: 4/15, Train Loss: 0.2855, Train Acc: 0.8747, Val Loss: 0.3159, Val Acc: 0.8610, SEN: 0.8385, SPE: 0.8884, MCC: 0.7236\n",
      "Epoch: 5/15, Train Loss: 0.2849, Train Acc: 0.8794, Val Loss: 0.3007, Val Acc: 0.8771, SEN: 0.8569, SPE: 0.9018, MCC: 0.7554\n",
      "Epoch: 6/15, Train Loss: 0.2780, Train Acc: 0.8774, Val Loss: 0.2830, Val Acc: 0.8701, SEN: 0.8771, SPE: 0.8616, MCC: 0.7380\n",
      "Epoch: 7/15, Train Loss: 0.2700, Train Acc: 0.8874, Val Loss: 0.3024, Val Acc: 0.8570, SEN: 0.8624, SPE: 0.8504, MCC: 0.7118\n",
      "Epoch: 8/15, Train Loss: 0.2783, Train Acc: 0.8748, Val Loss: 0.3191, Val Acc: 0.8882, SEN: 0.8624, SPE: 0.9196, MCC: 0.7784\n",
      "Epoch: 9/15, Train Loss: 0.2845, Train Acc: 0.8763, Val Loss: 0.3398, Val Acc: 0.8429, SEN: 0.8569, SPE: 0.8259, MCC: 0.6828\n",
      "Epoch: 10/15, Train Loss: 0.2805, Train Acc: 0.8757, Val Loss: 0.2881, Val Acc: 0.8630, SEN: 0.9229, SPE: 0.7902, MCC: 0.7247\n",
      "Epoch: 11/15, Train Loss: 0.2706, Train Acc: 0.8827, Val Loss: 0.2997, Val Acc: 0.8751, SEN: 0.8294, SPE: 0.9308, MCC: 0.7568\n",
      "Epoch: 12/15, Train Loss: 0.2747, Train Acc: 0.8809, Val Loss: 0.2748, Val Acc: 0.8802, SEN: 0.8844, SPE: 0.8750, MCC: 0.7584\n",
      "Epoch: 13/15, Train Loss: 0.2728, Train Acc: 0.8845, Val Loss: 0.2685, Val Acc: 0.8902, SEN: 0.8936, SPE: 0.8862, MCC: 0.7787\n",
      "Epoch: 14/15, Train Loss: 0.2651, Train Acc: 0.8825, Val Loss: 0.2632, Val Acc: 0.8852, SEN: 0.8972, SPE: 0.8705, MCC: 0.7681\n",
      "Epoch: 15/15, Train Loss: 0.2684, Train Acc: 0.8805, Val Loss: 0.2730, Val Acc: 0.8852, SEN: 0.8587, SPE: 0.9174, MCC: 0.7725\n",
      "Fold 8/10\n",
      "Epoch: 1/15, Train Loss: 0.2692, Train Acc: 0.8835, Val Loss: 0.2438, Val Acc: 0.8902, SEN: 0.8885, SPE: 0.8922, MCC: 0.7799\n",
      "Epoch: 2/15, Train Loss: 0.2743, Train Acc: 0.8834, Val Loss: 0.2709, Val Acc: 0.8872, SEN: 0.8790, SPE: 0.8966, MCC: 0.7743\n",
      "Epoch: 3/15, Train Loss: 0.2819, Train Acc: 0.8789, Val Loss: 0.2405, Val Acc: 0.8983, SEN: 0.8601, SPE: 0.9418, MCC: 0.8005\n",
      "Epoch: 4/15, Train Loss: 0.2724, Train Acc: 0.8842, Val Loss: 0.2415, Val Acc: 0.8922, SEN: 0.8601, SPE: 0.9289, MCC: 0.7874\n",
      "Epoch: 5/15, Train Loss: 0.2698, Train Acc: 0.8818, Val Loss: 0.2503, Val Acc: 0.8842, SEN: 0.8752, SPE: 0.8944, MCC: 0.7684\n",
      "Epoch: 6/15, Train Loss: 0.2731, Train Acc: 0.8815, Val Loss: 0.2441, Val Acc: 0.8933, SEN: 0.8960, SPE: 0.8901, MCC: 0.7857\n",
      "Epoch: 7/15, Train Loss: 0.2682, Train Acc: 0.8830, Val Loss: 0.2455, Val Acc: 0.8973, SEN: 0.8885, SPE: 0.9073, MCC: 0.7945\n",
      "Epoch: 8/15, Train Loss: 0.2626, Train Acc: 0.8868, Val Loss: 0.2737, Val Acc: 0.8781, SEN: 0.8771, SPE: 0.8793, MCC: 0.7557\n",
      "Epoch: 9/15, Train Loss: 0.2690, Train Acc: 0.8815, Val Loss: 0.2502, Val Acc: 0.8902, SEN: 0.8412, SPE: 0.9461, MCC: 0.7868\n",
      "Epoch: 10/15, Train Loss: 0.2566, Train Acc: 0.8903, Val Loss: 0.2390, Val Acc: 0.8993, SEN: 0.8885, SPE: 0.9116, MCC: 0.7987\n",
      "Epoch: 11/15, Train Loss: 0.2545, Train Acc: 0.8929, Val Loss: 0.2425, Val Acc: 0.8953, SEN: 0.8677, SPE: 0.9267, MCC: 0.7927\n",
      "Epoch: 12/15, Train Loss: 0.2619, Train Acc: 0.8904, Val Loss: 0.2740, Val Acc: 0.8792, SEN: 0.8696, SPE: 0.8901, MCC: 0.7583\n",
      "Epoch: 13/15, Train Loss: 0.2483, Train Acc: 0.8922, Val Loss: 0.2434, Val Acc: 0.8943, SEN: 0.8809, SPE: 0.9095, MCC: 0.7889\n",
      "Epoch: 14/15, Train Loss: 0.2506, Train Acc: 0.8971, Val Loss: 0.2337, Val Acc: 0.9053, SEN: 0.8885, SPE: 0.9246, MCC: 0.8114\n",
      "Epoch: 15/15, Train Loss: 0.2593, Train Acc: 0.8896, Val Loss: 0.2633, Val Acc: 0.8751, SEN: 0.8960, SPE: 0.8513, MCC: 0.7490\n",
      "Fold 9/10\n",
      "Epoch: 1/15, Train Loss: 0.2647, Train Acc: 0.8865, Val Loss: 0.2178, Val Acc: 0.9083, SEN: 0.8891, SPE: 0.9289, MCC: 0.8175\n",
      "Epoch: 2/15, Train Loss: 0.2588, Train Acc: 0.8876, Val Loss: 0.2612, Val Acc: 0.9022, SEN: 0.8852, SPE: 0.9205, MCC: 0.8052\n",
      "Epoch: 3/15, Train Loss: 0.2768, Train Acc: 0.8841, Val Loss: 0.2613, Val Acc: 0.8942, SEN: 0.8482, SPE: 0.9435, MCC: 0.7930\n",
      "Epoch: 4/15, Train Loss: 0.2698, Train Acc: 0.8855, Val Loss: 0.2075, Val Acc: 0.9153, SEN: 0.9241, SPE: 0.9059, MCC: 0.8304\n",
      "Epoch: 5/15, Train Loss: 0.2574, Train Acc: 0.8893, Val Loss: 0.2314, Val Acc: 0.9093, SEN: 0.8658, SPE: 0.9561, MCC: 0.8228\n",
      "Epoch: 6/15, Train Loss: 0.2549, Train Acc: 0.8874, Val Loss: 0.2112, Val Acc: 0.9113, SEN: 0.9183, SPE: 0.9038, MCC: 0.8223\n",
      "Epoch: 7/15, Train Loss: 0.2540, Train Acc: 0.8892, Val Loss: 0.2153, Val Acc: 0.9173, SEN: 0.9125, SPE: 0.9226, MCC: 0.8347\n",
      "Epoch: 8/15, Train Loss: 0.2481, Train Acc: 0.8938, Val Loss: 0.2137, Val Acc: 0.9133, SEN: 0.8969, SPE: 0.9310, MCC: 0.8273\n",
      "Epoch: 9/15, Train Loss: 0.2514, Train Acc: 0.8944, Val Loss: 0.2377, Val Acc: 0.9012, SEN: 0.9300, SPE: 0.8703, MCC: 0.8029\n",
      "Epoch: 10/15, Train Loss: 0.2602, Train Acc: 0.8874, Val Loss: 0.2516, Val Acc: 0.9002, SEN: 0.8560, SPE: 0.9477, MCC: 0.8048\n",
      "Epoch: 11/15, Train Loss: 0.2401, Train Acc: 0.8976, Val Loss: 0.2090, Val Acc: 0.9083, SEN: 0.8735, SPE: 0.9456, MCC: 0.8193\n"
     ]
    },
    {
     "name": "stdout",
     "output_type": "stream",
     "text": [
      "Epoch: 12/15, Train Loss: 0.2415, Train Acc: 0.8948, Val Loss: 0.2183, Val Acc: 0.9032, SEN: 0.8852, SPE: 0.9226, MCC: 0.8073\n",
      "Epoch: 13/15, Train Loss: 0.2419, Train Acc: 0.8972, Val Loss: 0.2189, Val Acc: 0.9022, SEN: 0.8619, SPE: 0.9456, MCC: 0.8081\n",
      "Epoch: 14/15, Train Loss: 0.2338, Train Acc: 0.8986, Val Loss: 0.2211, Val Acc: 0.9062, SEN: 0.8677, SPE: 0.9477, MCC: 0.8159\n",
      "Epoch: 15/15, Train Loss: 0.2296, Train Acc: 0.9022, Val Loss: 0.2188, Val Acc: 0.9103, SEN: 0.9241, SPE: 0.8954, MCC: 0.8204\n",
      "Fold 10/10\n",
      "Epoch: 1/15, Train Loss: 0.2403, Train Acc: 0.8977, Val Loss: 0.2239, Val Acc: 0.9062, SEN: 0.9027, SPE: 0.9100, MCC: 0.8124\n",
      "Epoch: 2/15, Train Loss: 0.2334, Train Acc: 0.9029, Val Loss: 0.2396, Val Acc: 0.9093, SEN: 0.9222, SPE: 0.8954, MCC: 0.8183\n",
      "Epoch: 3/15, Train Loss: 0.2308, Train Acc: 0.9023, Val Loss: 0.2469, Val Acc: 0.8982, SEN: 0.8716, SPE: 0.9268, MCC: 0.7981\n",
      "Epoch: 4/15, Train Loss: 0.2308, Train Acc: 0.9031, Val Loss: 0.2517, Val Acc: 0.9022, SEN: 0.9494, SPE: 0.8515, MCC: 0.8069\n",
      "Epoch: 5/15, Train Loss: 0.2450, Train Acc: 0.9013, Val Loss: 0.2518, Val Acc: 0.9133, SEN: 0.9047, SPE: 0.9226, MCC: 0.8268\n",
      "Epoch: 6/15, Train Loss: 0.2265, Train Acc: 0.9032, Val Loss: 0.2677, Val Acc: 0.9022, SEN: 0.9086, SPE: 0.8954, MCC: 0.8041\n",
      "Epoch: 7/15, Train Loss: 0.2346, Train Acc: 0.8967, Val Loss: 0.2478, Val Acc: 0.8982, SEN: 0.9183, SPE: 0.8766, MCC: 0.7963\n",
      "Epoch: 8/15, Train Loss: 0.2238, Train Acc: 0.9056, Val Loss: 0.2528, Val Acc: 0.8992, SEN: 0.9047, SPE: 0.8933, MCC: 0.7981\n",
      "Epoch: 9/15, Train Loss: 0.2223, Train Acc: 0.9049, Val Loss: 0.2643, Val Acc: 0.8942, SEN: 0.8852, SPE: 0.9038, MCC: 0.7885\n",
      "Epoch: 10/15, Train Loss: 0.2261, Train Acc: 0.9016, Val Loss: 0.2858, Val Acc: 0.8861, SEN: 0.8288, SPE: 0.9477, MCC: 0.7792\n",
      "Epoch: 11/15, Train Loss: 0.2196, Train Acc: 0.9073, Val Loss: 0.2679, Val Acc: 0.8821, SEN: 0.8891, SPE: 0.8745, MCC: 0.7638\n",
      "Epoch: 12/15, Train Loss: 0.2320, Train Acc: 0.9025, Val Loss: 0.2669, Val Acc: 0.8800, SEN: 0.8891, SPE: 0.8703, MCC: 0.7597\n",
      "Epoch: 13/15, Train Loss: 0.2303, Train Acc: 0.9016, Val Loss: 0.2425, Val Acc: 0.8942, SEN: 0.9144, SPE: 0.8724, MCC: 0.7882\n",
      "Epoch: 14/15, Train Loss: 0.2211, Train Acc: 0.9075, Val Loss: 0.2594, Val Acc: 0.8992, SEN: 0.8813, SPE: 0.9184, MCC: 0.7992\n",
      "Epoch: 15/15, Train Loss: 0.2236, Train Acc: 0.9064, Val Loss: 0.2512, Val Acc: 0.8962, SEN: 0.9144, SPE: 0.8766, MCC: 0.7922\n",
      "Average Validation Accuracy: 0.8552, Average Validation Loss: 0.3472\n"
     ]
    }
   ],
   "source": [
    "model_cv = EnhancedGCNNnodes(num_node_features, output_dim, dropout_rate=0)\n",
    "optimizer_cv = optim.Adam(model_cv.parameters(),lr=0.01)\n",
    "training_with_10fold_cv(graph_data_2d, model_cv, optimizer_cv, criterion, device, batch_size, 15, '2d', \\\n",
    "                        reset=False, n_splits=10, mode='train',Preprocess=Preprocesscv_2d,scale_path=scale_path_cv_2d)"
   ]
  },
  {
   "cell_type": "markdown",
   "id": "f0590326",
   "metadata": {},
   "source": [
    "# Offline test and select model"
   ]
  },
  {
   "cell_type": "code",
   "execution_count": 10,
   "id": "093e59b3",
   "metadata": {},
   "outputs": [],
   "source": [
    "offlinetest_file = '../dataset/canonical_offlinetestset.csv'"
   ]
  },
  {
   "cell_type": "code",
   "execution_count": 11,
   "id": "c10ea928",
   "metadata": {},
   "outputs": [],
   "source": [
    "# best_model_2d   foldcv_models_2d\n",
    "model_save_dir1 = 'best_model_2d/'\n",
    "model_save_dir2 = 'foldcv_models_2d/'"
   ]
  },
  {
   "cell_type": "code",
   "execution_count": 12,
   "id": "625bea35",
   "metadata": {},
   "outputs": [
    {
     "name": "stderr",
     "output_type": "stream",
     "text": [
      "get graph_data: 100%|███████████████████████████████████████████████████████████████| 205/205 [00:00<00:00, 786.30it/s]\n"
     ]
    },
    {
     "name": "stdout",
     "output_type": "stream",
     "text": [
      "Model: best_model_val_acc_0.9033.pth, ACC: 0.7268, SEN: 0.8085, SPE: 0.6577, MCC: 0.4675\n",
      "Model: model_periodic_epoch_10.pth, ACC: 0.6293, SEN: 0.7872, SPE: 0.4955, MCC: 0.2925\n",
      "Model: model_periodic_epoch_100.pth, ACC: 0.7463, SEN: 0.8191, SPE: 0.6847, MCC: 0.5043\n",
      "Model: model_periodic_epoch_105.pth, ACC: 0.7366, SEN: 0.8511, SPE: 0.6396, MCC: 0.4963\n",
      "Model: model_periodic_epoch_110.pth, ACC: 0.7366, SEN: 0.8723, SPE: 0.6216, MCC: 0.5035\n",
      "Model: model_periodic_epoch_115.pth, ACC: 0.7171, SEN: 0.8404, SPE: 0.6126, MCC: 0.4599\n",
      "Model: model_periodic_epoch_120.pth, ACC: 0.7366, SEN: 0.8617, SPE: 0.6306, MCC: 0.4998\n",
      "Model: model_periodic_epoch_125.pth, ACC: 0.7317, SEN: 0.8511, SPE: 0.6306, MCC: 0.4881\n",
      "Model: model_periodic_epoch_130.pth, ACC: 0.7171, SEN: 0.8511, SPE: 0.6036, MCC: 0.4634\n",
      "Model: model_periodic_epoch_135.pth, ACC: 0.7512, SEN: 0.8723, SPE: 0.6486, MCC: 0.5279\n",
      "Model: model_periodic_epoch_140.pth, ACC: 0.7415, SEN: 0.8191, SPE: 0.6757, MCC: 0.4957\n",
      "Model: model_periodic_epoch_145.pth, ACC: 0.7220, SEN: 0.8191, SPE: 0.6396, MCC: 0.4619\n",
      "Model: model_periodic_epoch_15.pth, ACC: 0.6634, SEN: 0.9681, SPE: 0.4054, MCC: 0.4395\n",
      "Model: model_periodic_epoch_150.pth, ACC: 0.7268, SEN: 0.8085, SPE: 0.6577, MCC: 0.4675\n",
      "Model: model_periodic_epoch_20.pth, ACC: 0.7366, SEN: 0.8723, SPE: 0.6216, MCC: 0.5035\n",
      "Model: model_periodic_epoch_25.pth, ACC: 0.7171, SEN: 0.7234, SPE: 0.7117, MCC: 0.4337\n",
      "Model: model_periodic_epoch_30.pth, ACC: 0.7317, SEN: 0.8404, SPE: 0.6396, MCC: 0.4847\n",
      "Model: model_periodic_epoch_35.pth, ACC: 0.7366, SEN: 0.7766, SPE: 0.7027, MCC: 0.4779\n",
      "Model: model_periodic_epoch_40.pth, ACC: 0.7073, SEN: 0.8191, SPE: 0.6126, MCC: 0.4367\n",
      "Model: model_periodic_epoch_45.pth, ACC: 0.7220, SEN: 0.7660, SPE: 0.6847, MCC: 0.4495\n",
      "Model: model_periodic_epoch_5.pth, ACC: 0.5561, SEN: 0.9468, SPE: 0.2252, MCC: 0.2425\n",
      "Model: model_periodic_epoch_50.pth, ACC: 0.6829, SEN: 0.7979, SPE: 0.5856, MCC: 0.3885\n",
      "Model: model_periodic_epoch_55.pth, ACC: 0.7512, SEN: 0.8191, SPE: 0.6937, MCC: 0.5128\n",
      "Model: model_periodic_epoch_60.pth, ACC: 0.6976, SEN: 0.7872, SPE: 0.6216, MCC: 0.4110\n",
      "Model: model_periodic_epoch_65.pth, ACC: 0.7171, SEN: 0.8404, SPE: 0.6126, MCC: 0.4599\n",
      "Model: model_periodic_epoch_70.pth, ACC: 0.7317, SEN: 0.8830, SPE: 0.6036, MCC: 0.4994\n",
      "Model: model_periodic_epoch_75.pth, ACC: 0.7268, SEN: 0.7766, SPE: 0.6847, MCC: 0.4604\n",
      "Model: model_periodic_epoch_80.pth, ACC: 0.7415, SEN: 0.8298, SPE: 0.6667, MCC: 0.4985\n",
      "Model: model_periodic_epoch_85.pth, ACC: 0.7512, SEN: 0.8723, SPE: 0.6486, MCC: 0.5279\n",
      "Model: model_periodic_epoch_90.pth, ACC: 0.7268, SEN: 0.8085, SPE: 0.6577, MCC: 0.4675\n",
      "Model: model_periodic_epoch_95.pth, ACC: 0.7415, SEN: 0.8617, SPE: 0.6396, MCC: 0.5080\n"
     ]
    }
   ],
   "source": [
    "integrated_test_model(offlinetest_file, '2d', model_general, criterion,device, 1, model_save_dir1, \\\n",
    "                      tokenizer=None, atom_numbers=atom_numbers, mode='test', Preprocess=Preprocess2d, scale_path=scale_path_2d)"
   ]
  },
  {
   "cell_type": "code",
   "execution_count": 13,
   "id": "c65d2d24",
   "metadata": {},
   "outputs": [
    {
     "name": "stderr",
     "output_type": "stream",
     "text": [
      "get graph_data: 100%|███████████████████████████████████████████████████████████████| 205/205 [00:00<00:00, 779.83it/s]\n"
     ]
    },
    {
     "name": "stdout",
     "output_type": "stream",
     "text": [
      "Model: best_model_fold_10_epoch_5.pth, ACC: 0.6683, SEN: 0.7660, SPE: 0.5856, MCC: 0.3544\n",
      "Model: best_model_fold_1_epoch_14.pth, ACC: 0.7561, SEN: 0.7979, SPE: 0.7207, MCC: 0.5171\n",
      "Model: best_model_fold_2_epoch_10.pth, ACC: 0.6537, SEN: 0.9362, SPE: 0.4144, MCC: 0.4015\n",
      "Model: best_model_fold_3_epoch_15.pth, ACC: 0.6780, SEN: 0.8298, SPE: 0.5495, MCC: 0.3903\n",
      "Model: best_model_fold_4_epoch_9.pth, ACC: 0.6927, SEN: 0.7872, SPE: 0.6126, MCC: 0.4025\n",
      "Model: best_model_fold_5_epoch_2.pth, ACC: 0.7024, SEN: 0.7766, SPE: 0.6396, MCC: 0.4170\n",
      "Model: best_model_fold_6_epoch_14.pth, ACC: 0.7415, SEN: 0.8298, SPE: 0.6667, MCC: 0.4985\n",
      "Model: best_model_fold_7_epoch_13.pth, ACC: 0.7122, SEN: 0.8085, SPE: 0.6306, MCC: 0.4421\n",
      "Model: best_model_fold_8_epoch_14.pth, ACC: 0.7073, SEN: 0.8511, SPE: 0.5856, MCC: 0.4471\n",
      "Model: best_model_fold_9_epoch_7.pth, ACC: 0.7073, SEN: 0.8191, SPE: 0.6126, MCC: 0.4367\n"
     ]
    }
   ],
   "source": [
    "integrated_test_model(offlinetest_file, '2d', model_cv, criterion,device, 1, model_save_dir2, \\\n",
    "                      tokenizer=None, atom_numbers=atom_numbers, mode='test', Preprocess=Preprocesscv_2d, scale_path=scale_path_cv_2d)"
   ]
  },
  {
   "cell_type": "code",
   "execution_count": null,
   "id": "078a5542",
   "metadata": {},
   "outputs": [],
   "source": []
  }
 ],
 "metadata": {
  "kernelspec": {
   "display_name": "Python 3 (ipykernel)",
   "language": "python",
   "name": "python3"
  },
  "language_info": {
   "codemirror_mode": {
    "name": "ipython",
    "version": 3
   },
   "file_extension": ".py",
   "mimetype": "text/x-python",
   "name": "python",
   "nbconvert_exporter": "python",
   "pygments_lexer": "ipython3",
   "version": "3.11.4"
  }
 },
 "nbformat": 4,
 "nbformat_minor": 5
}
