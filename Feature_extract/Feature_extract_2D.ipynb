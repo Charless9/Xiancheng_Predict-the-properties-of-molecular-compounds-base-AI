{
 "cells": [
  {
   "cell_type": "code",
   "execution_count": 1,
   "id": "aa932f41",
   "metadata": {},
   "outputs": [],
   "source": [
    "from rdkit import Chem\n",
    "from rdkit.Chem import Draw\n",
    "from rdkit.Chem import AllChem\n",
    "import networkx as nx\n",
    "import matplotlib.pyplot as plt\n",
    "import pandas as pd\n",
    "import numpy as np"
   ]
  },
  {
   "cell_type": "code",
   "execution_count": 2,
   "id": "9335cf2c",
   "metadata": {},
   "outputs": [],
   "source": [
    "canonical_file=\"../dataset/canonical_trainset.csv\"\n",
    "canonical_smiles_df=pd.read_csv(canonical_file)"
   ]
  },
  {
   "cell_type": "markdown",
   "id": "60812cf6",
   "metadata": {},
   "source": [
    "# get 2D graph_data"
   ]
  },
  {
   "cell_type": "code",
   "execution_count": 3,
   "id": "a17d286a",
   "metadata": {},
   "outputs": [],
   "source": [
    "import os\n",
    "import sys\n",
    "import nbimporter\n",
    "\n",
    "project_root = os.path.join(os.getcwd(), '..')\n",
    "sys.path.append(project_root)\n",
    "\n",
    "from datapreparation import Data_Processing_2D as nb2\n",
    "\n",
    "\n",
    "graph_data = nb2.preprocess_smiles_with_labels(canonical_smiles_df[\"SMILES\"][:50].values, canonical_smiles_df[\"Label\"][:50].values)"
   ]
  },
  {
   "cell_type": "markdown",
   "id": "b9ccc119",
   "metadata": {},
   "source": [
    "# process nodes and adjacency_matrix"
   ]
  },
  {
   "cell_type": "code",
   "execution_count": 4,
   "id": "0137fc45",
   "metadata": {},
   "outputs": [],
   "source": [
    "import torch\n",
    "from torch_geometric.data import Data\n",
    "\n",
    "def get_torch_graph_data_list(graph_data):\n",
    "    torch_graph_data_list = []\n",
    "    for item in graph_data:\n",
    "        edge_index = torch.tensor((np.array(item['adjacency_matrix'].nonzero())), dtype=torch.long)\n",
    "\n",
    "        x = torch.tensor(item['nodes_features'], dtype=torch.float)\n",
    "        y = torch.tensor([item['label']], dtype=torch.long)\n",
    "        data_object = Data(x=x, edge_index=edge_index, y=y)\n",
    "        torch_graph_data_list.append(data_object)\n",
    "    return torch_graph_data_list\n"
   ]
  },
  {
   "cell_type": "markdown",
   "id": "fe444cc9",
   "metadata": {},
   "source": [
    "# load dataset"
   ]
  },
  {
   "cell_type": "code",
   "execution_count": 5,
   "id": "cc998f7d",
   "metadata": {},
   "outputs": [],
   "source": [
    "from sklearn.model_selection import train_test_split\n",
    "from torch_geometric.loader import DataLoader\n",
    "\n",
    "torch_graph_data_list=get_torch_graph_data_list(graph_data)\n",
    "graph_data_train, graph_data_test = train_test_split(torch_graph_data_list, test_size=0.2, random_state=42)\n",
    "\n",
    "train_loader = DataLoader(graph_data_train, batch_size=4, shuffle=True)\n",
    "test_loader = DataLoader(graph_data_test, batch_size=4, shuffle=False)\n"
   ]
  },
  {
   "cell_type": "markdown",
   "id": "e31b872e",
   "metadata": {},
   "source": [
    "# Build model"
   ]
  },
  {
   "cell_type": "code",
   "execution_count": 6,
   "id": "f9021ede",
   "metadata": {},
   "outputs": [],
   "source": [
    "import torch\n",
    "import torch.nn as nn\n",
    "import torch.nn.functional as F\n",
    "import torch.optim as optim\n",
    "from torch_geometric.nn import GCNConv, global_mean_pool\n",
    "from torch_geometric.loader import DataLoader\n",
    "\n",
    "\n",
    "class GCN(torch.nn.Module):\n",
    "    def __init__(self, num_node_features):\n",
    "        super(GCN, self).__init__()\n",
    "        self.conv1 = GCNConv(num_node_features, 16)\n",
    "        self.conv2 = GCNConv(16, 32)\n",
    "        self.fc = nn.Linear(32, 2)  \n",
    "\n",
    "    def forward(self, data, return_feature=False):\n",
    "        x, edge_index, batch = data.x, data.edge_index, data.batch\n",
    "        \n",
    "        x = F.relu(self.conv1(x, edge_index))\n",
    "        x = F.relu(self.conv2(x, edge_index))\n",
    "        x = global_mean_pool(x, batch)\n",
    "        \n",
    "        if return_feature:\n",
    "            return x\n",
    "        \n",
    "        x = self.fc(x)\n",
    "        return x\n",
    "    "
   ]
  },
  {
   "cell_type": "markdown",
   "id": "97fcf4d7",
   "metadata": {},
   "source": [
    "# train and evaluate model"
   ]
  },
  {
   "cell_type": "code",
   "execution_count": 7,
   "id": "57f0c314",
   "metadata": {},
   "outputs": [
    {
     "name": "stdout",
     "output_type": "stream",
     "text": [
      "Epoch 1, Train Loss: 0.4060, Train Acc: 0.9500, Val Loss: 0.0684, Val Acc: 1.0000\n",
      "Epoch 2, Train Loss: 0.2127, Train Acc: 0.9500, Val Loss: 0.0397, Val Acc: 1.0000\n",
      "Epoch 3, Train Loss: 0.2073, Train Acc: 0.9500, Val Loss: 0.0503, Val Acc: 1.0000\n",
      "Epoch 4, Train Loss: 0.2054, Train Acc: 0.9500, Val Loss: 0.0418, Val Acc: 1.0000\n",
      "Epoch 5, Train Loss: 0.2074, Train Acc: 0.9500, Val Loss: 0.0556, Val Acc: 1.0000\n",
      "Epoch 6, Train Loss: 0.2102, Train Acc: 0.9500, Val Loss: 0.0459, Val Acc: 1.0000\n",
      "Epoch 7, Train Loss: 0.2081, Train Acc: 0.9500, Val Loss: 0.0424, Val Acc: 1.0000\n",
      "Epoch 8, Train Loss: 0.1991, Train Acc: 0.9500, Val Loss: 0.0666, Val Acc: 1.0000\n",
      "Epoch 9, Train Loss: 0.2104, Train Acc: 0.9500, Val Loss: 0.0775, Val Acc: 1.0000\n",
      "Epoch 10, Train Loss: 0.2025, Train Acc: 0.9500, Val Loss: 0.0472, Val Acc: 1.0000\n"
     ]
    }
   ],
   "source": [
    "num_node_features = 12 \n",
    "model = GCN(num_node_features=num_node_features)\n",
    "optimizer = optim.Adam(model.parameters(), lr=0.01)\n",
    "criterion = nn.CrossEntropyLoss()\n",
    "\n",
    "\n",
    "def train_epoch(model, loader, optimizer, criterion):\n",
    "    model.train()\n",
    "    total_loss, total_correct, total = 0, 0, 0\n",
    "    for data in loader:\n",
    "        optimizer.zero_grad()\n",
    "        output = model(data)\n",
    "        loss = criterion(output, F.one_hot(data.y, num_classes=2).to(torch.float))\n",
    "        loss.backward()\n",
    "        optimizer.step()\n",
    "        total_loss += loss.item()\n",
    "        _, predicted = torch.max(output, 1)\n",
    "        total_correct += (predicted == data.y).sum().item()\n",
    "        total += data.y.size(0)\n",
    "    return total_loss / len(loader), total_correct / total\n",
    "\n",
    "def validate_epoch(model, loader, criterion):\n",
    "    model.eval()\n",
    "    total_loss, total_correct, total = 0, 0, 0\n",
    "    with torch.no_grad():\n",
    "        for data in loader:\n",
    "            output = model(data)\n",
    "            loss = criterion(output, F.one_hot(data.y, num_classes=2).to(torch.float))\n",
    "            total_loss += loss.item()\n",
    "            _, predicted = torch.max(output, 1)\n",
    "            total_correct += (predicted == data.y).sum().item()\n",
    "            total += data.y.size(0)\n",
    "    return total_loss / len(loader), total_correct / total\n",
    "\n",
    "best_val_accuracy = 0\n",
    "for epoch in range(10):\n",
    "    train_loss, train_accuracy = train_epoch(model, train_loader, optimizer, criterion)\n",
    "    val_loss, val_accuracy = validate_epoch(model, test_loader, criterion)\n",
    "    print(f'Epoch {epoch+1}, Train Loss: {train_loss:.4f}, Train Acc: {train_accuracy:.4f}, Val Loss: {val_loss:.4f}, Val Acc: {val_accuracy:.4f}')\n",
    "    if val_accuracy > best_val_accuracy:\n",
    "        best_val_accuracy = val_accuracy\n",
    "        torch.save(model.state_dict(), 'best2_model.pth')\n"
   ]
  },
  {
   "cell_type": "markdown",
   "id": "5f834f3e",
   "metadata": {},
   "source": [
    "# extract features"
   ]
  },
  {
   "cell_type": "code",
   "execution_count": 8,
   "id": "408e859a",
   "metadata": {},
   "outputs": [],
   "source": [
    "def extract_features_2d(model, loader):\n",
    "    model.eval()\n",
    "    features = []\n",
    "    labels = []\n",
    "    with torch.no_grad():\n",
    "        for data in loader:\n",
    "            feature = model(data, return_feature=True)  \n",
    "            features.append(feature.cpu().detach().numpy()) \n",
    "            labels.append(data.y.cpu().numpy())\n",
    "    \n",
    "    features = np.concatenate(features, axis=0)\n",
    "    labels = np.concatenate(labels, axis=0)\n",
    "    return features, labels"
   ]
  },
  {
   "cell_type": "code",
   "execution_count": 9,
   "id": "03c435c1",
   "metadata": {},
   "outputs": [],
   "source": [
    "model.load_state_dict(torch.load('best2_model.pth'))\n",
    "all_loader = DataLoader(torch_graph_data_list, batch_size=4, shuffle=False)\n",
    "all_features, all_labels = extract_features_2d(model, all_loader)"
   ]
  },
  {
   "cell_type": "code",
   "execution_count": 10,
   "id": "527ad1b4",
   "metadata": {},
   "outputs": [
    {
     "name": "stdout",
     "output_type": "stream",
     "text": [
      "(50, 32)\n",
      "(50,)\n"
     ]
    }
   ],
   "source": [
    "print(all_features.shape)\n",
    "print(all_labels.shape)"
   ]
  },
  {
   "cell_type": "code",
   "execution_count": null,
   "id": "2ed14a84",
   "metadata": {},
   "outputs": [],
   "source": []
  },
  {
   "cell_type": "code",
   "execution_count": null,
   "id": "0befefcf",
   "metadata": {},
   "outputs": [],
   "source": []
  }
 ],
 "metadata": {
  "kernelspec": {
   "display_name": "Python 3 (ipykernel)",
   "language": "python",
   "name": "python3"
  },
  "language_info": {
   "codemirror_mode": {
    "name": "ipython",
    "version": 3
   },
   "file_extension": ".py",
   "mimetype": "text/x-python",
   "name": "python",
   "nbconvert_exporter": "python",
   "pygments_lexer": "ipython3",
   "version": "3.11.4"
  }
 },
 "nbformat": 4,
 "nbformat_minor": 5
}
