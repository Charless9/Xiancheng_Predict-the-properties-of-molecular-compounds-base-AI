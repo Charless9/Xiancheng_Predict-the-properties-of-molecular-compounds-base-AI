{
 "cells": [
  {
   "cell_type": "code",
   "execution_count": 1,
   "id": "2567a825",
   "metadata": {},
   "outputs": [],
   "source": [
    "import pandas as pd\n",
    "import torch\n",
    "import torch.optim as optim\n",
    "import torch.nn as nn\n",
    "import os\n",
    "import sys\n",
    "import nbimporter\n",
    "\n",
    "project_root = os.path.join(os.getcwd(), '..')\n",
    "sys.path.append(project_root)\n",
    "\n",
    "from datapreparation.Process_graph_2d_data import get_atom_number\n",
    "from datapreparation.Process_graph_3d_data import *\n",
    "from models.Model_building import *\n",
    "from augmentation.data_augmentation import *\n",
    "from cv_strategies.train_cv_strategy_123D import *\n",
    "from Extract_features.extract_features_from_dataset import *\n",
    "from testing.offline_test import *"
   ]
  },
  {
   "cell_type": "markdown",
   "id": "34b3639c",
   "metadata": {},
   "source": [
    "# Training"
   ]
  },
  {
   "cell_type": "code",
   "execution_count": 2,
   "id": "35c4b432",
   "metadata": {},
   "outputs": [],
   "source": [
    "canonical_file = '../dataset/final_canonical_trainset.csv'\n",
    "ori_smiles_df = pd.read_csv(canonical_file)"
   ]
  },
  {
   "cell_type": "markdown",
   "id": "42feba55",
   "metadata": {},
   "source": [
    "## data augmentation"
   ]
  },
  {
   "cell_type": "code",
   "execution_count": 3,
   "id": "d1b93ebc",
   "metadata": {},
   "outputs": [],
   "source": [
    "smiles_df = smiles_augmentation(ori_smiles_df, original_multiplier=4, num_variants=4)"
   ]
  },
  {
   "cell_type": "code",
   "execution_count": 4,
   "id": "368a50c8",
   "metadata": {},
   "outputs": [],
   "source": [
    "labels = smiles_df['Label']\n",
    "smiles_list = smiles_df[\"SMILES\"]\n",
    "atom_numbers = get_atom_number(smiles_list)"
   ]
  },
  {
   "cell_type": "code",
   "execution_count": 5,
   "id": "ca88fa26",
   "metadata": {},
   "outputs": [
    {
     "name": "stderr",
     "output_type": "stream",
     "text": [
      "get graph_data: 100%|██████████████████████████████████████████████████████████████| 9928/9928 [24:25<00:00,  6.78it/s]\n"
     ]
    }
   ],
   "source": [
    "graph_data_3d = preprocess_3d_graph(smiles_list, labels, atom_numbers)\n",
    "num_node_features = graph_data_3d[0]['nodes_features'].shape[1]\n",
    "num_edge_features = graph_data_3d[0]['edge_attr'].shape[1]"
   ]
  },
  {
   "cell_type": "code",
   "execution_count": 6,
   "id": "5b7c71bb",
   "metadata": {},
   "outputs": [
    {
     "name": "stdout",
     "output_type": "stream",
     "text": [
      "9928\n"
     ]
    }
   ],
   "source": [
    "print(len(graph_data_3d))"
   ]
  },
  {
   "cell_type": "markdown",
   "id": "d391ac49",
   "metadata": {},
   "source": [
    "## set parameters"
   ]
  },
  {
   "cell_type": "code",
   "execution_count": 7,
   "id": "698c7e74",
   "metadata": {},
   "outputs": [],
   "source": [
    "device = torch.device('cuda' if torch.cuda.is_available() else 'cpu')\n",
    "output_dim = 1\n",
    "criterion = nn.BCEWithLogitsLoss()\n",
    "#output_dim = 2\n",
    "#criterion = nn.CrossEntropyLoss()\n",
    "batch_size=64\n",
    "epoch_num=150\n",
    "\n",
    "scale_path_3d = 'standardize_scale_3d.pkl'           # None    'standardize_scale_2d.pkl'\n",
    "scale_path_cv_3d = 'standardize_scale_cv_3d.pkl'     # None    'standardize_scale_cv_2d.pkl'\n",
    "Preprocess3d = 'standardize'                         # None   'standardize'   'normalize'\n",
    "Preprocesscv_3d = 'standardize'                      # None   'standardize'   'normalize'"
   ]
  },
  {
   "cell_type": "markdown",
   "id": "71dadd0b",
   "metadata": {},
   "source": [
    "## general training"
   ]
  },
  {
   "cell_type": "code",
   "execution_count": 8,
   "id": "1b129c5d",
   "metadata": {},
   "outputs": [
    {
     "name": "stdout",
     "output_type": "stream",
     "text": [
      "Epoch: 1/150, Train Loss: 0.6547, Train Acc: 0.6109, Val Loss: 0.6657, Val Acc: 0.6113, SEN: 0.5255, SPE: 0.6981, MCC: 0.2269\n",
      "Epoch: 2/150, Train Loss: 0.6444, Train Acc: 0.6220, Val Loss: 0.6493, Val Acc: 0.6319, SEN: 0.7407, SPE: 0.5218, MCC: 0.2691\n",
      "Epoch: 3/150, Train Loss: 0.6295, Train Acc: 0.6377, Val Loss: 0.6277, Val Acc: 0.6576, SEN: 0.8408, SPE: 0.4721, MCC: 0.3370\n",
      "Epoch: 4/150, Train Loss: 0.6219, Train Acc: 0.6519, Val Loss: 0.6280, Val Acc: 0.6571, SEN: 0.7057, SPE: 0.6079, MCC: 0.3152\n",
      "Epoch: 5/150, Train Loss: 0.6152, Train Acc: 0.6551, Val Loss: 0.6317, Val Acc: 0.6626, SEN: 0.6116, SPE: 0.7143, MCC: 0.3276\n",
      "Epoch: 6/150, Train Loss: 0.6085, Train Acc: 0.6579, Val Loss: 0.6031, Val Acc: 0.6697, SEN: 0.8158, SPE: 0.5218, MCC: 0.3534\n",
      "Epoch: 7/150, Train Loss: 0.5917, Train Acc: 0.6735, Val Loss: 0.5994, Val Acc: 0.6762, SEN: 0.6957, SPE: 0.6565, MCC: 0.3525\n",
      "Epoch: 8/150, Train Loss: 0.5930, Train Acc: 0.6666, Val Loss: 0.5978, Val Acc: 0.6747, SEN: 0.6927, SPE: 0.6565, MCC: 0.3495\n",
      "Epoch: 9/150, Train Loss: 0.5821, Train Acc: 0.6798, Val Loss: 0.5722, Val Acc: 0.6828, SEN: 0.6857, SPE: 0.6798, MCC: 0.3655\n",
      "Epoch: 10/150, Train Loss: 0.5714, Train Acc: 0.6886, Val Loss: 0.5461, Val Acc: 0.6999, SEN: 0.7287, SPE: 0.6707, MCC: 0.4002\n",
      "Epoch: 11/150, Train Loss: 0.5626, Train Acc: 0.6904, Val Loss: 0.5558, Val Acc: 0.6908, SEN: 0.7758, SPE: 0.6049, MCC: 0.3865\n",
      "Epoch: 12/150, Train Loss: 0.5578, Train Acc: 0.7039, Val Loss: 0.5287, Val Acc: 0.7120, SEN: 0.7287, SPE: 0.6950, MCC: 0.4240\n",
      "Epoch: 13/150, Train Loss: 0.5380, Train Acc: 0.7147, Val Loss: 0.5227, Val Acc: 0.7100, SEN: 0.6727, SPE: 0.7477, MCC: 0.4215\n",
      "Epoch: 14/150, Train Loss: 0.5204, Train Acc: 0.7215, Val Loss: 0.5210, Val Acc: 0.7216, SEN: 0.6517, SPE: 0.7923, MCC: 0.4482\n",
      "Epoch: 15/150, Train Loss: 0.5085, Train Acc: 0.7389, Val Loss: 0.5013, Val Acc: 0.7200, SEN: 0.7568, SPE: 0.6829, MCC: 0.4409\n",
      "Epoch: 16/150, Train Loss: 0.5044, Train Acc: 0.7394, Val Loss: 0.4986, Val Acc: 0.7241, SEN: 0.7908, SPE: 0.6565, MCC: 0.4516\n",
      "Epoch: 17/150, Train Loss: 0.4787, Train Acc: 0.7518, Val Loss: 0.4635, Val Acc: 0.7417, SEN: 0.7467, SPE: 0.7366, MCC: 0.4834\n",
      "Epoch: 18/150, Train Loss: 0.4669, Train Acc: 0.7616, Val Loss: 0.4596, Val Acc: 0.7487, SEN: 0.7718, SPE: 0.7254, MCC: 0.4978\n",
      "Epoch: 19/150, Train Loss: 0.4559, Train Acc: 0.7668, Val Loss: 0.4340, Val Acc: 0.7649, SEN: 0.7648, SPE: 0.7649, MCC: 0.5297\n",
      "Epoch: 20/150, Train Loss: 0.4375, Train Acc: 0.7803, Val Loss: 0.4453, Val Acc: 0.7749, SEN: 0.8158, SPE: 0.7335, MCC: 0.5514\n",
      "Epoch: 21/150, Train Loss: 0.4227, Train Acc: 0.7887, Val Loss: 0.4044, Val Acc: 0.7850, SEN: 0.7578, SPE: 0.8126, MCC: 0.5711\n",
      "Epoch: 22/150, Train Loss: 0.4151, Train Acc: 0.7989, Val Loss: 0.4218, Val Acc: 0.7724, SEN: 0.7648, SPE: 0.7801, MCC: 0.5449\n",
      "Epoch: 23/150, Train Loss: 0.3986, Train Acc: 0.8031, Val Loss: 0.3981, Val Acc: 0.7966, SEN: 0.7688, SPE: 0.8247, MCC: 0.5943\n",
      "Epoch: 24/150, Train Loss: 0.3936, Train Acc: 0.8065, Val Loss: 0.3953, Val Acc: 0.7986, SEN: 0.7698, SPE: 0.8278, MCC: 0.5984\n",
      "Epoch: 25/150, Train Loss: 0.3875, Train Acc: 0.8116, Val Loss: 0.3764, Val Acc: 0.7971, SEN: 0.7878, SPE: 0.8065, MCC: 0.5943\n",
      "Epoch: 26/150, Train Loss: 0.3769, Train Acc: 0.8139, Val Loss: 0.3738, Val Acc: 0.8223, SEN: 0.7908, SPE: 0.8541, MCC: 0.6460\n",
      "Epoch: 27/150, Train Loss: 0.3600, Train Acc: 0.8269, Val Loss: 0.3736, Val Acc: 0.8077, SEN: 0.7888, SPE: 0.8267, MCC: 0.6159\n",
      "Epoch: 28/150, Train Loss: 0.3683, Train Acc: 0.8238, Val Loss: 0.3717, Val Acc: 0.8102, SEN: 0.8569, SPE: 0.7629, MCC: 0.6227\n",
      "Epoch: 29/150, Train Loss: 0.3552, Train Acc: 0.8314, Val Loss: 0.3608, Val Acc: 0.8202, SEN: 0.7888, SPE: 0.8521, MCC: 0.6420\n",
      "Epoch: 30/150, Train Loss: 0.3469, Train Acc: 0.8374, Val Loss: 0.3452, Val Acc: 0.8233, SEN: 0.8458, SPE: 0.8004, MCC: 0.6470\n",
      "Epoch: 31/150, Train Loss: 0.3416, Train Acc: 0.8416, Val Loss: 0.3794, Val Acc: 0.7925, SEN: 0.8619, SPE: 0.7224, MCC: 0.5903\n",
      "Epoch: 32/150, Train Loss: 0.3328, Train Acc: 0.8396, Val Loss: 0.3587, Val Acc: 0.8233, SEN: 0.8078, SPE: 0.8389, MCC: 0.6469\n",
      "Epoch: 33/150, Train Loss: 0.3343, Train Acc: 0.8499, Val Loss: 0.3492, Val Acc: 0.8384, SEN: 0.7728, SPE: 0.9048, MCC: 0.6831\n",
      "Epoch: 34/150, Train Loss: 0.3189, Train Acc: 0.8515, Val Loss: 0.3486, Val Acc: 0.8348, SEN: 0.7818, SPE: 0.8886, MCC: 0.6739\n",
      "Epoch: 35/150, Train Loss: 0.3319, Train Acc: 0.8475, Val Loss: 0.3579, Val Acc: 0.8212, SEN: 0.8919, SPE: 0.7497, MCC: 0.6486\n",
      "Epoch: 36/150, Train Loss: 0.3067, Train Acc: 0.8539, Val Loss: 0.3346, Val Acc: 0.8369, SEN: 0.8629, SPE: 0.8105, MCC: 0.6745\n",
      "Epoch: 37/150, Train Loss: 0.3139, Train Acc: 0.8556, Val Loss: 0.3746, Val Acc: 0.8192, SEN: 0.8138, SPE: 0.8247, MCC: 0.6385\n",
      "Epoch: 38/150, Train Loss: 0.3080, Train Acc: 0.8571, Val Loss: 0.3067, Val Acc: 0.8550, SEN: 0.9029, SPE: 0.8065, MCC: 0.7130\n",
      "Epoch: 39/150, Train Loss: 0.2943, Train Acc: 0.8650, Val Loss: 0.3404, Val Acc: 0.8293, SEN: 0.7698, SPE: 0.8896, MCC: 0.6638\n",
      "Epoch: 40/150, Train Loss: 0.2803, Train Acc: 0.8758, Val Loss: 0.2777, Val Acc: 0.8681, SEN: 0.8529, SPE: 0.8835, MCC: 0.7366\n",
      "Epoch: 41/150, Train Loss: 0.2675, Train Acc: 0.8784, Val Loss: 0.2969, Val Acc: 0.8630, SEN: 0.9149, SPE: 0.8105, MCC: 0.7298\n",
      "Epoch: 42/150, Train Loss: 0.2770, Train Acc: 0.8781, Val Loss: 0.3086, Val Acc: 0.8444, SEN: 0.8789, SPE: 0.8095, MCC: 0.6903\n",
      "Epoch: 43/150, Train Loss: 0.2969, Train Acc: 0.8655, Val Loss: 0.2932, Val Acc: 0.8600, SEN: 0.8879, SPE: 0.8318, MCC: 0.7210\n",
      "Epoch: 44/150, Train Loss: 0.2754, Train Acc: 0.8780, Val Loss: 0.2787, Val Acc: 0.8706, SEN: 0.8509, SPE: 0.8906, MCC: 0.7419\n",
      "Epoch: 45/150, Train Loss: 0.2661, Train Acc: 0.8834, Val Loss: 0.2675, Val Acc: 0.8711, SEN: 0.8859, SPE: 0.8561, MCC: 0.7424\n",
      "Epoch: 46/150, Train Loss: 0.2553, Train Acc: 0.8881, Val Loss: 0.2681, Val Acc: 0.8787, SEN: 0.8669, SPE: 0.8906, MCC: 0.7576\n",
      "Epoch: 47/150, Train Loss: 0.2492, Train Acc: 0.8941, Val Loss: 0.2591, Val Acc: 0.8827, SEN: 0.9089, SPE: 0.8561, MCC: 0.7663\n",
      "Epoch: 48/150, Train Loss: 0.2606, Train Acc: 0.8842, Val Loss: 0.3528, Val Acc: 0.8741, SEN: 0.8569, SPE: 0.8916, MCC: 0.7488\n",
      "Epoch: 49/150, Train Loss: 0.2962, Train Acc: 0.8769, Val Loss: 0.2824, Val Acc: 0.8731, SEN: 0.9179, SPE: 0.8278, MCC: 0.7490\n",
      "Epoch: 50/150, Train Loss: 0.2696, Train Acc: 0.8790, Val Loss: 0.3175, Val Acc: 0.8510, SEN: 0.8028, SPE: 0.8997, MCC: 0.7055\n",
      "Epoch: 51/150, Train Loss: 0.2592, Train Acc: 0.8843, Val Loss: 0.2941, Val Acc: 0.8721, SEN: 0.8949, SPE: 0.8490, MCC: 0.7449\n",
      "Epoch: 52/150, Train Loss: 0.2638, Train Acc: 0.8910, Val Loss: 0.2940, Val Acc: 0.8615, SEN: 0.8889, SPE: 0.8338, MCC: 0.7240\n",
      "Epoch: 53/150, Train Loss: 0.2525, Train Acc: 0.8906, Val Loss: 0.2912, Val Acc: 0.8766, SEN: 0.9199, SPE: 0.8328, MCC: 0.7559\n",
      "Epoch: 54/150, Train Loss: 0.2678, Train Acc: 0.8854, Val Loss: 0.2785, Val Acc: 0.8706, SEN: 0.8999, SPE: 0.8409, MCC: 0.7423\n",
      "Epoch: 55/150, Train Loss: 0.2711, Train Acc: 0.8848, Val Loss: 0.2469, Val Acc: 0.8943, SEN: 0.9249, SPE: 0.8632, MCC: 0.7899\n",
      "Epoch: 56/150, Train Loss: 0.2309, Train Acc: 0.8964, Val Loss: 0.2461, Val Acc: 0.8968, SEN: 0.8899, SPE: 0.9037, MCC: 0.7937\n",
      "Epoch: 57/150, Train Loss: 0.2376, Train Acc: 0.8952, Val Loss: 0.2545, Val Acc: 0.8812, SEN: 0.8519, SPE: 0.9108, MCC: 0.7638\n",
      "Epoch: 58/150, Train Loss: 0.2289, Train Acc: 0.9014, Val Loss: 0.2580, Val Acc: 0.8907, SEN: 0.8448, SPE: 0.9372, MCC: 0.7850\n",
      "Epoch: 59/150, Train Loss: 0.2242, Train Acc: 0.9024, Val Loss: 0.2330, Val Acc: 0.8948, SEN: 0.9209, SPE: 0.8683, MCC: 0.7905\n",
      "Epoch: 60/150, Train Loss: 0.2146, Train Acc: 0.9063, Val Loss: 0.2484, Val Acc: 0.8832, SEN: 0.8308, SPE: 0.9362, MCC: 0.7709\n",
      "Epoch: 61/150, Train Loss: 0.2257, Train Acc: 0.9080, Val Loss: 0.2579, Val Acc: 0.8862, SEN: 0.8338, SPE: 0.9392, MCC: 0.7770\n",
      "Epoch: 62/150, Train Loss: 0.2388, Train Acc: 0.8988, Val Loss: 0.2505, Val Acc: 0.8827, SEN: 0.9249, SPE: 0.8399, MCC: 0.7679\n",
      "Epoch: 63/150, Train Loss: 0.2145, Train Acc: 0.9061, Val Loss: 0.2439, Val Acc: 0.8862, SEN: 0.9159, SPE: 0.8561, MCC: 0.7736\n",
      "Epoch: 64/150, Train Loss: 0.2080, Train Acc: 0.9114, Val Loss: 0.2392, Val Acc: 0.8993, SEN: 0.9139, SPE: 0.8845, MCC: 0.7989\n",
      "Epoch: 65/150, Train Loss: 0.2190, Train Acc: 0.9093, Val Loss: 0.2569, Val Acc: 0.8968, SEN: 0.9059, SPE: 0.8875, MCC: 0.7936\n"
     ]
    },
    {
     "name": "stdout",
     "output_type": "stream",
     "text": [
      "Epoch: 66/150, Train Loss: 0.2157, Train Acc: 0.9107, Val Loss: 0.2771, Val Acc: 0.8938, SEN: 0.8789, SPE: 0.9088, MCC: 0.7879\n",
      "Epoch: 67/150, Train Loss: 0.2151, Train Acc: 0.9063, Val Loss: 0.2209, Val Acc: 0.9038, SEN: 0.9339, SPE: 0.8734, MCC: 0.8090\n",
      "Epoch: 68/150, Train Loss: 0.1961, Train Acc: 0.9178, Val Loss: 0.2215, Val Acc: 0.8978, SEN: 0.8879, SPE: 0.9078, MCC: 0.7958\n",
      "Epoch: 69/150, Train Loss: 0.2030, Train Acc: 0.9144, Val Loss: 0.2213, Val Acc: 0.9094, SEN: 0.9009, SPE: 0.9179, MCC: 0.8189\n",
      "Epoch: 70/150, Train Loss: 0.1972, Train Acc: 0.9182, Val Loss: 0.2163, Val Acc: 0.9124, SEN: 0.9039, SPE: 0.9210, MCC: 0.8249\n",
      "Epoch: 71/150, Train Loss: 0.2074, Train Acc: 0.9090, Val Loss: 0.2312, Val Acc: 0.8998, SEN: 0.8809, SPE: 0.9189, MCC: 0.8003\n",
      "Epoch: 72/150, Train Loss: 0.2144, Train Acc: 0.9102, Val Loss: 0.2299, Val Acc: 0.9104, SEN: 0.9089, SPE: 0.9119, MCC: 0.8207\n",
      "Epoch: 73/150, Train Loss: 0.2008, Train Acc: 0.9189, Val Loss: 0.2143, Val Acc: 0.9074, SEN: 0.9199, SPE: 0.8946, MCC: 0.8149\n",
      "Epoch: 74/150, Train Loss: 0.2015, Train Acc: 0.9127, Val Loss: 0.2877, Val Acc: 0.8776, SEN: 0.8519, SPE: 0.9037, MCC: 0.7564\n",
      "Epoch: 75/150, Train Loss: 0.2079, Train Acc: 0.9137, Val Loss: 0.2359, Val Acc: 0.9038, SEN: 0.9219, SPE: 0.8855, MCC: 0.8081\n",
      "Epoch: 76/150, Train Loss: 0.2012, Train Acc: 0.9137, Val Loss: 0.2059, Val Acc: 0.9189, SEN: 0.9199, SPE: 0.9179, MCC: 0.8379\n",
      "Epoch: 77/150, Train Loss: 0.1932, Train Acc: 0.9200, Val Loss: 0.2308, Val Acc: 0.9114, SEN: 0.8949, SPE: 0.9281, MCC: 0.8233\n",
      "Epoch: 78/150, Train Loss: 0.1905, Train Acc: 0.9200, Val Loss: 0.2093, Val Acc: 0.9159, SEN: 0.9009, SPE: 0.9311, MCC: 0.8323\n",
      "Epoch: 79/150, Train Loss: 0.1854, Train Acc: 0.9258, Val Loss: 0.2354, Val Acc: 0.9089, SEN: 0.9239, SPE: 0.8936, MCC: 0.8180\n",
      "Epoch: 80/150, Train Loss: 0.1904, Train Acc: 0.9187, Val Loss: 0.2223, Val Acc: 0.9028, SEN: 0.8809, SPE: 0.9250, MCC: 0.8065\n",
      "Epoch: 81/150, Train Loss: 0.1967, Train Acc: 0.9194, Val Loss: 0.2536, Val Acc: 0.9023, SEN: 0.9299, SPE: 0.8744, MCC: 0.8058\n",
      "Epoch: 82/150, Train Loss: 0.1941, Train Acc: 0.9231, Val Loss: 0.2293, Val Acc: 0.9104, SEN: 0.9059, SPE: 0.9149, MCC: 0.8208\n",
      "Epoch: 83/150, Train Loss: 0.1911, Train Acc: 0.9226, Val Loss: 0.1979, Val Acc: 0.9235, SEN: 0.9109, SPE: 0.9362, MCC: 0.8472\n",
      "Epoch: 84/150, Train Loss: 0.1788, Train Acc: 0.9245, Val Loss: 0.2355, Val Acc: 0.9099, SEN: 0.9399, SPE: 0.8794, MCC: 0.8211\n",
      "Epoch: 85/150, Train Loss: 0.1758, Train Acc: 0.9277, Val Loss: 0.2588, Val Acc: 0.9013, SEN: 0.8579, SPE: 0.9453, MCC: 0.8059\n",
      "Epoch: 86/150, Train Loss: 0.1891, Train Acc: 0.9234, Val Loss: 0.2185, Val Acc: 0.9159, SEN: 0.9159, SPE: 0.9159, MCC: 0.8318\n",
      "Epoch: 87/150, Train Loss: 0.2030, Train Acc: 0.9180, Val Loss: 0.2453, Val Acc: 0.9043, SEN: 0.9179, SPE: 0.8906, MCC: 0.8089\n",
      "Epoch: 88/150, Train Loss: 0.1850, Train Acc: 0.9228, Val Loss: 0.2210, Val Acc: 0.9139, SEN: 0.9179, SPE: 0.9098, MCC: 0.8278\n",
      "Epoch: 89/150, Train Loss: 0.1796, Train Acc: 0.9247, Val Loss: 0.2073, Val Acc: 0.9189, SEN: 0.9449, SPE: 0.8926, MCC: 0.8389\n",
      "Epoch: 90/150, Train Loss: 0.1752, Train Acc: 0.9257, Val Loss: 0.2137, Val Acc: 0.9194, SEN: 0.9449, SPE: 0.8936, MCC: 0.8399\n",
      "Epoch: 91/150, Train Loss: 0.1688, Train Acc: 0.9292, Val Loss: 0.2057, Val Acc: 0.9159, SEN: 0.9339, SPE: 0.8977, MCC: 0.8323\n",
      "Epoch: 92/150, Train Loss: 0.1657, Train Acc: 0.9304, Val Loss: 0.2199, Val Acc: 0.9124, SEN: 0.9339, SPE: 0.8906, MCC: 0.8255\n",
      "Epoch: 93/150, Train Loss: 0.1723, Train Acc: 0.9284, Val Loss: 0.2143, Val Acc: 0.9089, SEN: 0.9159, SPE: 0.9017, MCC: 0.8178\n",
      "Epoch: 94/150, Train Loss: 0.1883, Train Acc: 0.9239, Val Loss: 0.2648, Val Acc: 0.8948, SEN: 0.9099, SPE: 0.8794, MCC: 0.7898\n",
      "Epoch: 95/150, Train Loss: 0.1742, Train Acc: 0.9294, Val Loss: 0.2010, Val Acc: 0.9240, SEN: 0.9439, SPE: 0.9037, MCC: 0.8485\n",
      "Epoch: 96/150, Train Loss: 0.2029, Train Acc: 0.9187, Val Loss: 0.2248, Val Acc: 0.9074, SEN: 0.9399, SPE: 0.8744, MCC: 0.8163\n",
      "Epoch: 97/150, Train Loss: 0.1643, Train Acc: 0.9321, Val Loss: 0.1973, Val Acc: 0.9184, SEN: 0.9349, SPE: 0.9017, MCC: 0.8373\n",
      "Epoch: 98/150, Train Loss: 0.1709, Train Acc: 0.9316, Val Loss: 0.2209, Val Acc: 0.9114, SEN: 0.9219, SPE: 0.9007, MCC: 0.8229\n",
      "Epoch: 99/150, Train Loss: 0.1751, Train Acc: 0.9258, Val Loss: 0.2135, Val Acc: 0.9119, SEN: 0.9269, SPE: 0.8967, MCC: 0.8241\n",
      "Epoch: 100/150, Train Loss: 0.1862, Train Acc: 0.9255, Val Loss: 0.2389, Val Acc: 0.9003, SEN: 0.9279, SPE: 0.8723, MCC: 0.8017\n",
      "Epoch: 101/150, Train Loss: 0.1631, Train Acc: 0.9301, Val Loss: 0.2162, Val Acc: 0.9230, SEN: 0.9299, SPE: 0.9159, MCC: 0.8460\n",
      "Epoch: 102/150, Train Loss: 0.1671, Train Acc: 0.9343, Val Loss: 0.1972, Val Acc: 0.9240, SEN: 0.9269, SPE: 0.9210, MCC: 0.8479\n",
      "Epoch: 103/150, Train Loss: 0.1937, Train Acc: 0.9239, Val Loss: 0.1741, Val Acc: 0.9285, SEN: 0.9279, SPE: 0.9291, MCC: 0.8570\n",
      "Epoch: 104/150, Train Loss: 0.1740, Train Acc: 0.9268, Val Loss: 0.2218, Val Acc: 0.9114, SEN: 0.8979, SPE: 0.9250, MCC: 0.8231\n",
      "Epoch: 105/150, Train Loss: 0.1648, Train Acc: 0.9329, Val Loss: 0.2000, Val Acc: 0.9154, SEN: 0.8859, SPE: 0.9453, MCC: 0.8324\n",
      "Epoch: 106/150, Train Loss: 0.1604, Train Acc: 0.9379, Val Loss: 0.2074, Val Acc: 0.9144, SEN: 0.9079, SPE: 0.9210, MCC: 0.8289\n",
      "Epoch: 107/150, Train Loss: 0.1846, Train Acc: 0.9228, Val Loss: 0.2189, Val Acc: 0.9220, SEN: 0.9079, SPE: 0.9362, MCC: 0.8443\n",
      "Epoch: 108/150, Train Loss: 0.1601, Train Acc: 0.9370, Val Loss: 0.2009, Val Acc: 0.9144, SEN: 0.9389, SPE: 0.8896, MCC: 0.8297\n",
      "Epoch: 109/150, Train Loss: 0.1590, Train Acc: 0.9360, Val Loss: 0.2043, Val Acc: 0.9215, SEN: 0.9620, SPE: 0.8804, MCC: 0.8456\n",
      "Epoch: 110/150, Train Loss: 0.1485, Train Acc: 0.9384, Val Loss: 0.2074, Val Acc: 0.9235, SEN: 0.8979, SPE: 0.9493, MCC: 0.8481\n",
      "Epoch: 111/150, Train Loss: 0.1432, Train Acc: 0.9407, Val Loss: 0.1732, Val Acc: 0.9305, SEN: 0.9299, SPE: 0.9311, MCC: 0.8610\n",
      "Epoch: 112/150, Train Loss: 0.1426, Train Acc: 0.9432, Val Loss: 0.1922, Val Acc: 0.9255, SEN: 0.9329, SPE: 0.9179, MCC: 0.8510\n",
      "Epoch: 113/150, Train Loss: 0.1422, Train Acc: 0.9422, Val Loss: 0.2545, Val Acc: 0.9164, SEN: 0.8959, SPE: 0.9372, MCC: 0.8336\n",
      "Epoch: 114/150, Train Loss: 0.1624, Train Acc: 0.9386, Val Loss: 0.2105, Val Acc: 0.9265, SEN: 0.9469, SPE: 0.9058, MCC: 0.8536\n",
      "Epoch: 115/150, Train Loss: 0.1965, Train Acc: 0.9239, Val Loss: 0.2282, Val Acc: 0.9043, SEN: 0.9540, SPE: 0.8541, MCC: 0.8125\n",
      "Epoch: 116/150, Train Loss: 0.1510, Train Acc: 0.9368, Val Loss: 0.1992, Val Acc: 0.9199, SEN: 0.9059, SPE: 0.9341, MCC: 0.8403\n",
      "Epoch: 117/150, Train Loss: 0.1503, Train Acc: 0.9403, Val Loss: 0.2171, Val Acc: 0.9149, SEN: 0.9469, SPE: 0.8825, MCC: 0.8314\n",
      "Epoch: 118/150, Train Loss: 0.2100, Train Acc: 0.9227, Val Loss: 0.1920, Val Acc: 0.9189, SEN: 0.9199, SPE: 0.9179, MCC: 0.8379\n",
      "Epoch: 119/150, Train Loss: 0.1430, Train Acc: 0.9411, Val Loss: 0.1899, Val Acc: 0.9235, SEN: 0.9439, SPE: 0.9027, MCC: 0.8476\n",
      "Epoch: 120/150, Train Loss: 0.1419, Train Acc: 0.9420, Val Loss: 0.1810, Val Acc: 0.9295, SEN: 0.9530, SPE: 0.9058, MCC: 0.8599\n",
      "Epoch: 121/150, Train Loss: 0.1391, Train Acc: 0.9455, Val Loss: 0.1747, Val Acc: 0.9290, SEN: 0.9339, SPE: 0.9240, MCC: 0.8580\n",
      "Epoch: 122/150, Train Loss: 0.1334, Train Acc: 0.9435, Val Loss: 0.1781, Val Acc: 0.9350, SEN: 0.9319, SPE: 0.9382, MCC: 0.8701\n",
      "Epoch: 123/150, Train Loss: 0.1367, Train Acc: 0.9440, Val Loss: 0.3057, Val Acc: 0.9089, SEN: 0.9359, SPE: 0.8815, MCC: 0.8188\n",
      "Epoch: 124/150, Train Loss: 0.1779, Train Acc: 0.9334, Val Loss: 0.2177, Val Acc: 0.9119, SEN: 0.9660, SPE: 0.8571, MCC: 0.8285\n",
      "Epoch: 125/150, Train Loss: 0.1697, Train Acc: 0.9310, Val Loss: 0.2081, Val Acc: 0.9144, SEN: 0.9469, SPE: 0.8815, MCC: 0.8305\n",
      "Epoch: 126/150, Train Loss: 0.1366, Train Acc: 0.9435, Val Loss: 0.1747, Val Acc: 0.9310, SEN: 0.9029, SPE: 0.9595, MCC: 0.8635\n",
      "Epoch: 127/150, Train Loss: 0.1425, Train Acc: 0.9418, Val Loss: 0.1805, Val Acc: 0.9290, SEN: 0.9369, SPE: 0.9210, MCC: 0.8581\n",
      "Epoch: 128/150, Train Loss: 0.1349, Train Acc: 0.9450, Val Loss: 0.1649, Val Acc: 0.9345, SEN: 0.9429, SPE: 0.9260, MCC: 0.8692\n",
      "Epoch: 129/150, Train Loss: 0.1256, Train Acc: 0.9467, Val Loss: 0.1810, Val Acc: 0.9340, SEN: 0.9489, SPE: 0.9189, MCC: 0.8684\n",
      "Epoch: 130/150, Train Loss: 0.1272, Train Acc: 0.9489, Val Loss: 0.1866, Val Acc: 0.9230, SEN: 0.9560, SPE: 0.8896, MCC: 0.8477\n"
     ]
    },
    {
     "name": "stdout",
     "output_type": "stream",
     "text": [
      "Epoch: 131/150, Train Loss: 0.1259, Train Acc: 0.9513, Val Loss: 0.1993, Val Acc: 0.9189, SEN: 0.9580, SPE: 0.8794, MCC: 0.8403\n",
      "Epoch: 132/150, Train Loss: 0.1377, Train Acc: 0.9436, Val Loss: 0.1792, Val Acc: 0.9310, SEN: 0.9359, SPE: 0.9260, MCC: 0.8621\n",
      "Epoch: 133/150, Train Loss: 0.1338, Train Acc: 0.9461, Val Loss: 0.1885, Val Acc: 0.9245, SEN: 0.9469, SPE: 0.9017, MCC: 0.8497\n",
      "Epoch: 134/150, Train Loss: 0.1598, Train Acc: 0.9386, Val Loss: 0.2977, Val Acc: 0.8998, SEN: 0.8969, SPE: 0.9027, MCC: 0.7996\n",
      "Epoch: 135/150, Train Loss: 0.2221, Train Acc: 0.9258, Val Loss: 0.2586, Val Acc: 0.9109, SEN: 0.9349, SPE: 0.8865, MCC: 0.8226\n",
      "Epoch: 136/150, Train Loss: 0.1784, Train Acc: 0.9305, Val Loss: 0.1717, Val Acc: 0.9350, SEN: 0.9219, SPE: 0.9483, MCC: 0.8704\n",
      "Epoch: 137/150, Train Loss: 0.1314, Train Acc: 0.9479, Val Loss: 0.1898, Val Acc: 0.9260, SEN: 0.8849, SPE: 0.9676, MCC: 0.8550\n",
      "Epoch: 138/150, Train Loss: 0.1226, Train Acc: 0.9532, Val Loss: 0.1767, Val Acc: 0.9335, SEN: 0.9419, SPE: 0.9250, MCC: 0.8672\n",
      "Epoch: 139/150, Train Loss: 0.1195, Train Acc: 0.9523, Val Loss: 0.1622, Val Acc: 0.9366, SEN: 0.9229, SPE: 0.9504, MCC: 0.8735\n",
      "Epoch: 140/150, Train Loss: 0.1258, Train Acc: 0.9477, Val Loss: 0.1500, Val Acc: 0.9471, SEN: 0.9379, SPE: 0.9564, MCC: 0.8944\n",
      "Epoch: 141/150, Train Loss: 0.1259, Train Acc: 0.9484, Val Loss: 0.1647, Val Acc: 0.9396, SEN: 0.9329, SPE: 0.9463, MCC: 0.8792\n",
      "Epoch: 142/150, Train Loss: 0.1247, Train Acc: 0.9514, Val Loss: 0.1617, Val Acc: 0.9371, SEN: 0.9349, SPE: 0.9392, MCC: 0.8741\n",
      "Epoch: 143/150, Train Loss: 0.1272, Train Acc: 0.9508, Val Loss: 0.1657, Val Acc: 0.9381, SEN: 0.9249, SPE: 0.9514, MCC: 0.8765\n",
      "Epoch: 144/150, Train Loss: 0.1205, Train Acc: 0.9504, Val Loss: 0.1702, Val Acc: 0.9386, SEN: 0.9259, SPE: 0.9514, MCC: 0.8775\n",
      "Epoch: 145/150, Train Loss: 0.1223, Train Acc: 0.9524, Val Loss: 0.1593, Val Acc: 0.9391, SEN: 0.9399, SPE: 0.9382, MCC: 0.8781\n",
      "Epoch: 146/150, Train Loss: 0.1177, Train Acc: 0.9547, Val Loss: 0.1899, Val Acc: 0.9381, SEN: 0.9550, SPE: 0.9210, MCC: 0.8766\n",
      "Epoch: 147/150, Train Loss: 0.1190, Train Acc: 0.9537, Val Loss: 0.1904, Val Acc: 0.9310, SEN: 0.9489, SPE: 0.9129, MCC: 0.8625\n",
      "Epoch: 148/150, Train Loss: 0.1481, Train Acc: 0.9426, Val Loss: 0.1856, Val Acc: 0.9330, SEN: 0.9199, SPE: 0.9463, MCC: 0.8664\n",
      "Epoch: 149/150, Train Loss: 0.1644, Train Acc: 0.9399, Val Loss: 0.2262, Val Acc: 0.9235, SEN: 0.9439, SPE: 0.9027, MCC: 0.8476\n",
      "Epoch: 150/150, Train Loss: 0.1456, Train Acc: 0.9417, Val Loss: 0.1879, Val Acc: 0.9310, SEN: 0.9219, SPE: 0.9402, MCC: 0.8622\n",
      "Best model saved: best_model_3d\\best_model_val_acc_0.9471.pth\n",
      "Training complete.\n"
     ]
    }
   ],
   "source": [
    "model_general = GraphNN3D(num_node_features, num_edge_features, output_dim).to(device)\n",
    "optimizer_general = optim.Adam(model_general.parameters(),lr=0.01)\n",
    "training_general(graph_data_3d, model_general, optimizer_general, criterion, batch_size, epoch_num, device, '3d', \\\n",
    "                 mode='train', Preprocess=Preprocess3d, scale_path=scale_path_3d)"
   ]
  },
  {
   "cell_type": "markdown",
   "id": "b53904a1",
   "metadata": {},
   "source": [
    "## fold cv training"
   ]
  },
  {
   "cell_type": "code",
   "execution_count": 9,
   "id": "48a4fbb6",
   "metadata": {},
   "outputs": [
    {
     "name": "stdout",
     "output_type": "stream",
     "text": [
      "Fold 1/10\n",
      "Epoch: 1/10, Train Loss: 0.6590, Train Acc: 0.6079, Val Loss: 0.6391, Val Acc: 0.6475, SEN: 0.7822, SPE: 0.5082, MCC: 0.3023\n",
      "Epoch: 2/10, Train Loss: 0.6359, Train Acc: 0.6301, Val Loss: 0.6309, Val Acc: 0.6556, SEN: 0.7960, SPE: 0.5102, MCC: 0.3201\n",
      "Epoch: 3/10, Train Loss: 0.6216, Train Acc: 0.6420, Val Loss: 0.6273, Val Acc: 0.6395, SEN: 0.5545, SPE: 0.7275, MCC: 0.2859\n",
      "Epoch: 4/10, Train Loss: 0.6166, Train Acc: 0.6556, Val Loss: 0.6076, Val Acc: 0.6777, SEN: 0.7208, SPE: 0.6332, MCC: 0.3555\n",
      "Epoch: 5/10, Train Loss: 0.5979, Train Acc: 0.6633, Val Loss: 0.5883, Val Acc: 0.6596, SEN: 0.6139, SPE: 0.7070, MCC: 0.3220\n",
      "Epoch: 6/10, Train Loss: 0.5815, Train Acc: 0.6753, Val Loss: 0.5808, Val Acc: 0.6828, SEN: 0.6752, SPE: 0.6906, MCC: 0.3658\n",
      "Epoch: 7/10, Train Loss: 0.5761, Train Acc: 0.6738, Val Loss: 0.5769, Val Acc: 0.6737, SEN: 0.6000, SPE: 0.7500, MCC: 0.3536\n",
      "Epoch: 8/10, Train Loss: 0.5616, Train Acc: 0.6943, Val Loss: 0.5670, Val Acc: 0.6888, SEN: 0.7703, SPE: 0.6045, MCC: 0.3804\n",
      "Epoch: 9/10, Train Loss: 0.5494, Train Acc: 0.7050, Val Loss: 0.5678, Val Acc: 0.6939, SEN: 0.8198, SPE: 0.5635, MCC: 0.3972\n",
      "Epoch: 10/10, Train Loss: 0.5368, Train Acc: 0.7112, Val Loss: 0.5266, Val Acc: 0.7190, SEN: 0.7208, SPE: 0.7172, MCC: 0.4380\n",
      "Fold 2/10\n",
      "Epoch: 1/10, Train Loss: 0.5284, Train Acc: 0.7153, Val Loss: 0.5221, Val Acc: 0.7039, SEN: 0.7470, SPE: 0.6613, MCC: 0.4097\n",
      "Epoch: 2/10, Train Loss: 0.5075, Train Acc: 0.7277, Val Loss: 0.4860, Val Acc: 0.7271, SEN: 0.7490, SPE: 0.7054, MCC: 0.4548\n",
      "Epoch: 3/10, Train Loss: 0.4888, Train Acc: 0.7417, Val Loss: 0.4906, Val Acc: 0.7351, SEN: 0.7449, SPE: 0.7255, MCC: 0.4705\n",
      "Epoch: 4/10, Train Loss: 0.4795, Train Acc: 0.7462, Val Loss: 0.4877, Val Acc: 0.7251, SEN: 0.7105, SPE: 0.7395, MCC: 0.4502\n",
      "Epoch: 5/10, Train Loss: 0.4736, Train Acc: 0.7473, Val Loss: 0.4655, Val Acc: 0.7301, SEN: 0.8259, SPE: 0.6353, MCC: 0.4696\n",
      "Epoch: 6/10, Train Loss: 0.4514, Train Acc: 0.7609, Val Loss: 0.4540, Val Acc: 0.7492, SEN: 0.8178, SPE: 0.6814, MCC: 0.5037\n",
      "Epoch: 7/10, Train Loss: 0.4510, Train Acc: 0.7639, Val Loss: 0.4571, Val Acc: 0.7351, SEN: 0.8077, SPE: 0.6633, MCC: 0.4758\n",
      "Epoch: 8/10, Train Loss: 0.4375, Train Acc: 0.7653, Val Loss: 0.4370, Val Acc: 0.7603, SEN: 0.8725, SPE: 0.6493, MCC: 0.5349\n",
      "Epoch: 9/10, Train Loss: 0.4284, Train Acc: 0.7766, Val Loss: 0.4410, Val Acc: 0.7392, SEN: 0.7733, SPE: 0.7054, MCC: 0.4797\n",
      "Epoch: 10/10, Train Loss: 0.4183, Train Acc: 0.7773, Val Loss: 0.4380, Val Acc: 0.7563, SEN: 0.7449, SPE: 0.7675, MCC: 0.5126\n",
      "Fold 3/10\n",
      "Epoch: 1/10, Train Loss: 0.4230, Train Acc: 0.7766, Val Loss: 0.4025, Val Acc: 0.7744, SEN: 0.8126, SPE: 0.7371, MCC: 0.5510\n",
      "Epoch: 2/10, Train Loss: 0.4117, Train Acc: 0.7747, Val Loss: 0.4059, Val Acc: 0.7764, SEN: 0.6721, SPE: 0.8785, MCC: 0.5634\n",
      "Epoch: 3/10, Train Loss: 0.3955, Train Acc: 0.7964, Val Loss: 0.4378, Val Acc: 0.7694, SEN: 0.7251, SPE: 0.8127, MCC: 0.5401\n",
      "Epoch: 4/10, Train Loss: 0.4077, Train Acc: 0.7954, Val Loss: 0.4309, Val Acc: 0.7674, SEN: 0.7210, SPE: 0.8127, MCC: 0.5363\n",
      "Epoch: 5/10, Train Loss: 0.3857, Train Acc: 0.8035, Val Loss: 0.4057, Val Acc: 0.7885, SEN: 0.7413, SPE: 0.8347, MCC: 0.5789\n",
      "Epoch: 6/10, Train Loss: 0.3835, Train Acc: 0.8049, Val Loss: 0.4075, Val Acc: 0.7925, SEN: 0.7169, SPE: 0.8665, MCC: 0.5906\n",
      "Epoch: 7/10, Train Loss: 0.3840, Train Acc: 0.8088, Val Loss: 0.3960, Val Acc: 0.7936, SEN: 0.7658, SPE: 0.8207, MCC: 0.5876\n",
      "Epoch: 8/10, Train Loss: 0.3760, Train Acc: 0.8059, Val Loss: 0.3943, Val Acc: 0.8026, SEN: 0.7067, SPE: 0.8964, MCC: 0.6151\n",
      "Epoch: 9/10, Train Loss: 0.3752, Train Acc: 0.8105, Val Loss: 0.3784, Val Acc: 0.8147, SEN: 0.7597, SPE: 0.8685, MCC: 0.6324\n",
      "Epoch: 10/10, Train Loss: 0.3622, Train Acc: 0.8171, Val Loss: 0.3873, Val Acc: 0.8006, SEN: 0.7210, SPE: 0.8785, MCC: 0.6077\n",
      "Fold 4/10\n",
      "Epoch: 1/10, Train Loss: 0.3718, Train Acc: 0.8110, Val Loss: 0.3586, Val Acc: 0.8107, SEN: 0.7408, SPE: 0.8787, MCC: 0.6262\n",
      "Epoch: 2/10, Train Loss: 0.3658, Train Acc: 0.8160, Val Loss: 0.3719, Val Acc: 0.8228, SEN: 0.7469, SPE: 0.8966, MCC: 0.6517\n",
      "Epoch: 3/10, Train Loss: 0.3640, Train Acc: 0.8175, Val Loss: 0.3805, Val Acc: 0.8147, SEN: 0.7408, SPE: 0.8867, MCC: 0.6350\n",
      "Epoch: 4/10, Train Loss: 0.3603, Train Acc: 0.8165, Val Loss: 0.3874, Val Acc: 0.8036, SEN: 0.7551, SPE: 0.8509, MCC: 0.6092\n",
      "Epoch: 5/10, Train Loss: 0.3457, Train Acc: 0.8222, Val Loss: 0.3709, Val Acc: 0.8137, SEN: 0.7796, SPE: 0.8469, MCC: 0.6283\n",
      "Epoch: 6/10, Train Loss: 0.3458, Train Acc: 0.8274, Val Loss: 0.3443, Val Acc: 0.8288, SEN: 0.8020, SPE: 0.8549, MCC: 0.6581\n",
      "Epoch: 7/10, Train Loss: 0.3337, Train Acc: 0.8334, Val Loss: 0.3492, Val Acc: 0.8258, SEN: 0.7796, SPE: 0.8708, MCC: 0.6536\n",
      "Epoch: 8/10, Train Loss: 0.3354, Train Acc: 0.8320, Val Loss: 0.3437, Val Acc: 0.8298, SEN: 0.8000, SPE: 0.8588, MCC: 0.6603\n",
      "Epoch: 9/10, Train Loss: 0.3253, Train Acc: 0.8353, Val Loss: 0.3498, Val Acc: 0.8359, SEN: 0.7776, SPE: 0.8926, MCC: 0.6753\n",
      "Epoch: 10/10, Train Loss: 0.3290, Train Acc: 0.8364, Val Loss: 0.3700, Val Acc: 0.8207, SEN: 0.6980, SPE: 0.9404, MCC: 0.6593\n",
      "Fold 5/10\n",
      "Epoch: 1/10, Train Loss: 0.3368, Train Acc: 0.8344, Val Loss: 0.3348, Val Acc: 0.8399, SEN: 0.7828, SPE: 0.8950, MCC: 0.6830\n",
      "Epoch: 2/10, Train Loss: 0.3172, Train Acc: 0.8381, Val Loss: 0.3146, Val Acc: 0.8429, SEN: 0.7971, SPE: 0.8871, MCC: 0.6877\n",
      "Epoch: 3/10, Train Loss: 0.3097, Train Acc: 0.8442, Val Loss: 0.3074, Val Acc: 0.8530, SEN: 0.7992, SPE: 0.9050, MCC: 0.7090\n",
      "Epoch: 4/10, Train Loss: 0.3133, Train Acc: 0.8453, Val Loss: 0.3080, Val Acc: 0.8419, SEN: 0.8012, SPE: 0.8812, MCC: 0.6852\n",
      "Epoch: 5/10, Train Loss: 0.3234, Train Acc: 0.8404, Val Loss: 0.3397, Val Acc: 0.8328, SEN: 0.7930, SPE: 0.8713, MCC: 0.6669\n",
      "Epoch: 6/10, Train Loss: 0.3136, Train Acc: 0.8428, Val Loss: 0.3352, Val Acc: 0.8278, SEN: 0.8115, SPE: 0.8436, MCC: 0.6556\n",
      "Epoch: 7/10, Train Loss: 0.2912, Train Acc: 0.8541, Val Loss: 0.3485, Val Acc: 0.8338, SEN: 0.8053, SPE: 0.8614, MCC: 0.6681\n",
      "Epoch: 8/10, Train Loss: 0.2857, Train Acc: 0.8557, Val Loss: 0.3248, Val Acc: 0.8348, SEN: 0.8340, SPE: 0.8356, MCC: 0.6696\n",
      "Epoch: 9/10, Train Loss: 0.2891, Train Acc: 0.8514, Val Loss: 0.2991, Val Acc: 0.8459, SEN: 0.8115, SPE: 0.8792, MCC: 0.6928\n",
      "Epoch: 10/10, Train Loss: 0.2950, Train Acc: 0.8519, Val Loss: 0.3247, Val Acc: 0.8419, SEN: 0.8340, SPE: 0.8495, MCC: 0.6837\n",
      "Fold 6/10\n",
      "Epoch: 1/10, Train Loss: 0.2946, Train Acc: 0.8491, Val Loss: 0.3166, Val Acc: 0.8459, SEN: 0.7471, SPE: 0.9503, MCC: 0.7093\n",
      "Epoch: 2/10, Train Loss: 0.2769, Train Acc: 0.8574, Val Loss: 0.2697, Val Acc: 0.8721, SEN: 0.8294, SPE: 0.9172, MCC: 0.7480\n",
      "Epoch: 3/10, Train Loss: 0.2885, Train Acc: 0.8556, Val Loss: 0.2975, Val Acc: 0.8409, SEN: 0.7725, SPE: 0.9130, MCC: 0.6905\n",
      "Epoch: 4/10, Train Loss: 0.2823, Train Acc: 0.8565, Val Loss: 0.2765, Val Acc: 0.8651, SEN: 0.8294, SPE: 0.9027, MCC: 0.7329\n",
      "Epoch: 5/10, Train Loss: 0.2687, Train Acc: 0.8627, Val Loss: 0.3007, Val Acc: 0.8600, SEN: 0.7784, SPE: 0.9462, MCC: 0.7324\n",
      "Epoch: 6/10, Train Loss: 0.2839, Train Acc: 0.8555, Val Loss: 0.2957, Val Acc: 0.8620, SEN: 0.8020, SPE: 0.9255, MCC: 0.7311\n",
      "Epoch: 7/10, Train Loss: 0.2758, Train Acc: 0.8597, Val Loss: 0.3362, Val Acc: 0.8550, SEN: 0.8588, SPE: 0.8509, MCC: 0.7098\n",
      "Epoch: 8/10, Train Loss: 0.2755, Train Acc: 0.8584, Val Loss: 0.3148, Val Acc: 0.8600, SEN: 0.8196, SPE: 0.9027, MCC: 0.7235\n",
      "Epoch: 9/10, Train Loss: 0.2759, Train Acc: 0.8635, Val Loss: 0.3288, Val Acc: 0.8610, SEN: 0.8059, SPE: 0.9193, MCC: 0.7281\n",
      "Epoch: 10/10, Train Loss: 0.2727, Train Acc: 0.8644, Val Loss: 0.2952, Val Acc: 0.8550, SEN: 0.7882, SPE: 0.9255, MCC: 0.7184\n",
      "Fold 7/10\n",
      "Epoch: 1/10, Train Loss: 0.2780, Train Acc: 0.8611, Val Loss: 0.2622, Val Acc: 0.8600, SEN: 0.8294, SPE: 0.8973, MCC: 0.7232\n",
      "Epoch: 2/10, Train Loss: 0.2654, Train Acc: 0.8707, Val Loss: 0.2908, Val Acc: 0.8570, SEN: 0.8037, SPE: 0.9219, MCC: 0.7229\n",
      "Epoch: 3/10, Train Loss: 0.2585, Train Acc: 0.8661, Val Loss: 0.2776, Val Acc: 0.8530, SEN: 0.8110, SPE: 0.9040, MCC: 0.7118\n",
      "Epoch: 4/10, Train Loss: 0.2581, Train Acc: 0.8695, Val Loss: 0.2888, Val Acc: 0.8369, SEN: 0.7633, SPE: 0.9263, MCC: 0.6895\n",
      "Epoch: 5/10, Train Loss: 0.2687, Train Acc: 0.8664, Val Loss: 0.2775, Val Acc: 0.8499, SEN: 0.7853, SPE: 0.9286, MCC: 0.7124\n"
     ]
    },
    {
     "name": "stdout",
     "output_type": "stream",
     "text": [
      "Epoch: 6/10, Train Loss: 0.2564, Train Acc: 0.8673, Val Loss: 0.2722, Val Acc: 0.8580, SEN: 0.8092, SPE: 0.9174, MCC: 0.7236\n",
      "Epoch: 7/10, Train Loss: 0.2455, Train Acc: 0.8735, Val Loss: 0.3158, Val Acc: 0.8288, SEN: 0.7890, SPE: 0.8772, MCC: 0.6632\n",
      "Epoch: 8/10, Train Loss: 0.2498, Train Acc: 0.8729, Val Loss: 0.3371, Val Acc: 0.8298, SEN: 0.7798, SPE: 0.8906, MCC: 0.6679\n",
      "Epoch: 9/10, Train Loss: 0.2500, Train Acc: 0.8736, Val Loss: 0.2536, Val Acc: 0.8640, SEN: 0.7982, SPE: 0.9442, MCC: 0.7408\n",
      "Epoch: 10/10, Train Loss: 0.2339, Train Acc: 0.8809, Val Loss: 0.2866, Val Acc: 0.8439, SEN: 0.7651, SPE: 0.9397, MCC: 0.7055\n",
      "Fold 8/10\n",
      "Epoch: 1/10, Train Loss: 0.2455, Train Acc: 0.8752, Val Loss: 0.2563, Val Acc: 0.8630, SEN: 0.7788, SPE: 0.9591, MCC: 0.7428\n",
      "Epoch: 2/10, Train Loss: 0.2516, Train Acc: 0.8742, Val Loss: 0.2380, Val Acc: 0.8751, SEN: 0.8242, SPE: 0.9332, MCC: 0.7571\n",
      "Epoch: 3/10, Train Loss: 0.2662, Train Acc: 0.8684, Val Loss: 0.2669, Val Acc: 0.8570, SEN: 0.8053, SPE: 0.9159, MCC: 0.7211\n",
      "Epoch: 4/10, Train Loss: 0.2367, Train Acc: 0.8808, Val Loss: 0.2401, Val Acc: 0.8681, SEN: 0.7807, SPE: 0.9677, MCC: 0.7540\n",
      "Epoch: 5/10, Train Loss: 0.2368, Train Acc: 0.8789, Val Loss: 0.2382, Val Acc: 0.8630, SEN: 0.7807, SPE: 0.9569, MCC: 0.7421\n",
      "Epoch: 6/10, Train Loss: 0.2333, Train Acc: 0.8800, Val Loss: 0.2247, Val Acc: 0.8802, SEN: 0.7921, SPE: 0.9806, MCC: 0.7785\n",
      "Epoch: 7/10, Train Loss: 0.2416, Train Acc: 0.8779, Val Loss: 0.2288, Val Acc: 0.8852, SEN: 0.8318, SPE: 0.9461, MCC: 0.7778\n",
      "Epoch: 8/10, Train Loss: 0.2346, Train Acc: 0.8788, Val Loss: 0.2242, Val Acc: 0.8882, SEN: 0.8318, SPE: 0.9526, MCC: 0.7846\n",
      "Epoch: 9/10, Train Loss: 0.2280, Train Acc: 0.8843, Val Loss: 0.2215, Val Acc: 0.8761, SEN: 0.8336, SPE: 0.9246, MCC: 0.7572\n",
      "Epoch: 10/10, Train Loss: 0.2511, Train Acc: 0.8754, Val Loss: 0.2269, Val Acc: 0.8812, SEN: 0.8147, SPE: 0.9569, MCC: 0.7732\n",
      "Fold 9/10\n",
      "Epoch: 1/10, Train Loss: 0.2816, Train Acc: 0.8591, Val Loss: 0.2445, Val Acc: 0.8700, SEN: 0.7704, SPE: 0.9770, MCC: 0.7592\n",
      "Epoch: 2/10, Train Loss: 0.2403, Train Acc: 0.8767, Val Loss: 0.2237, Val Acc: 0.8891, SEN: 0.9494, SPE: 0.8243, MCC: 0.7824\n",
      "Epoch: 3/10, Train Loss: 0.2200, Train Acc: 0.8836, Val Loss: 0.2267, Val Acc: 0.8810, SEN: 0.9475, SPE: 0.8096, MCC: 0.7672\n",
      "Epoch: 4/10, Train Loss: 0.2157, Train Acc: 0.8828, Val Loss: 0.2337, Val Acc: 0.8780, SEN: 0.9494, SPE: 0.8013, MCC: 0.7620\n",
      "Epoch: 5/10, Train Loss: 0.2118, Train Acc: 0.8901, Val Loss: 0.2340, Val Acc: 0.8760, SEN: 0.8054, SPE: 0.9519, MCC: 0.7622\n",
      "Epoch: 6/10, Train Loss: 0.2098, Train Acc: 0.8871, Val Loss: 0.2219, Val Acc: 0.8881, SEN: 0.9377, SPE: 0.8347, MCC: 0.7787\n",
      "Epoch: 7/10, Train Loss: 0.2082, Train Acc: 0.8875, Val Loss: 0.2186, Val Acc: 0.8720, SEN: 0.8366, SPE: 0.9100, MCC: 0.7469\n",
      "Epoch: 8/10, Train Loss: 0.2309, Train Acc: 0.8822, Val Loss: 0.2796, Val Acc: 0.8629, SEN: 0.9358, SPE: 0.7845, MCC: 0.7314\n",
      "Epoch: 9/10, Train Loss: 0.2245, Train Acc: 0.8810, Val Loss: 0.2314, Val Acc: 0.8841, SEN: 0.9358, SPE: 0.8285, MCC: 0.7708\n",
      "Epoch: 10/10, Train Loss: 0.2111, Train Acc: 0.8892, Val Loss: 0.2538, Val Acc: 0.8669, SEN: 0.9630, SPE: 0.7636, MCC: 0.7454\n",
      "Fold 10/10\n",
      "Epoch: 1/10, Train Loss: 0.2137, Train Acc: 0.8865, Val Loss: 0.2330, Val Acc: 0.8790, SEN: 0.9125, SPE: 0.8431, MCC: 0.7586\n",
      "Epoch: 2/10, Train Loss: 0.2054, Train Acc: 0.8885, Val Loss: 0.2122, Val Acc: 0.8901, SEN: 0.9533, SPE: 0.8222, MCC: 0.7850\n",
      "Epoch: 3/10, Train Loss: 0.2054, Train Acc: 0.8918, Val Loss: 0.2163, Val Acc: 0.8972, SEN: 0.9591, SPE: 0.8305, MCC: 0.7991\n",
      "Epoch: 4/10, Train Loss: 0.2354, Train Acc: 0.8786, Val Loss: 0.2314, Val Acc: 0.8780, SEN: 0.9222, SPE: 0.8305, MCC: 0.7576\n",
      "Epoch: 5/10, Train Loss: 0.2112, Train Acc: 0.8866, Val Loss: 0.2347, Val Acc: 0.8679, SEN: 0.7685, SPE: 0.9749, MCC: 0.7551\n",
      "Epoch: 6/10, Train Loss: 0.1958, Train Acc: 0.8994, Val Loss: 0.2281, Val Acc: 0.8720, SEN: 0.8833, SPE: 0.8598, MCC: 0.7436\n",
      "Epoch: 7/10, Train Loss: 0.2004, Train Acc: 0.8964, Val Loss: 0.2167, Val Acc: 0.8921, SEN: 0.9300, SPE: 0.8515, MCC: 0.7854\n",
      "Epoch: 8/10, Train Loss: 0.2070, Train Acc: 0.8947, Val Loss: 0.2323, Val Acc: 0.8831, SEN: 0.8969, SPE: 0.8682, MCC: 0.7658\n",
      "Epoch: 9/10, Train Loss: 0.2066, Train Acc: 0.8911, Val Loss: 0.1975, Val Acc: 0.8891, SEN: 0.9280, SPE: 0.8473, MCC: 0.7794\n",
      "Epoch: 10/10, Train Loss: 0.1898, Train Acc: 0.9007, Val Loss: 0.2138, Val Acc: 0.8891, SEN: 0.9377, SPE: 0.8368, MCC: 0.7806\n",
      "Average Validation Accuracy: 0.8394, Average Validation Loss: 0.3323\n"
     ]
    }
   ],
   "source": [
    "model_cv = GraphNN3D(num_node_features, num_edge_features, output_dim).to(device)\n",
    "optimizer_cv = optim.Adam(model_cv.parameters(),lr=0.01)\n",
    "training_with_10fold_cv(graph_data_3d, model_cv, optimizer_cv, criterion, device, batch_size, 10, '3d', \\\n",
    "                        reset=False, n_splits=10, mode='train',Preprocess=Preprocesscv_3d,scale_path=scale_path_cv_3d)"
   ]
  },
  {
   "cell_type": "markdown",
   "id": "ce0be5b3",
   "metadata": {},
   "source": [
    "# Offline test and select model"
   ]
  },
  {
   "cell_type": "code",
   "execution_count": 10,
   "id": "c683f20a",
   "metadata": {},
   "outputs": [],
   "source": [
    "offlinetest_file = '../dataset/canonical_offlinetestset.csv'"
   ]
  },
  {
   "cell_type": "code",
   "execution_count": 11,
   "id": "27cd27fd",
   "metadata": {},
   "outputs": [],
   "source": [
    "#best_model_3d   foldcv_models_3d\n",
    "model_save_dir1 = 'best_model_3d/'\n",
    "model_save_dir2 = 'foldcv_models_3d/'"
   ]
  },
  {
   "cell_type": "code",
   "execution_count": 12,
   "id": "60699176",
   "metadata": {},
   "outputs": [
    {
     "name": "stderr",
     "output_type": "stream",
     "text": [
      "get graph_data: 100%|████████████████████████████████████████████████████████████████| 205/205 [00:17<00:00, 11.43it/s]\n"
     ]
    },
    {
     "name": "stdout",
     "output_type": "stream",
     "text": [
      "Model: best_model_val_acc_0.9471.pth, ACC: 0.7707, SEN: 0.8191, SPE: 0.7297, MCC: 0.5475\n",
      "Model: model_periodic_epoch_10.pth, ACC: 0.7512, SEN: 0.8404, SPE: 0.6757, MCC: 0.5182\n",
      "Model: model_periodic_epoch_100.pth, ACC: 0.7463, SEN: 0.8298, SPE: 0.6757, MCC: 0.5069\n",
      "Model: model_periodic_epoch_105.pth, ACC: 0.7317, SEN: 0.7979, SPE: 0.6757, MCC: 0.4735\n",
      "Model: model_periodic_epoch_110.pth, ACC: 0.7707, SEN: 0.8191, SPE: 0.7297, MCC: 0.5475\n",
      "Model: model_periodic_epoch_115.pth, ACC: 0.7317, SEN: 0.8617, SPE: 0.6216, MCC: 0.4916\n",
      "Model: model_periodic_epoch_120.pth, ACC: 0.7463, SEN: 0.8085, SPE: 0.6937, MCC: 0.5018\n",
      "Model: model_periodic_epoch_125.pth, ACC: 0.7415, SEN: 0.8404, SPE: 0.6577, MCC: 0.5014\n",
      "Model: model_periodic_epoch_130.pth, ACC: 0.7659, SEN: 0.8723, SPE: 0.6757, MCC: 0.5525\n",
      "Model: model_periodic_epoch_135.pth, ACC: 0.7122, SEN: 0.8511, SPE: 0.5946, MCC: 0.4552\n",
      "Model: model_periodic_epoch_140.pth, ACC: 0.7756, SEN: 0.8298, SPE: 0.7297, MCC: 0.5584\n",
      "Model: model_periodic_epoch_145.pth, ACC: 0.7756, SEN: 0.8404, SPE: 0.7207, MCC: 0.5607\n",
      "Model: model_periodic_epoch_15.pth, ACC: 0.7073, SEN: 0.7872, SPE: 0.6396, MCC: 0.4281\n",
      "Model: model_periodic_epoch_150.pth, ACC: 0.7707, SEN: 0.8191, SPE: 0.7297, MCC: 0.5475\n",
      "Model: model_periodic_epoch_20.pth, ACC: 0.7220, SEN: 0.8298, SPE: 0.6306, MCC: 0.4649\n",
      "Model: model_periodic_epoch_25.pth, ACC: 0.7024, SEN: 0.7979, SPE: 0.6216, MCC: 0.4223\n",
      "Model: model_periodic_epoch_30.pth, ACC: 0.7317, SEN: 0.7979, SPE: 0.6757, MCC: 0.4735\n",
      "Model: model_periodic_epoch_35.pth, ACC: 0.7366, SEN: 0.8723, SPE: 0.6216, MCC: 0.5035\n",
      "Model: model_periodic_epoch_40.pth, ACC: 0.7463, SEN: 0.8191, SPE: 0.6847, MCC: 0.5043\n",
      "Model: model_periodic_epoch_45.pth, ACC: 0.7415, SEN: 0.7979, SPE: 0.6937, MCC: 0.4909\n",
      "Model: model_periodic_epoch_5.pth, ACC: 0.6927, SEN: 0.7340, SPE: 0.6577, MCC: 0.3907\n",
      "Model: model_periodic_epoch_50.pth, ACC: 0.7805, SEN: 0.8085, SPE: 0.7568, MCC: 0.5633\n",
      "Model: model_periodic_epoch_55.pth, ACC: 0.7463, SEN: 0.8085, SPE: 0.6937, MCC: 0.5018\n",
      "Model: model_periodic_epoch_60.pth, ACC: 0.7659, SEN: 0.8085, SPE: 0.7297, MCC: 0.5367\n",
      "Model: model_periodic_epoch_65.pth, ACC: 0.7268, SEN: 0.8723, SPE: 0.6036, MCC: 0.4873\n",
      "Model: model_periodic_epoch_70.pth, ACC: 0.7415, SEN: 0.7979, SPE: 0.6937, MCC: 0.4909\n",
      "Model: model_periodic_epoch_75.pth, ACC: 0.7073, SEN: 0.8085, SPE: 0.6216, MCC: 0.4336\n",
      "Model: model_periodic_epoch_80.pth, ACC: 0.7463, SEN: 0.8191, SPE: 0.6847, MCC: 0.5043\n",
      "Model: model_periodic_epoch_85.pth, ACC: 0.7463, SEN: 0.7553, SPE: 0.7387, MCC: 0.4925\n",
      "Model: model_periodic_epoch_90.pth, ACC: 0.7268, SEN: 0.8191, SPE: 0.6486, MCC: 0.4703\n",
      "Model: model_periodic_epoch_95.pth, ACC: 0.7366, SEN: 0.8404, SPE: 0.6486, MCC: 0.4931\n"
     ]
    }
   ],
   "source": [
    "integrated_test_model(offlinetest_file, '3d', model_general, criterion,device, 1, model_save_dir1, \\\n",
    "                      tokenizer=None, atom_numbers=atom_numbers, mode='test', Preprocess=Preprocess3d, scale_path=scale_path_3d)"
   ]
  },
  {
   "cell_type": "code",
   "execution_count": 13,
   "id": "015c751e",
   "metadata": {},
   "outputs": [
    {
     "name": "stderr",
     "output_type": "stream",
     "text": [
      "get graph_data: 100%|████████████████████████████████████████████████████████████████| 205/205 [00:17<00:00, 11.57it/s]\n"
     ]
    },
    {
     "name": "stdout",
     "output_type": "stream",
     "text": [
      "Model: best_model_fold_10_epoch_3.pth, ACC: 0.7463, SEN: 0.9255, SPE: 0.5946, MCC: 0.5412\n",
      "Model: best_model_fold_1_epoch_10.pth, ACC: 0.6927, SEN: 0.9043, SPE: 0.5135, MCC: 0.4455\n",
      "Model: best_model_fold_2_epoch_8.pth, ACC: 0.7512, SEN: 0.8936, SPE: 0.6306, MCC: 0.5355\n",
      "Model: best_model_fold_3_epoch_9.pth, ACC: 0.7268, SEN: 0.7021, SPE: 0.7477, MCC: 0.4499\n",
      "Model: best_model_fold_4_epoch_9.pth, ACC: 0.7122, SEN: 0.6809, SPE: 0.7387, MCC: 0.4200\n",
      "Model: best_model_fold_5_epoch_3.pth, ACC: 0.7268, SEN: 0.7128, SPE: 0.7387, MCC: 0.4509\n",
      "Model: best_model_fold_6_epoch_2.pth, ACC: 0.6829, SEN: 0.6702, SPE: 0.6937, MCC: 0.3632\n",
      "Model: best_model_fold_7_epoch_9.pth, ACC: 0.7073, SEN: 0.6809, SPE: 0.7297, MCC: 0.4106\n",
      "Model: best_model_fold_8_epoch_8.pth, ACC: 0.7073, SEN: 0.7234, SPE: 0.6937, MCC: 0.4157\n",
      "Model: best_model_fold_9_epoch_2.pth, ACC: 0.7463, SEN: 0.9255, SPE: 0.5946, MCC: 0.5412\n"
     ]
    }
   ],
   "source": [
    "integrated_test_model(offlinetest_file, '3d', model_cv, criterion,device, 1, model_save_dir2, \\\n",
    "                      tokenizer=None, atom_numbers=atom_numbers, mode='test', Preprocess=Preprocesscv_3d, scale_path=scale_path_cv_3d)"
   ]
  },
  {
   "cell_type": "code",
   "execution_count": null,
   "id": "afaa2808",
   "metadata": {},
   "outputs": [],
   "source": []
  }
 ],
 "metadata": {
  "kernelspec": {
   "display_name": "Python 3 (ipykernel)",
   "language": "python",
   "name": "python3"
  },
  "language_info": {
   "codemirror_mode": {
    "name": "ipython",
    "version": 3
   },
   "file_extension": ".py",
   "mimetype": "text/x-python",
   "name": "python",
   "nbconvert_exporter": "python",
   "pygments_lexer": "ipython3",
   "version": "3.11.4"
  }
 },
 "nbformat": 4,
 "nbformat_minor": 5
}
