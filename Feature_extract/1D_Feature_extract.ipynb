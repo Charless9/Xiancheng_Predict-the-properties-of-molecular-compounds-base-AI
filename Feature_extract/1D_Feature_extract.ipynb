{
 "cells": [
  {
   "cell_type": "code",
   "execution_count": 14,
   "id": "71ef3a28",
   "metadata": {},
   "outputs": [],
   "source": [
    "import pandas as pd\n",
    "import torch\n",
    "from torch.utils.data import Dataset, DataLoader\n",
    "from torch.nn.utils.rnn import pad_sequence\n",
    "from collections import Counter\n",
    "from sklearn.model_selection import train_test_split"
   ]
  },
  {
   "cell_type": "markdown",
   "id": "068f2f8d",
   "metadata": {},
   "source": [
    "# get dadatset and process labels"
   ]
  },
  {
   "cell_type": "code",
   "execution_count": 15,
   "id": "8ed5d81e",
   "metadata": {},
   "outputs": [],
   "source": [
    "data_path = '../dataset/canonical_trainset.csv'\n",
    "df = pd.read_csv(data_path)\n",
    "\n",
    "smiles = df['SMILES'].tolist()\n",
    "labels = df['Label'].apply(lambda x: 1 if x == 'Positive' else 0).tolist()"
   ]
  },
  {
   "cell_type": "markdown",
   "id": "1affeda2",
   "metadata": {},
   "source": [
    "# preprocess SMILES"
   ]
  },
  {
   "cell_type": "code",
   "execution_count": 16,
   "id": "55f4d36e",
   "metadata": {},
   "outputs": [],
   "source": [
    "class SMILESDataset(Dataset):\n",
    "    def __init__(self, smiles, labels, tokenizer):\n",
    "        self.smiles = smiles\n",
    "        self.labels = labels\n",
    "        self.tokenizer = tokenizer\n",
    "\n",
    "    def __len__(self):\n",
    "        return len(self.smiles)\n",
    "\n",
    "    def __getitem__(self, idx):\n",
    "        smile = self.smiles[idx]\n",
    "        label = self.labels[idx]\n",
    "        encoded_smile = [self.tokenizer['stoi']['<SOS>']] + [self.tokenizer['stoi'].get(c, self.tokenizer['stoi']['<PAD>']) for c in smile] + [self.tokenizer['stoi']['<EOS>']]\n",
    "        return torch.tensor(encoded_smile, dtype=torch.long), torch.tensor(label, dtype=torch.float)\n",
    "\n",
    "# create vocabulary\n",
    "def create_vocab(smiles_list):\n",
    "    counter = Counter()\n",
    "    for smile in smiles_list:\n",
    "        counter.update(smile)\n",
    "    vocab = ['<PAD>', '<SOS>', '<EOS>'] + list(counter.keys())\n",
    "    stoi = {s: i for i, s in enumerate(vocab)}\n",
    "    itos = {i: s for i, s in enumerate(vocab)}\n",
    "    return {'stoi': stoi, 'itos': itos}\n",
    "\n",
    "def collate_fn(batch):\n",
    "    inputs, labels = zip(*batch)\n",
    "    inputs_padded = pad_sequence(inputs, batch_first=True, padding_value=0)\n",
    "    labels_tensor = torch.tensor(labels, dtype=torch.float).unsqueeze(1)  # Reshape for consistency with output\n",
    "    return inputs_padded, labels_tensor"
   ]
  },
  {
   "cell_type": "markdown",
   "id": "9b8b755d",
   "metadata": {},
   "source": [
    "# load data"
   ]
  },
  {
   "cell_type": "code",
   "execution_count": 17,
   "id": "60803ad9",
   "metadata": {},
   "outputs": [],
   "source": [
    "tokenizer = create_vocab(smiles)\n",
    "stoi = tokenizer['stoi']\n",
    "\n",
    "smiles_train, smiles_test, labels_train, labels_test = train_test_split(smiles, labels, test_size=0.2, random_state=42)\n",
    "\n",
    "train_dataset = SMILESDataset(smiles_train, labels_train, tokenizer)\n",
    "test_dataset = SMILESDataset(smiles_test, labels_test, tokenizer)\n",
    "\n",
    "train_loader = DataLoader(train_dataset, batch_size=64, shuffle=True, collate_fn=collate_fn)\n",
    "test_loader = DataLoader(test_dataset, batch_size=64, shuffle=False, collate_fn=collate_fn)\n"
   ]
  },
  {
   "cell_type": "markdown",
   "id": "80a44bd5",
   "metadata": {},
   "source": [
    "# Build model and extract feature"
   ]
  },
  {
   "cell_type": "code",
   "execution_count": 18,
   "id": "edd00265",
   "metadata": {},
   "outputs": [
    {
     "name": "stdout",
     "output_type": "stream",
     "text": [
      "Epoch 1, Train Loss: 0.6982\n",
      "Epoch 2, Train Loss: 0.6934\n",
      "Epoch 3, Train Loss: 0.6932\n",
      "Epoch 4, Train Loss: 0.6931\n",
      "Epoch 5, Train Loss: 0.6949\n"
     ]
    }
   ],
   "source": [
    "import torch\n",
    "import torch.nn as nn\n",
    "import torch.optim as optim\n",
    "from torch.utils.data import DataLoader\n",
    "from sklearn.model_selection import train_test_split\n",
    "import pandas as pd\n",
    "\n",
    "\n",
    "class RNNModel(nn.Module):\n",
    "    def __init__(self, input_dim, embed_dim, hidden_dim, output_dim):\n",
    "        super(RNNModel, self).__init__()\n",
    "        self.embedding = nn.Embedding(input_dim, embed_dim)\n",
    "        self.lstm = nn.LSTM(embed_dim, hidden_dim, batch_first=True)\n",
    "        self.fc = nn.Linear(hidden_dim, output_dim)\n",
    "        self.sigmoid = nn.Sigmoid()\n",
    "        \n",
    "    def forward(self, text, extract_features=False):\n",
    "        embedded = self.embedding(text)\n",
    "        output, (hidden, _) = self.lstm(embedded)\n",
    "        if extract_features:\n",
    "            return hidden.squeeze(0) # extract feature\n",
    "        hidden = hidden.squeeze(0)\n",
    "        dense_outputs = self.fc(hidden)\n",
    "        outputs = self.sigmoid(dense_outputs)\n",
    "        return outputs\n",
    "\n",
    "input_dim = len(stoi)\n",
    "embed_dim = 64\n",
    "hidden_dim = 256\n",
    "output_dim = 1\n",
    "\n",
    "model = RNNModel(input_dim, embed_dim, hidden_dim, output_dim)\n",
    "\n",
    "criterion = nn.BCELoss()\n",
    "optimizer = optim.Adam(model.parameters())\n",
    "\n",
    "def train(model, iterator, optimizer, criterion):\n",
    "    model.train()\n",
    "    epoch_loss = 0\n",
    "    for texts, labels in iterator:\n",
    "        optimizer.zero_grad()\n",
    "        predictions = model(texts)\n",
    "        loss = criterion(predictions, labels)\n",
    "        loss.backward()\n",
    "        optimizer.step()\n",
    "        epoch_loss += loss.item()\n",
    "    return epoch_loss / len(iterator)\n",
    "\n",
    "num_epochs = 5\n",
    "for epoch in range(num_epochs):\n",
    "    train_loss = train(model, train_loader, optimizer, criterion)\n",
    "    print(f'Epoch {epoch+1}, Train Loss: {train_loss:.4f}')\n"
   ]
  },
  {
   "cell_type": "code",
   "execution_count": 19,
   "id": "df336dca",
   "metadata": {},
   "outputs": [],
   "source": [
    "def extract_features(model, loader):\n",
    "    model.eval()\n",
    "    features = []\n",
    "    labels = []\n",
    "    with torch.no_grad():\n",
    "        for texts, label in loader:\n",
    "            feature = model(texts, extract_features=True)\n",
    "            features.append(feature)\n",
    "            labels.append(label)\n",
    "    features = torch.cat(features, 0)\n",
    "    labels = torch.cat(labels, 0)\n",
    "    return features, labels\n",
    "\n",
    "all_features, all_labels = extract_features(model, test_loader)\n"
   ]
  },
  {
   "cell_type": "code",
   "execution_count": 21,
   "id": "aaef539d",
   "metadata": {},
   "outputs": [
    {
     "name": "stdout",
     "output_type": "stream",
     "text": [
      "tensor([[ 0.0051, -0.0065, -0.0327,  ..., -0.0071, -0.0011, -0.0288],\n",
      "        [ 0.0051, -0.0065, -0.0327,  ..., -0.0071, -0.0011, -0.0288],\n",
      "        [ 0.0051, -0.0065, -0.0327,  ..., -0.0071, -0.0011, -0.0288],\n",
      "        ...,\n",
      "        [ 0.0051, -0.0065, -0.0327,  ..., -0.0071, -0.0011, -0.0288],\n",
      "        [ 0.0051, -0.0065, -0.0327,  ..., -0.0071, -0.0011, -0.0288],\n",
      "        [ 0.0051, -0.0065, -0.0327,  ..., -0.0071, -0.0011, -0.0288]])\n"
     ]
    }
   ],
   "source": [
    "print(all_features)"
   ]
  },
  {
   "cell_type": "code",
   "execution_count": null,
   "id": "bf74446f",
   "metadata": {},
   "outputs": [],
   "source": []
  }
 ],
 "metadata": {
  "kernelspec": {
   "display_name": "Python 3 (ipykernel)",
   "language": "python",
   "name": "python3"
  },
  "language_info": {
   "codemirror_mode": {
    "name": "ipython",
    "version": 3
   },
   "file_extension": ".py",
   "mimetype": "text/x-python",
   "name": "python",
   "nbconvert_exporter": "python",
   "pygments_lexer": "ipython3",
   "version": "3.11.4"
  }
 },
 "nbformat": 4,
 "nbformat_minor": 5
}
