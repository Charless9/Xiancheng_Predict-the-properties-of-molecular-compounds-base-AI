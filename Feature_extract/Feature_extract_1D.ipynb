{
 "cells": [
  {
   "cell_type": "code",
   "execution_count": 1,
   "id": "e7d13e3f",
   "metadata": {},
   "outputs": [],
   "source": [
    "import pandas as pd\n",
    "import torch\n",
    "from torch.utils.data import Dataset, DataLoader\n",
    "from torch.nn.utils.rnn import pad_sequence\n",
    "from collections import Counter\n",
    "from sklearn.model_selection import train_test_split\n",
    "import numpy as np"
   ]
  },
  {
   "cell_type": "markdown",
   "id": "a73ff947",
   "metadata": {},
   "source": [
    "# get dadatset and process labels"
   ]
  },
  {
   "cell_type": "code",
   "execution_count": 2,
   "id": "4d3e0a8a",
   "metadata": {},
   "outputs": [],
   "source": [
    "data_path = '../dataset/canonical_trainset.csv'\n",
    "df = pd.read_csv(data_path)\n",
    "\n",
    "smiles = df['SMILES'][:50].tolist()\n",
    "labels = df['Label'][:50].apply(lambda x: 1 if x == 'Positive' else 0).tolist()"
   ]
  },
  {
   "cell_type": "markdown",
   "id": "f4f6e1c3",
   "metadata": {},
   "source": [
    "# preprocess SMILES"
   ]
  },
  {
   "cell_type": "code",
   "execution_count": 3,
   "id": "8790d9e7",
   "metadata": {},
   "outputs": [],
   "source": [
    "class SMILESDataset(Dataset):\n",
    "    def __init__(self, smiles, labels, tokenizer):\n",
    "        self.smiles = smiles\n",
    "        self.labels = labels\n",
    "        self.tokenizer = tokenizer\n",
    "\n",
    "    def __len__(self):\n",
    "        return len(self.smiles)\n",
    "\n",
    "    def __getitem__(self, idx):\n",
    "        smile = self.smiles[idx]\n",
    "        label = self.labels[idx]\n",
    "        encoded_smile = [self.tokenizer['stoi']['<SOS>']] + [self.tokenizer['stoi'].get(c, self.tokenizer['stoi']['<PAD>']) for c in smile] + [self.tokenizer['stoi']['<EOS>']]\n",
    "        return torch.tensor(encoded_smile, dtype=torch.long), torch.tensor(label, dtype=torch.float)\n",
    "\n",
    "# create vocabulary\n",
    "def create_vocab(smiles_list):\n",
    "    counter = Counter()\n",
    "    for smile in smiles_list:\n",
    "        counter.update(smile)\n",
    "    vocab = ['<PAD>', '<SOS>', '<EOS>'] + list(counter.keys())\n",
    "    stoi = {s: i for i, s in enumerate(vocab)}\n",
    "    itos = {i: s for i, s in enumerate(vocab)}\n",
    "    return {'stoi': stoi, 'itos': itos}\n",
    "\n",
    "def collate_fn(batch):\n",
    "    inputs, labels = zip(*batch)\n",
    "    inputs_padded = pad_sequence(inputs, batch_first=True, padding_value=0)\n",
    "    labels_tensor = torch.tensor(labels, dtype=torch.float).unsqueeze(1)  # Reshape for consistency with output\n",
    "    return inputs_padded, labels_tensor\n"
   ]
  },
  {
   "cell_type": "markdown",
   "id": "62ed56a0",
   "metadata": {},
   "source": [
    "# load data"
   ]
  },
  {
   "cell_type": "code",
   "execution_count": 4,
   "id": "c066a0c5",
   "metadata": {},
   "outputs": [],
   "source": [
    "tokenizer = create_vocab(smiles)\n",
    "stoi = tokenizer['stoi']\n",
    "\n",
    "smiles_train, smiles_test, labels_train, labels_test = train_test_split(smiles, labels, test_size=0.2, random_state=42)\n",
    "\n",
    "train_dataset = SMILESDataset(smiles_train, labels_train, tokenizer)\n",
    "test_dataset = SMILESDataset(smiles_test, labels_test, tokenizer)\n",
    "\n",
    "train_loader = DataLoader(train_dataset, batch_size=64, shuffle=True, collate_fn=collate_fn)\n",
    "test_loader = DataLoader(test_dataset, batch_size=64, shuffle=False, collate_fn=collate_fn)\n"
   ]
  },
  {
   "cell_type": "markdown",
   "id": "b80617f0",
   "metadata": {},
   "source": [
    "# Build model"
   ]
  },
  {
   "cell_type": "code",
   "execution_count": 5,
   "id": "3911955b",
   "metadata": {},
   "outputs": [],
   "source": [
    "import torch\n",
    "import torch.nn as nn\n",
    "import torch.optim as optim\n",
    "from torch.utils.data import DataLoader\n",
    "from sklearn.model_selection import train_test_split\n",
    "import pandas as pd\n",
    "\n",
    "class RNNModel(nn.Module):\n",
    "    def __init__(self, input_dim, embed_dim, hidden_dim, output_dim):\n",
    "        super(RNNModel, self).__init__()\n",
    "        self.embedding = nn.Embedding(input_dim, embed_dim)\n",
    "        self.lstm = nn.LSTM(embed_dim, hidden_dim, batch_first=True)\n",
    "        self.fc = nn.Linear(hidden_dim, output_dim)\n",
    "        self.sigmoid = nn.Sigmoid()\n",
    "        \n",
    "    def forward(self, text, extract_features=False):\n",
    "        embedded = self.embedding(text)\n",
    "        output, (hidden, _) = self.lstm(embedded)\n",
    "        if extract_features:\n",
    "            return hidden.squeeze(0) # extract feature\n",
    "        hidden = hidden.squeeze(0)\n",
    "        dense_outputs = self.fc(hidden)\n",
    "        outputs = self.sigmoid(dense_outputs)\n",
    "        return outputs"
   ]
  },
  {
   "cell_type": "markdown",
   "id": "2d290648",
   "metadata": {},
   "source": [
    "# train and evaluate model"
   ]
  },
  {
   "cell_type": "code",
   "execution_count": 6,
   "id": "aa41c848",
   "metadata": {},
   "outputs": [
    {
     "name": "stdout",
     "output_type": "stream",
     "text": [
      "21\n",
      "Epoch: 1/10, Train Loss: 0.6257, Train Acc: 0.9500, Val Loss: 0.5005, Val Acc: 1.0000\n",
      "Epoch: 2/10, Train Loss: 0.4844, Train Acc: 0.9500, Val Loss: 0.3924, Val Acc: 1.0000\n",
      "Epoch: 3/10, Train Loss: 0.3650, Train Acc: 0.9500, Val Loss: 0.2998, Val Acc: 1.0000\n",
      "Epoch: 4/10, Train Loss: 0.2638, Train Acc: 0.9500, Val Loss: 0.2268, Val Acc: 1.0000\n",
      "Epoch: 5/10, Train Loss: 0.1852, Train Acc: 0.9500, Val Loss: 0.1789, Val Acc: 1.0000\n",
      "Epoch: 6/10, Train Loss: 0.1356, Train Acc: 0.9500, Val Loss: 0.1532, Val Acc: 1.0000\n",
      "Epoch: 7/10, Train Loss: 0.1113, Train Acc: 0.9500, Val Loss: 0.1409, Val Acc: 1.0000\n",
      "Epoch: 8/10, Train Loss: 0.1015, Train Acc: 0.9500, Val Loss: 0.1354, Val Acc: 1.0000\n",
      "Epoch: 9/10, Train Loss: 0.0978, Train Acc: 0.9500, Val Loss: 0.1337, Val Acc: 1.0000\n",
      "Epoch: 10/10, Train Loss: 0.0961, Train Acc: 0.9500, Val Loss: 0.1347, Val Acc: 1.0000\n"
     ]
    }
   ],
   "source": [
    "input_dim = len(stoi)\n",
    "print(input_dim)\n",
    "embed_dim = 64\n",
    "hidden_dim = 256\n",
    "output_dim = 1\n",
    "\n",
    "model = RNNModel(input_dim, embed_dim, hidden_dim, output_dim)\n",
    "\n",
    "criterion = nn.BCELoss()\n",
    "optimizer = optim.Adam(model.parameters())\n",
    "\n",
    "def train(model, train_loader, optimizer, criterion):\n",
    "    model.train()\n",
    "    total_loss = 0\n",
    "    total_correct = 0\n",
    "    total = 0\n",
    "    \n",
    "    for texts, labels in train_loader:\n",
    "        optimizer.zero_grad()\n",
    "        predictions = model(texts)\n",
    "        loss = criterion(predictions, labels)  \n",
    "        loss.backward()\n",
    "        optimizer.step()\n",
    "        \n",
    "        total_loss += loss.item()\n",
    "        predicted = (predictions >= 0.5).float()\n",
    "        total_correct += (predicted == labels).sum().item()\n",
    "        total += labels.size(0)\n",
    "    \n",
    "    average_loss = total_loss / len(train_loader)\n",
    "    accuracy = total_correct / total\n",
    "    return average_loss, accuracy\n",
    "\n",
    "def evaluate(model, test_loader, criterion):\n",
    "    model.eval()\n",
    "    total_loss = 0\n",
    "    total_correct = 0\n",
    "    total = 0\n",
    "    \n",
    "    with torch.no_grad():\n",
    "        for texts, labels in test_loader:\n",
    "            predictions = model(texts)\n",
    "            loss = criterion(predictions, labels) \n",
    "            total_loss += loss.item()\n",
    "            predicted = (predictions >= 0.5).float()\n",
    "            total_correct += (predicted == labels).sum().item() \n",
    "            total += labels.size(0)\n",
    "    \n",
    "    average_loss = total_loss / len(test_loader)\n",
    "    accuracy = total_correct / total\n",
    "    return average_loss, accuracy\n",
    "\n",
    "\n",
    "best_val_accuracy = 0\n",
    "num_epochs=10\n",
    "\n",
    "for epoch in range(num_epochs):\n",
    "    train_loss, train_accuracy = train(model, train_loader, optimizer, criterion)\n",
    "    val_loss, val_accuracy = evaluate(model, test_loader, criterion)\n",
    "    \n",
    "    print(f'Epoch: {epoch+1}/{num_epochs}, Train Loss: {train_loss:.4f}, Train Acc: {train_accuracy:.4f}, Val Loss: {val_loss:.4f}, Val Acc: {val_accuracy:.4f}')\n",
    "    \n",
    "    if val_accuracy > best_val_accuracy:\n",
    "        best_val_accuracy = val_accuracy\n",
    "        torch.save(model.state_dict(), 'best1_model.pth')\n",
    "\n"
   ]
  },
  {
   "cell_type": "markdown",
   "id": "11306341",
   "metadata": {},
   "source": [
    "# extract features"
   ]
  },
  {
   "cell_type": "code",
   "execution_count": 7,
   "id": "2295f705",
   "metadata": {},
   "outputs": [],
   "source": [
    "import numpy as np\n",
    "import torch\n",
    "from torch.utils.data import DataLoader\n",
    "\n",
    "def extract_features_1d(model, iterator):\n",
    "    model.eval()\n",
    "    features = []\n",
    "    all_labels = [] \n",
    "    with torch.no_grad():\n",
    "        for texts, labels in iterator:\n",
    "            feature = model(texts, extract_features=True)\n",
    "            features.append(feature.cpu().numpy())  \n",
    "            all_labels.append(labels.cpu().numpy()) \n",
    "    features = np.concatenate(features, axis=0)\n",
    "    all_labels = np.concatenate(all_labels, axis=0)\n",
    "    return features, all_labels\n"
   ]
  },
  {
   "cell_type": "code",
   "execution_count": 8,
   "id": "25910a76",
   "metadata": {},
   "outputs": [],
   "source": [
    "model.load_state_dict(torch.load('best1_model.pth'))\n",
    "all_dataset = SMILESDataset(smiles, labels, tokenizer)\n",
    "all_data_loader = DataLoader(all_dataset, batch_size=64, shuffle=False, collate_fn=collate_fn)\n",
    "all_features, all_labels = extract_features_1d(model, all_data_loader)"
   ]
  },
  {
   "cell_type": "code",
   "execution_count": 9,
   "id": "8070c4d2",
   "metadata": {},
   "outputs": [
    {
     "name": "stdout",
     "output_type": "stream",
     "text": [
      "(50, 256)\n",
      "(50, 1)\n"
     ]
    }
   ],
   "source": [
    "print(all_features.shape)\n",
    "print(all_labels.shape)"
   ]
  },
  {
   "cell_type": "code",
   "execution_count": null,
   "id": "f053645a",
   "metadata": {},
   "outputs": [],
   "source": []
  }
 ],
 "metadata": {
  "kernelspec": {
   "display_name": "Python 3 (ipykernel)",
   "language": "python",
   "name": "python3"
  },
  "language_info": {
   "codemirror_mode": {
    "name": "ipython",
    "version": 3
   },
   "file_extension": ".py",
   "mimetype": "text/x-python",
   "name": "python",
   "nbconvert_exporter": "python",
   "pygments_lexer": "ipython3",
   "version": "3.11.4"
  }
 },
 "nbformat": 4,
 "nbformat_minor": 5
}
