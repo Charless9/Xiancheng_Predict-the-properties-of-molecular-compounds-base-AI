{
 "cells": [
  {
   "cell_type": "code",
   "execution_count": 1,
   "id": "2f3a4397",
   "metadata": {},
   "outputs": [],
   "source": [
    "import numpy as np\n",
    "import pandas as pd\n",
    "import torch\n",
    "from torch.utils.data import DataLoader, TensorDataset\n",
    "from torch_geometric.data import DataLoader as GeometricDataLoader\n",
    "\n",
    "import os\n",
    "import sys\n",
    "import nbimporter\n",
    "\n",
    "project_root = os.path.join(os.getcwd(), '..')\n",
    "sys.path.append(project_root)\n",
    "\n",
    "from datapreparation.Process_1D_data import *\n",
    "from datapreparation.Process_graph_2d_data import *\n",
    "from datapreparation.Process_graph_3d_data import *\n",
    "from datapreparation.Process_mlp_data import *\n",
    "from cv_strategies.train_cv_strategy_123D import get_data_label"
   ]
  },
  {
   "cell_type": "code",
   "execution_count": 2,
   "id": "28f3dfaa",
   "metadata": {},
   "outputs": [],
   "source": [
    "import numpy as np\n",
    "\n",
    "def extract_features(model, loader, device, data_type):\n",
    "    model.eval()  \n",
    "    features = []\n",
    "    all_labels = []\n",
    "    \n",
    "    with torch.no_grad():\n",
    "\n",
    "        for data in loader:\n",
    "            inputs, labels = get_data_label(data, data_type, device)\n",
    "            if inputs is None or labels is None:\n",
    "                raise ValueError(f\"Unsupported data type: {data_type}\")\n",
    "            \n",
    "            output_features = model(inputs, extract_features=True)\n",
    "            \n",
    "            features.append(output_features.cpu().numpy())\n",
    "            all_labels.append(labels.cpu().numpy())\n",
    "\n",
    "    features = np.concatenate(features, axis=0)\n",
    "    all_labels = np.concatenate(all_labels, axis=0)\n",
    "    \n",
    "    return features, all_labels\n"
   ]
  },
  {
   "cell_type": "markdown",
   "id": "876c4132",
   "metadata": {},
   "source": [
    "# Preprocess for feature extraction"
   ]
  },
  {
   "cell_type": "code",
   "execution_count": 3,
   "id": "a1a4c38c",
   "metadata": {},
   "outputs": [],
   "source": [
    "def integrated_feature_extraction(data_type, model, model_path, smiles_df, device, batch_size, tokenizer, atom_numbers,mode='test',Preprocess=None,scale_path=None):\n",
    "    \n",
    "    model.load_state_dict(torch.load(model_path))\n",
    "    model.to(device)\n",
    "        \n",
    "    if data_type == '1d':\n",
    "        smiles_list = smiles_df['SMILES'].tolist()\n",
    "        labels = smiles_df['Label'].apply(lambda x: 1 if x == 'Positive' else 0).tolist()\n",
    "        all_dataset = SMILESDataset(smiles_list, labels, tokenizer)\n",
    "        all_data_loader = DataLoader(all_dataset, batch_size=batch_size, shuffle=False, collate_fn=collate_fn)\n",
    "    elif data_type == '2d':\n",
    "        smiles_list = smiles_df[\"SMILES\"].values\n",
    "        labels = smiles_df['Label'].values\n",
    "        graph_data_2d = preprocess_2d_graph_data(smiles_list, labels, atom_numbers)\n",
    "        torch_graph_data_list = get_torch_graph_data_list(graph_data_2d,mode, Preprocess, scale_path)\n",
    "        all_data_loader = GeometricDataLoader(torch_graph_data_list, batch_size=batch_size, shuffle=True)\n",
    "    elif data_type == '3d':\n",
    "        smiles_list = smiles_df[\"SMILES\"].values\n",
    "        labels = smiles_df['Label'].values\n",
    "        graph_data_3d = preprocess_3d_graph(smiles_list, labels, atom_numbers)\n",
    "        torch_graph_data_list = get_torch_graph_data_list(graph_data_3d,mode, Preprocess, scale_path)\n",
    "        all_data_loader = GeometricDataLoader(torch_graph_data_list, batch_size=batch_size, shuffle=True)\n",
    "\n",
    "    # Extract features\n",
    "    all_features, all_labels = extract_features(model, all_data_loader, device, data_type)\n",
    "\n",
    "    return all_features, all_labels\n"
   ]
  }
 ],
 "metadata": {
  "kernelspec": {
   "display_name": "Python 3 (ipykernel)",
   "language": "python",
   "name": "python3"
  },
  "language_info": {
   "codemirror_mode": {
    "name": "ipython",
    "version": 3
   },
   "file_extension": ".py",
   "mimetype": "text/x-python",
   "name": "python",
   "nbconvert_exporter": "python",
   "pygments_lexer": "ipython3",
   "version": "3.11.4"
  }
 },
 "nbformat": 4,
 "nbformat_minor": 5
}
