{
 "cells": [
  {
   "cell_type": "code",
   "execution_count": 6,
   "id": "d7e203b2",
   "metadata": {},
   "outputs": [],
   "source": [
    "import torch\n",
    "import torch.nn as nn\n",
    "import torch.optim as optim\n",
    "from torch.utils.data import TensorDataset, DataLoader\n",
    "from sklearn.preprocessing import StandardScaler\n",
    "from sklearn.model_selection import train_test_split\n",
    "import numpy as np\n",
    "import pandas as pd"
   ]
  },
  {
   "cell_type": "code",
   "execution_count": 7,
   "id": "76f8b773",
   "metadata": {},
   "outputs": [],
   "source": [
    "canonical_file=\"../dataset/canonical_trainset.csv\"\n",
    "canonical_smiles_df=pd.read_csv(canonical_file)"
   ]
  },
  {
   "cell_type": "code",
   "execution_count": 8,
   "id": "df8e5a2c",
   "metadata": {},
   "outputs": [],
   "source": [
    "smiles_1d = canonical_smiles_df['SMILES'][:50].tolist()\n",
    "labels_1d = canonical_smiles_df['Label'][:50].apply(lambda x: 1 if x == 'Positive' else 0).tolist()"
   ]
  },
  {
   "cell_type": "code",
   "execution_count": 9,
   "id": "5073690e",
   "metadata": {},
   "outputs": [],
   "source": [
    "import os\n",
    "import sys\n",
    "import nbimporter\n",
    "\n",
    "project_root = os.path.join(os.getcwd(), '..')\n",
    "sys.path.append(project_root)\n",
    "\n",
    "from Feature_extract.Feature_extract_1D import *\n",
    "from datapreparation import Data_Processing_2D as nb2\n",
    "from Feature_extract.Feature_extract_2D import *\n",
    "from datapreparation import Data_Processing_3D as nb3\n",
    "from Feature_extract.Feature_extract_3D import *\n",
    "from Feature_extract.Feature_extract_2D import get_torch_graph_data_list\n",
    "from torch_geometric.loader import DataLoader as GeometricDataLoader\n",
    "from torch_geometric.data import Data"
   ]
  },
  {
   "cell_type": "code",
   "execution_count": 10,
   "id": "519449f7",
   "metadata": {},
   "outputs": [
    {
     "data": {
      "text/plain": [
       "<All keys matched successfully>"
      ]
     },
     "execution_count": 10,
     "metadata": {},
     "output_type": "execute_result"
    }
   ],
   "source": [
    "model_1d = RNNModel(21, 64, 256, 1)\n",
    "model_2d = GCN(12)\n",
    "model_3d = Simple3DCNN()\n",
    "\n",
    "model_1d.load_state_dict(torch.load('../Feature_extract/best1_model.pth',map_location=torch.device('cpu')))\n",
    "model_2d.load_state_dict(torch.load('../Feature_extract/best2_model.pth',map_location=torch.device('cpu')))\n",
    "model_3d.load_state_dict(torch.load('../Feature_extract/best3_model.pth',map_location=torch.device('cpu')))\n"
   ]
  },
  {
   "cell_type": "code",
   "execution_count": 11,
   "id": "da16a992",
   "metadata": {},
   "outputs": [],
   "source": [
    "# 1D\n",
    "tokenizer_1d = create_vocab(smiles_1d)\n",
    "all_dataset_1d = SMILESDataset(smiles_1d, labels_1d, tokenizer_1d)\n",
    "all_data_loader_1d = DataLoader(all_dataset_1d, batch_size=4, shuffle=False, collate_fn=collate_fn)\n",
    "all_features_1d, all_labels_1d = extract_features_1d(model_1d, all_data_loader_1d)"
   ]
  },
  {
   "cell_type": "code",
   "execution_count": 12,
   "id": "e86f6617",
   "metadata": {},
   "outputs": [],
   "source": [
    "# 2D\n",
    "graph_data_2d = nb2.preprocess_smiles_with_labels(canonical_smiles_df[\"SMILES\"][:50].values, canonical_smiles_df[\"Label\"][:50].values)\n",
    "torch_graph_data_list = get_torch_graph_data_list(graph_data_2d)\n",
    "\n",
    "all_loader_2d = GeometricDataLoader(torch_graph_data_list, batch_size=4, shuffle=False)\n",
    "all_features_2d, all_labels_2d = extract_features_2d(model_2d, all_loader_2d)"
   ]
  },
  {
   "cell_type": "code",
   "execution_count": 13,
   "id": "1fd90bdb",
   "metadata": {},
   "outputs": [],
   "source": [
    "# 3D\n",
    "graph_data_3d = nb3.preprocess_smiles_with_labels_3d(canonical_smiles_df[\"SMILES\"][:50].values, canonical_smiles_df[\"Label\"][:50].values)\n",
    "voxels_3d = np.array([item['voxels'] for item in graph_data_3d])  \n",
    "labels_3d = np.array([item['label'] for item in graph_data_3d])  \n",
    "voxels_3d = torch.tensor(voxels_3d, dtype=torch.float).unsqueeze(1)\n",
    "labels_3d = torch.tensor(labels_3d, dtype=torch.long)\n",
    "all_loader_3d = DataLoader(TensorDataset(voxels_3d, labels_3d), batch_size=4, shuffle=False)\n",
    "all_features_3d, all_labels_3d = extract_features_3d(model_3d, all_loader_3d)"
   ]
  },
  {
   "cell_type": "code",
   "execution_count": 14,
   "id": "d5b91db5",
   "metadata": {},
   "outputs": [
    {
     "name": "stdout",
     "output_type": "stream",
     "text": [
      "(50, 256) (50, 1)\n",
      "(50, 32) (50,)\n",
      "(50, 128) (50,)\n"
     ]
    }
   ],
   "source": [
    "print(all_features_1d.shape, all_labels_1d.shape)\n",
    "print(all_features_2d.shape, all_labels_2d.shape)\n",
    "print(all_features_3d.shape, all_labels_3d.shape)"
   ]
  },
  {
   "cell_type": "code",
   "execution_count": 23,
   "id": "03ba82fc",
   "metadata": {},
   "outputs": [],
   "source": [
    "fused_features = np.concatenate([all_features_1d, all_features_2d, all_features_3d], axis=1)\n",
    "labels = all_labels_1d.ravel()\n",
    "\n",
    "scaler = StandardScaler()\n",
    "fused_features = scaler.fit_transform(fused_features)\n",
    "\n",
    "features_train, features_test, labels_train, labels_test = train_test_split(fused_features, labels, test_size=0.2, random_state=42)\n",
    "\n",
    "features_train = torch.tensor(features_train, dtype=torch.float32)\n",
    "features_test = torch.tensor(features_test, dtype=torch.float32)\n",
    "labels_train = torch.tensor(labels_train, dtype=torch.long)\n",
    "labels_test = torch.tensor(labels_test, dtype=torch.long)\n",
    "\n",
    "train_dataset = TensorDataset(features_train, labels_train)\n",
    "test_dataset = TensorDataset(features_test, labels_test)\n",
    "train_loader = DataLoader(train_dataset, batch_size=64, shuffle=True)\n",
    "test_loader = DataLoader(test_dataset, batch_size=64, shuffle=False)"
   ]
  },
  {
   "cell_type": "code",
   "execution_count": 24,
   "id": "23fd3696",
   "metadata": {},
   "outputs": [],
   "source": [
    "class MLP(nn.Module):\n",
    "    def __init__(self, input_size, hidden_size, num_classes):\n",
    "        super(MLP, self).__init__()\n",
    "        self.fc1 = nn.Linear(input_size, hidden_size)\n",
    "        self.relu = nn.ReLU()\n",
    "        self.fc2 = nn.Linear(hidden_size, num_classes)\n",
    "        \n",
    "    def forward(self, x):\n",
    "        out = self.fc1(x)\n",
    "        out = self.relu(out)\n",
    "        out = self.fc2(out)\n",
    "        return out"
   ]
  },
  {
   "cell_type": "code",
   "execution_count": 25,
   "id": "78808093",
   "metadata": {},
   "outputs": [
    {
     "name": "stdout",
     "output_type": "stream",
     "text": [
      "Epoch 1: Train Loss: 0.7612, Train Acc: 0.1750, Validation Loss: 0.5686, Validation Acc: 1.0000\n",
      "Epoch 2: Train Loss: 0.5861, Train Acc: 0.9000, Validation Loss: 0.4354, Validation Acc: 1.0000\n",
      "Epoch 3: Train Loss: 0.4658, Train Acc: 0.9250, Validation Loss: 0.3423, Validation Acc: 1.0000\n",
      "Epoch 4: Train Loss: 0.3817, Train Acc: 1.0000, Validation Loss: 0.2678, Validation Acc: 1.0000\n",
      "Epoch 5: Train Loss: 0.3156, Train Acc: 1.0000, Validation Loss: 0.2060, Validation Acc: 1.0000\n",
      "Epoch 6: Train Loss: 0.2620, Train Acc: 0.9750, Validation Loss: 0.1558, Validation Acc: 1.0000\n",
      "Epoch 7: Train Loss: 0.2189, Train Acc: 0.9500, Validation Loss: 0.1167, Validation Acc: 1.0000\n",
      "Epoch 8: Train Loss: 0.1854, Train Acc: 0.9500, Validation Loss: 0.0870, Validation Acc: 1.0000\n",
      "Epoch 9: Train Loss: 0.1598, Train Acc: 0.9500, Validation Loss: 0.0654, Validation Acc: 1.0000\n",
      "Epoch 10: Train Loss: 0.1398, Train Acc: 0.9500, Validation Loss: 0.0499, Validation Acc: 1.0000\n"
     ]
    }
   ],
   "source": [
    "fused_dim = fused_features.shape[1]\n",
    "model = MLP(input_size=fused_dim, hidden_size=100, num_classes=2)\n",
    "optimizer = optim.Adam(model.parameters(), lr=0.001)\n",
    "criterion = nn.CrossEntropyLoss()\n",
    "\n",
    "\n",
    "def train(model, train_loader, optimizer, criterion):\n",
    "    model.train()\n",
    "    total_loss = 0\n",
    "    correct = 0\n",
    "    total = 0\n",
    "    for data, labels in train_loader:\n",
    "        optimizer.zero_grad()\n",
    "        outputs = model(data)\n",
    "        loss = criterion(outputs, labels)\n",
    "        loss.backward()\n",
    "        optimizer.step()\n",
    "        total_loss += loss.item()\n",
    "        \n",
    "        _, predicted = torch.max(outputs.data, 1)\n",
    "        total += labels.size(0)\n",
    "        correct += (predicted == labels).sum().item()\n",
    "    \n",
    "    avg_loss = total_loss / len(train_loader)\n",
    "    accuracy = correct / total\n",
    "    return avg_loss, accuracy\n",
    "\n",
    "def evaluate(model, test_loader, criterion):\n",
    "    model.eval()\n",
    "    total_loss = 0\n",
    "    correct = 0\n",
    "    total = 0\n",
    "    with torch.no_grad():\n",
    "        for data, labels in test_loader:\n",
    "            outputs = model(data)\n",
    "            loss = criterion(outputs, labels)\n",
    "            total_loss += loss.item()\n",
    "            \n",
    "            _, predicted = torch.max(outputs.data, 1)\n",
    "            total += labels.size(0)\n",
    "            correct += (predicted == labels).sum().item()\n",
    "    \n",
    "    avg_loss = total_loss / len(test_loader)\n",
    "    accuracy = correct / total\n",
    "    return avg_loss, accuracy\n",
    "\n",
    "num_epochs = 10  \n",
    "for epoch in range(num_epochs):\n",
    "    train_loss, train_accuracy = train(model, train_loader, optimizer, criterion)\n",
    "    val_loss, val_accuracy = evaluate(model, test_loader, criterion)\n",
    "    print(f'Epoch {epoch+1}: Train Loss: {train_loss:.4f}, Train Acc: {train_accuracy:.4f}, Validation Loss: {val_loss:.4f}, Validation Acc: {val_accuracy:.4f}')\n"
   ]
  },
  {
   "cell_type": "code",
   "execution_count": null,
   "id": "eaec672a",
   "metadata": {},
   "outputs": [],
   "source": []
  }
 ],
 "metadata": {
  "kernelspec": {
   "display_name": "Python 3 (ipykernel)",
   "language": "python",
   "name": "python3"
  },
  "language_info": {
   "codemirror_mode": {
    "name": "ipython",
    "version": 3
   },
   "file_extension": ".py",
   "mimetype": "text/x-python",
   "name": "python",
   "nbconvert_exporter": "python",
   "pygments_lexer": "ipython3",
   "version": "3.11.4"
  }
 },
 "nbformat": 4,
 "nbformat_minor": 5
}
